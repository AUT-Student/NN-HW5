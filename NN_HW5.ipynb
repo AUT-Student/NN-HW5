{
  "cells": [
    {
      "cell_type": "markdown",
      "metadata": {
        "id": "view-in-github",
        "colab_type": "text"
      },
      "source": [
        "<a href=\"https://colab.research.google.com/github/AUT-Student/NN-HW5/blob/main/NN_HW5.ipynb\" target=\"_parent\"><img src=\"https://colab.research.google.com/assets/colab-badge.svg\" alt=\"Open In Colab\"/></a>"
      ]
    },
    {
      "cell_type": "markdown",
      "metadata": {
        "id": "PXi3EMtBmo2y"
      },
      "source": [
        "# Libraries"
      ]
    },
    {
      "cell_type": "code",
      "execution_count": 1,
      "metadata": {
        "id": "Gc0siDpwmJXX"
      },
      "outputs": [],
      "source": [
        "import numpy as np\n",
        "import matplotlib.pyplot as plt\n",
        "import pandas as pd\n",
        "from sklearn.utils import shuffle\n",
        "from sklearn.metrics import confusion_matrix\n",
        "\n",
        "import tensorflow as tf\n",
        "import tensorflow.keras as keras\n",
        "from keras.layers import Dense, Input, RNN\n",
        "import keras.backend as K\n",
        "from keras.models import Sequential\n",
        "from keras.callbacks import EarlyStopping"
      ]
    },
    {
      "cell_type": "markdown",
      "metadata": {
        "id": "Ru6GOwOPm0de"
      },
      "source": [
        "# Dataset"
      ]
    },
    {
      "cell_type": "code",
      "execution_count": 2,
      "metadata": {
        "colab": {
          "base_uri": "https://localhost:8080/"
        },
        "id": "9fZrU7N-cRwv",
        "outputId": "0a38708e-4c08-4038-c760-5a414569e4fb"
      },
      "outputs": [
        {
          "output_type": "stream",
          "name": "stdout",
          "text": [
            "Downloading...\n",
            "From: https://archive.ics.uci.edu/ml/machine-learning-databases/robotfailure-mld/lp1.data\n",
            "To: /content/lp1.data\n",
            "100% 27.3k/27.3k [00:00<00:00, 488kB/s]\n",
            "Downloading...\n",
            "From: https://archive.ics.uci.edu/ml/machine-learning-databases/robotfailure-mld/lp2.data\n",
            "To: /content/lp2.data\n",
            "100% 14.6k/14.6k [00:00<00:00, 257kB/s]\n",
            "Downloading...\n",
            "From: https://archive.ics.uci.edu/ml/machine-learning-databases/robotfailure-mld/lp3.data\n",
            "To: /content/lp3.data\n",
            "100% 14.5k/14.5k [00:00<00:00, 267kB/s]\n",
            "Downloading...\n",
            "From: https://archive.ics.uci.edu/ml/machine-learning-databases/robotfailure-mld/lp4.data\n",
            "To: /content/lp4.data\n",
            "100% 33.6k/33.6k [00:00<00:00, 570kB/s]\n",
            "Downloading...\n",
            "From: https://archive.ics.uci.edu/ml/machine-learning-databases/robotfailure-mld/lp5.data\n",
            "To: /content/lp5.data\n",
            "100% 49.2k/49.2k [00:00<00:00, 394kB/s]\n"
          ]
        }
      ],
      "source": [
        "!gdown https://archive.ics.uci.edu/ml/machine-learning-databases/robotfailure-mld/lp1.data\n",
        "!gdown https://archive.ics.uci.edu/ml/machine-learning-databases/robotfailure-mld/lp2.data\n",
        "!gdown https://archive.ics.uci.edu/ml/machine-learning-databases/robotfailure-mld/lp3.data\n",
        "!gdown https://archive.ics.uci.edu/ml/machine-learning-databases/robotfailure-mld/lp4.data\n",
        "!gdown https://archive.ics.uci.edu/ml/machine-learning-databases/robotfailure-mld/lp5.data"
      ]
    },
    {
      "cell_type": "code",
      "execution_count": 3,
      "metadata": {
        "id": "zk3z9sDjk1DB"
      },
      "outputs": [],
      "source": [
        "normal_label_datasets = [\"normal\",\"normal\",\"ok\",\"normal\",\"normal\"]\n",
        "\n",
        "dataset_x = []\n",
        "dataset_y = []\n",
        "for i in range(5):\n",
        "  normal_label = normal_label_datasets[i]\n",
        "  dataset_i = pd.read_csv(f\"/content/lp{i+1}.data\", header=None)\n",
        "  \n",
        "  new_label = None\n",
        "  new_data = None\n",
        "\n",
        "  for j, row in dataset_i.iterrows():\n",
        "    if j%16==0:\n",
        "      new_data = []\n",
        "      \n",
        "      if row[0] == normal_label:\n",
        "         new_label = 0\n",
        "      else:\n",
        "         new_label = 1\n",
        "\n",
        "    else:\n",
        "      new_data.append([float(item) for item in row[0].split()])\n",
        "\n",
        "      if j%16==15:\n",
        "        dataset_x.append(new_data)\n",
        "        dataset_y.append(new_label)"
      ]
    },
    {
      "cell_type": "code",
      "execution_count": 4,
      "metadata": {
        "id": "t-rxihHJ1bRd"
      },
      "outputs": [],
      "source": [
        "dataset_x, dataset_y = shuffle(dataset_x, dataset_y, random_state=0)"
      ]
    },
    {
      "cell_type": "code",
      "source": [
        "dataset_len = len(dataset_x)"
      ],
      "metadata": {
        "id": "PzmPI7WuNFOl"
      },
      "execution_count": 5,
      "outputs": []
    },
    {
      "cell_type": "code",
      "source": [
        "train_x = dataset_x[:int(0.7*dataset_len)]\n",
        "train_y = dataset_y[:int(0.7*dataset_len)]\n",
        "\n",
        "valid_x = dataset_x[int(0.7*dataset_len):int(0.8*dataset_len)]\n",
        "valid_y = dataset_y[int(0.7*dataset_len):int(0.8*dataset_len)]\n",
        "\n",
        "test_x = dataset_x[int(0.8*dataset_len):]\n",
        "test_y = dataset_y[int(0.8*dataset_len):]"
      ],
      "metadata": {
        "id": "_kEyj76QNRJL"
      },
      "execution_count": 6,
      "outputs": []
    },
    {
      "cell_type": "code",
      "execution_count": 7,
      "metadata": {
        "id": "NAhjOIWH9O8B",
        "colab": {
          "base_uri": "https://localhost:8080/"
        },
        "outputId": "96d0ca2f-73c2-4853-da11-dfbc40f65e05"
      },
      "outputs": [
        {
          "output_type": "execute_result",
          "data": {
            "text/plain": [
              "71.60493827160494"
            ]
          },
          "metadata": {},
          "execution_count": 7
        }
      ],
      "source": [
        "sum(train_y) * 100 / len(train_y)"
      ]
    },
    {
      "cell_type": "code",
      "source": [
        "sum(test_y) * 100 / len(test_y)"
      ],
      "metadata": {
        "colab": {
          "base_uri": "https://localhost:8080/"
        },
        "id": "zZmucDcURl4G",
        "outputId": "9031757f-833d-421c-8bcf-eefa4186876d"
      },
      "execution_count": 8,
      "outputs": [
        {
          "output_type": "execute_result",
          "data": {
            "text/plain": [
              "77.41935483870968"
            ]
          },
          "metadata": {},
          "execution_count": 8
        }
      ]
    },
    {
      "cell_type": "markdown",
      "source": [
        "# Elman"
      ],
      "metadata": {
        "id": "GBqq6rPr9eQK"
      }
    },
    {
      "cell_type": "code",
      "source": [
        "class ElmanCell(keras.layers.Layer):\n",
        "  # Refrences: https://github.com/keras-team/keras/blob/v2.9.0/keras/layers/rnn/base_rnn.py#L36-L862\n",
        "  # Refrences: https://github.com/keras-team/keras/blob/v2.9.0/keras/layers/rnn/simple_rnn.py#L242-L492\n",
        "\n",
        "  def __init__(self, units):\n",
        "      super().__init__()\n",
        "      self.units = units\n",
        "      self.state_size = units\n",
        "\n",
        "  def build(self, input_shape):\n",
        "      self.kernel = self.add_weight(shape=(input_shape[-1], self.units), initializer=\"glorot_uniform\", name=\"kernel\")\n",
        "      self.recurrent_kernel = self.add_weight(shape=(self.units, self.units), initializer=\"orthogonal\", name=\"recurrent_kernel\")\n",
        "      self.bias = self.add_weight(shape=(self.units), initializer=\"zeros\", name=\"bias\")\n",
        "      self.built = True\n",
        "\n",
        "  def call(self, inputs, states):\n",
        "      previous_hidden = states[0]\n",
        "      current_hidden = K.dot(inputs, self.kernel) + K.dot(previous_hidden, self.recurrent_kernel)\n",
        "      current_hidden = K.bias_add(current_hidden, self.bias)\n",
        "\n",
        "      current_hidden = K.sigmoid(current_hidden)\n",
        "      return current_hidden, [current_hidden]"
      ],
      "metadata": {
        "id": "hy9gB9Pi4yZE"
      },
      "execution_count": 9,
      "outputs": []
    },
    {
      "cell_type": "code",
      "source": [
        "class ElmanNetwork(keras.Model):\n",
        "  def __init__(self, cell_number):\n",
        "    super().__init__()\n",
        "    self.model = Sequential([\n",
        "                             Input((15,6,)),\n",
        "                             RNN(ElmanCell(cell_number)),\n",
        "                             Dense(2, activation=\"softmax\")\n",
        "                            ])\n",
        "  def call(self, inputs):\n",
        "    return self.model.call(inputs)"
      ],
      "metadata": {
        "id": "mT5C85LeONuV"
      },
      "execution_count": 10,
      "outputs": []
    },
    {
      "cell_type": "code",
      "source": [
        "elman = ElmanNetwork(64)"
      ],
      "metadata": {
        "id": "6Ua5-KUtTW77"
      },
      "execution_count": 27,
      "outputs": []
    },
    {
      "cell_type": "code",
      "source": [
        "elman.compile(optimizer=keras.optimizers.Adam(learning_rate=0.001), loss=\"sparse_categorical_crossentropy\", metrics=[\"accuracy\"])"
      ],
      "metadata": {
        "id": "4jCYgg2a7op6"
      },
      "execution_count": 28,
      "outputs": []
    },
    {
      "cell_type": "code",
      "source": [
        "elman.fit(x=train_x, y=train_y, epochs=100, batch_size=16, validation_data=(valid_x, valid_y))"
      ],
      "metadata": {
        "colab": {
          "base_uri": "https://localhost:8080/"
        },
        "id": "IW6cvny27_5X",
        "outputId": "3cab59f7-3ad1-444f-8330-08868e6f1915"
      },
      "execution_count": 29,
      "outputs": [
        {
          "output_type": "stream",
          "name": "stdout",
          "text": [
            "Epoch 1/100\n",
            "21/21 [==============================] - 3s 24ms/step - loss: 0.5801 - accuracy: 0.6574 - val_loss: 0.5586 - val_accuracy: 0.6304\n",
            "Epoch 2/100\n",
            "21/21 [==============================] - 0s 9ms/step - loss: 0.4517 - accuracy: 0.7346 - val_loss: 0.5308 - val_accuracy: 0.5435\n",
            "Epoch 3/100\n",
            "21/21 [==============================] - 0s 9ms/step - loss: 0.4174 - accuracy: 0.7778 - val_loss: 0.5127 - val_accuracy: 0.5652\n",
            "Epoch 4/100\n",
            "21/21 [==============================] - 0s 9ms/step - loss: 0.3940 - accuracy: 0.8086 - val_loss: 0.4926 - val_accuracy: 0.6522\n",
            "Epoch 5/100\n",
            "21/21 [==============================] - 0s 7ms/step - loss: 0.3751 - accuracy: 0.8117 - val_loss: 0.4884 - val_accuracy: 0.6957\n",
            "Epoch 6/100\n",
            "21/21 [==============================] - 0s 8ms/step - loss: 0.3576 - accuracy: 0.8272 - val_loss: 0.4740 - val_accuracy: 0.6957\n",
            "Epoch 7/100\n",
            "21/21 [==============================] - 0s 8ms/step - loss: 0.3467 - accuracy: 0.8364 - val_loss: 0.4655 - val_accuracy: 0.7174\n",
            "Epoch 8/100\n",
            "21/21 [==============================] - 0s 8ms/step - loss: 0.3368 - accuracy: 0.8302 - val_loss: 0.4617 - val_accuracy: 0.7174\n",
            "Epoch 9/100\n",
            "21/21 [==============================] - 0s 9ms/step - loss: 0.3281 - accuracy: 0.8302 - val_loss: 0.4519 - val_accuracy: 0.6739\n",
            "Epoch 10/100\n",
            "21/21 [==============================] - 0s 10ms/step - loss: 0.3196 - accuracy: 0.8333 - val_loss: 0.4527 - val_accuracy: 0.7391\n",
            "Epoch 11/100\n",
            "21/21 [==============================] - 0s 8ms/step - loss: 0.3143 - accuracy: 0.8395 - val_loss: 0.4498 - val_accuracy: 0.6957\n",
            "Epoch 12/100\n",
            "21/21 [==============================] - 0s 8ms/step - loss: 0.3057 - accuracy: 0.8549 - val_loss: 0.4423 - val_accuracy: 0.7609\n",
            "Epoch 13/100\n",
            "21/21 [==============================] - 0s 8ms/step - loss: 0.2991 - accuracy: 0.8704 - val_loss: 0.4336 - val_accuracy: 0.7609\n",
            "Epoch 14/100\n",
            "21/21 [==============================] - 0s 8ms/step - loss: 0.2936 - accuracy: 0.8642 - val_loss: 0.4224 - val_accuracy: 0.7609\n",
            "Epoch 15/100\n",
            "21/21 [==============================] - 0s 7ms/step - loss: 0.2874 - accuracy: 0.8549 - val_loss: 0.4184 - val_accuracy: 0.7609\n",
            "Epoch 16/100\n",
            "21/21 [==============================] - 0s 7ms/step - loss: 0.2791 - accuracy: 0.8765 - val_loss: 0.4139 - val_accuracy: 0.7609\n",
            "Epoch 17/100\n",
            "21/21 [==============================] - 0s 7ms/step - loss: 0.2817 - accuracy: 0.8858 - val_loss: 0.4086 - val_accuracy: 0.7609\n",
            "Epoch 18/100\n",
            "21/21 [==============================] - 0s 7ms/step - loss: 0.2717 - accuracy: 0.8827 - val_loss: 0.4152 - val_accuracy: 0.7391\n",
            "Epoch 19/100\n",
            "21/21 [==============================] - 0s 8ms/step - loss: 0.2657 - accuracy: 0.8920 - val_loss: 0.4145 - val_accuracy: 0.7826\n",
            "Epoch 20/100\n",
            "21/21 [==============================] - 0s 8ms/step - loss: 0.2598 - accuracy: 0.8889 - val_loss: 0.4033 - val_accuracy: 0.7609\n",
            "Epoch 21/100\n",
            "21/21 [==============================] - 0s 7ms/step - loss: 0.2553 - accuracy: 0.8858 - val_loss: 0.3974 - val_accuracy: 0.7609\n",
            "Epoch 22/100\n",
            "21/21 [==============================] - 0s 7ms/step - loss: 0.2522 - accuracy: 0.8981 - val_loss: 0.3949 - val_accuracy: 0.7391\n",
            "Epoch 23/100\n",
            "21/21 [==============================] - 0s 7ms/step - loss: 0.2469 - accuracy: 0.8858 - val_loss: 0.3956 - val_accuracy: 0.7609\n",
            "Epoch 24/100\n",
            "21/21 [==============================] - 0s 7ms/step - loss: 0.2433 - accuracy: 0.8951 - val_loss: 0.3901 - val_accuracy: 0.7826\n",
            "Epoch 25/100\n",
            "21/21 [==============================] - 0s 8ms/step - loss: 0.2407 - accuracy: 0.8858 - val_loss: 0.3848 - val_accuracy: 0.7609\n",
            "Epoch 26/100\n",
            "21/21 [==============================] - 0s 8ms/step - loss: 0.2363 - accuracy: 0.8951 - val_loss: 0.3908 - val_accuracy: 0.7826\n",
            "Epoch 27/100\n",
            "21/21 [==============================] - 0s 9ms/step - loss: 0.2330 - accuracy: 0.9105 - val_loss: 0.3825 - val_accuracy: 0.7826\n",
            "Epoch 28/100\n",
            "21/21 [==============================] - 0s 9ms/step - loss: 0.2302 - accuracy: 0.9043 - val_loss: 0.3805 - val_accuracy: 0.8043\n",
            "Epoch 29/100\n",
            "21/21 [==============================] - 0s 8ms/step - loss: 0.2292 - accuracy: 0.9043 - val_loss: 0.3816 - val_accuracy: 0.7826\n",
            "Epoch 30/100\n",
            "21/21 [==============================] - 0s 7ms/step - loss: 0.2234 - accuracy: 0.8981 - val_loss: 0.3758 - val_accuracy: 0.7609\n",
            "Epoch 31/100\n",
            "21/21 [==============================] - 0s 8ms/step - loss: 0.2239 - accuracy: 0.9012 - val_loss: 0.3722 - val_accuracy: 0.8043\n",
            "Epoch 32/100\n",
            "21/21 [==============================] - 0s 7ms/step - loss: 0.2154 - accuracy: 0.9043 - val_loss: 0.3736 - val_accuracy: 0.7826\n",
            "Epoch 33/100\n",
            "21/21 [==============================] - 0s 8ms/step - loss: 0.2156 - accuracy: 0.9105 - val_loss: 0.3639 - val_accuracy: 0.7826\n",
            "Epoch 34/100\n",
            "21/21 [==============================] - 0s 7ms/step - loss: 0.2092 - accuracy: 0.9167 - val_loss: 0.3637 - val_accuracy: 0.7826\n",
            "Epoch 35/100\n",
            "21/21 [==============================] - 0s 6ms/step - loss: 0.2068 - accuracy: 0.9198 - val_loss: 0.3449 - val_accuracy: 0.7826\n",
            "Epoch 36/100\n",
            "21/21 [==============================] - 0s 8ms/step - loss: 0.2054 - accuracy: 0.9136 - val_loss: 0.3190 - val_accuracy: 0.8043\n",
            "Epoch 37/100\n",
            "21/21 [==============================] - 0s 6ms/step - loss: 0.2016 - accuracy: 0.9105 - val_loss: 0.3436 - val_accuracy: 0.7826\n",
            "Epoch 38/100\n",
            "21/21 [==============================] - 0s 7ms/step - loss: 0.1961 - accuracy: 0.9198 - val_loss: 0.2955 - val_accuracy: 0.8696\n",
            "Epoch 39/100\n",
            "21/21 [==============================] - 0s 7ms/step - loss: 0.1934 - accuracy: 0.9198 - val_loss: 0.3215 - val_accuracy: 0.7826\n",
            "Epoch 40/100\n",
            "21/21 [==============================] - 0s 9ms/step - loss: 0.1931 - accuracy: 0.9136 - val_loss: 0.2942 - val_accuracy: 0.8261\n",
            "Epoch 41/100\n",
            "21/21 [==============================] - 0s 8ms/step - loss: 0.1883 - accuracy: 0.9198 - val_loss: 0.2903 - val_accuracy: 0.8696\n",
            "Epoch 42/100\n",
            "21/21 [==============================] - 0s 8ms/step - loss: 0.1886 - accuracy: 0.9167 - val_loss: 0.2836 - val_accuracy: 0.8261\n",
            "Epoch 43/100\n",
            "21/21 [==============================] - 0s 8ms/step - loss: 0.1845 - accuracy: 0.9290 - val_loss: 0.2619 - val_accuracy: 0.8696\n",
            "Epoch 44/100\n",
            "21/21 [==============================] - 0s 8ms/step - loss: 0.1795 - accuracy: 0.9198 - val_loss: 0.2650 - val_accuracy: 0.8478\n",
            "Epoch 45/100\n",
            "21/21 [==============================] - 0s 8ms/step - loss: 0.1801 - accuracy: 0.9259 - val_loss: 0.2683 - val_accuracy: 0.8696\n",
            "Epoch 46/100\n",
            "21/21 [==============================] - 0s 8ms/step - loss: 0.1769 - accuracy: 0.9290 - val_loss: 0.2591 - val_accuracy: 0.8478\n",
            "Epoch 47/100\n",
            "21/21 [==============================] - 0s 8ms/step - loss: 0.1758 - accuracy: 0.9321 - val_loss: 0.2642 - val_accuracy: 0.8696\n",
            "Epoch 48/100\n",
            "21/21 [==============================] - 0s 9ms/step - loss: 0.1743 - accuracy: 0.9228 - val_loss: 0.2640 - val_accuracy: 0.8478\n",
            "Epoch 49/100\n",
            "21/21 [==============================] - 0s 9ms/step - loss: 0.1721 - accuracy: 0.9228 - val_loss: 0.2410 - val_accuracy: 0.8696\n",
            "Epoch 50/100\n",
            "21/21 [==============================] - 0s 10ms/step - loss: 0.1660 - accuracy: 0.9290 - val_loss: 0.2394 - val_accuracy: 0.8696\n",
            "Epoch 51/100\n",
            "21/21 [==============================] - 0s 9ms/step - loss: 0.1664 - accuracy: 0.9383 - val_loss: 0.2480 - val_accuracy: 0.8696\n",
            "Epoch 52/100\n",
            "21/21 [==============================] - 0s 10ms/step - loss: 0.1634 - accuracy: 0.9383 - val_loss: 0.2368 - val_accuracy: 0.8913\n",
            "Epoch 53/100\n",
            "21/21 [==============================] - 0s 10ms/step - loss: 0.1648 - accuracy: 0.9321 - val_loss: 0.2255 - val_accuracy: 0.8696\n",
            "Epoch 54/100\n",
            "21/21 [==============================] - 0s 10ms/step - loss: 0.1595 - accuracy: 0.9383 - val_loss: 0.2213 - val_accuracy: 0.8913\n",
            "Epoch 55/100\n",
            "21/21 [==============================] - 0s 10ms/step - loss: 0.1598 - accuracy: 0.9259 - val_loss: 0.2067 - val_accuracy: 0.9130\n",
            "Epoch 56/100\n",
            "21/21 [==============================] - 0s 9ms/step - loss: 0.1630 - accuracy: 0.9414 - val_loss: 0.2370 - val_accuracy: 0.8913\n",
            "Epoch 57/100\n",
            "21/21 [==============================] - 0s 9ms/step - loss: 0.1584 - accuracy: 0.9290 - val_loss: 0.2146 - val_accuracy: 0.8913\n",
            "Epoch 58/100\n",
            "21/21 [==============================] - 0s 9ms/step - loss: 0.1497 - accuracy: 0.9352 - val_loss: 0.1907 - val_accuracy: 0.9130\n",
            "Epoch 59/100\n",
            "21/21 [==============================] - 0s 11ms/step - loss: 0.1450 - accuracy: 0.9568 - val_loss: 0.2013 - val_accuracy: 0.8913\n",
            "Epoch 60/100\n",
            "21/21 [==============================] - 0s 11ms/step - loss: 0.1456 - accuracy: 0.9506 - val_loss: 0.1882 - val_accuracy: 0.9130\n",
            "Epoch 61/100\n",
            "21/21 [==============================] - 0s 10ms/step - loss: 0.1395 - accuracy: 0.9475 - val_loss: 0.2052 - val_accuracy: 0.8913\n",
            "Epoch 62/100\n",
            "21/21 [==============================] - 0s 11ms/step - loss: 0.1628 - accuracy: 0.9321 - val_loss: 0.2759 - val_accuracy: 0.8478\n",
            "Epoch 63/100\n",
            "21/21 [==============================] - 0s 11ms/step - loss: 0.1586 - accuracy: 0.9290 - val_loss: 0.2569 - val_accuracy: 0.8478\n",
            "Epoch 64/100\n",
            "21/21 [==============================] - 0s 12ms/step - loss: 0.1523 - accuracy: 0.9321 - val_loss: 0.2227 - val_accuracy: 0.8696\n",
            "Epoch 65/100\n",
            "21/21 [==============================] - 0s 10ms/step - loss: 0.1476 - accuracy: 0.9444 - val_loss: 0.1925 - val_accuracy: 0.8913\n",
            "Epoch 66/100\n",
            "21/21 [==============================] - 0s 11ms/step - loss: 0.1375 - accuracy: 0.9475 - val_loss: 0.1810 - val_accuracy: 0.9130\n",
            "Epoch 67/100\n",
            "21/21 [==============================] - 0s 11ms/step - loss: 0.1308 - accuracy: 0.9660 - val_loss: 0.1924 - val_accuracy: 0.8913\n",
            "Epoch 68/100\n",
            "21/21 [==============================] - 0s 10ms/step - loss: 0.1590 - accuracy: 0.9506 - val_loss: 0.1751 - val_accuracy: 0.9130\n",
            "Epoch 69/100\n",
            "21/21 [==============================] - 0s 10ms/step - loss: 0.1296 - accuracy: 0.9568 - val_loss: 0.1849 - val_accuracy: 0.9130\n",
            "Epoch 70/100\n",
            "21/21 [==============================] - 0s 9ms/step - loss: 0.1306 - accuracy: 0.9568 - val_loss: 0.1875 - val_accuracy: 0.9130\n",
            "Epoch 71/100\n",
            "21/21 [==============================] - 0s 9ms/step - loss: 0.1973 - accuracy: 0.9383 - val_loss: 0.5205 - val_accuracy: 0.7826\n",
            "Epoch 72/100\n",
            "21/21 [==============================] - 0s 9ms/step - loss: 0.2054 - accuracy: 0.9259 - val_loss: 0.4813 - val_accuracy: 0.7826\n",
            "Epoch 73/100\n",
            "21/21 [==============================] - 0s 9ms/step - loss: 0.1860 - accuracy: 0.9259 - val_loss: 0.4498 - val_accuracy: 0.8043\n",
            "Epoch 74/100\n",
            "21/21 [==============================] - 0s 9ms/step - loss: 0.1701 - accuracy: 0.9321 - val_loss: 0.2394 - val_accuracy: 0.8478\n",
            "Epoch 75/100\n",
            "21/21 [==============================] - 0s 9ms/step - loss: 0.1579 - accuracy: 0.9198 - val_loss: 0.2061 - val_accuracy: 0.8696\n",
            "Epoch 76/100\n",
            "21/21 [==============================] - 0s 8ms/step - loss: 0.1336 - accuracy: 0.9506 - val_loss: 0.1763 - val_accuracy: 0.9130\n",
            "Epoch 77/100\n",
            "21/21 [==============================] - 0s 8ms/step - loss: 0.1263 - accuracy: 0.9599 - val_loss: 0.1777 - val_accuracy: 0.9130\n",
            "Epoch 78/100\n",
            "21/21 [==============================] - 0s 7ms/step - loss: 0.1240 - accuracy: 0.9660 - val_loss: 0.1757 - val_accuracy: 0.9130\n",
            "Epoch 79/100\n",
            "21/21 [==============================] - 0s 7ms/step - loss: 0.1228 - accuracy: 0.9568 - val_loss: 0.1689 - val_accuracy: 0.9130\n",
            "Epoch 80/100\n",
            "21/21 [==============================] - 0s 7ms/step - loss: 0.1253 - accuracy: 0.9506 - val_loss: 0.1714 - val_accuracy: 0.9130\n",
            "Epoch 81/100\n",
            "21/21 [==============================] - 0s 8ms/step - loss: 0.1239 - accuracy: 0.9537 - val_loss: 0.1762 - val_accuracy: 0.9130\n",
            "Epoch 82/100\n",
            "21/21 [==============================] - 0s 7ms/step - loss: 0.1203 - accuracy: 0.9599 - val_loss: 0.1600 - val_accuracy: 0.9130\n",
            "Epoch 83/100\n",
            "21/21 [==============================] - 0s 7ms/step - loss: 0.1199 - accuracy: 0.9660 - val_loss: 0.1722 - val_accuracy: 0.9130\n",
            "Epoch 84/100\n",
            "21/21 [==============================] - 0s 8ms/step - loss: 0.1206 - accuracy: 0.9414 - val_loss: 0.1541 - val_accuracy: 0.9130\n",
            "Epoch 85/100\n",
            "21/21 [==============================] - 0s 8ms/step - loss: 0.1172 - accuracy: 0.9630 - val_loss: 0.1726 - val_accuracy: 0.9130\n",
            "Epoch 86/100\n",
            "21/21 [==============================] - 0s 7ms/step - loss: 0.1150 - accuracy: 0.9537 - val_loss: 0.1677 - val_accuracy: 0.9130\n",
            "Epoch 87/100\n",
            "21/21 [==============================] - 0s 8ms/step - loss: 0.1136 - accuracy: 0.9660 - val_loss: 0.1682 - val_accuracy: 0.9130\n",
            "Epoch 88/100\n",
            "21/21 [==============================] - 0s 8ms/step - loss: 0.1138 - accuracy: 0.9537 - val_loss: 0.1719 - val_accuracy: 0.9130\n",
            "Epoch 89/100\n",
            "21/21 [==============================] - 0s 8ms/step - loss: 0.1148 - accuracy: 0.9630 - val_loss: 0.1708 - val_accuracy: 0.9130\n",
            "Epoch 90/100\n",
            "21/21 [==============================] - 0s 9ms/step - loss: 0.1123 - accuracy: 0.9537 - val_loss: 0.1654 - val_accuracy: 0.9130\n",
            "Epoch 91/100\n",
            "21/21 [==============================] - 0s 9ms/step - loss: 0.1120 - accuracy: 0.9630 - val_loss: 0.1691 - val_accuracy: 0.9130\n",
            "Epoch 92/100\n",
            "21/21 [==============================] - 0s 9ms/step - loss: 0.1095 - accuracy: 0.9630 - val_loss: 0.1625 - val_accuracy: 0.9130\n",
            "Epoch 93/100\n",
            "21/21 [==============================] - 0s 9ms/step - loss: 0.1101 - accuracy: 0.9599 - val_loss: 0.1742 - val_accuracy: 0.9130\n",
            "Epoch 94/100\n",
            "21/21 [==============================] - 0s 9ms/step - loss: 0.1222 - accuracy: 0.9537 - val_loss: 0.1594 - val_accuracy: 0.9130\n",
            "Epoch 95/100\n",
            "21/21 [==============================] - 0s 9ms/step - loss: 0.1117 - accuracy: 0.9568 - val_loss: 0.1852 - val_accuracy: 0.8913\n",
            "Epoch 96/100\n",
            "21/21 [==============================] - 0s 9ms/step - loss: 0.1313 - accuracy: 0.9475 - val_loss: 0.2023 - val_accuracy: 0.8913\n",
            "Epoch 97/100\n",
            "21/21 [==============================] - 0s 8ms/step - loss: 0.1211 - accuracy: 0.9568 - val_loss: 0.1715 - val_accuracy: 0.9130\n",
            "Epoch 98/100\n",
            "21/21 [==============================] - 0s 8ms/step - loss: 0.1092 - accuracy: 0.9660 - val_loss: 0.1661 - val_accuracy: 0.9130\n",
            "Epoch 99/100\n",
            "21/21 [==============================] - 0s 9ms/step - loss: 0.1057 - accuracy: 0.9722 - val_loss: 0.1642 - val_accuracy: 0.9130\n",
            "Epoch 100/100\n",
            "21/21 [==============================] - 0s 8ms/step - loss: 0.1035 - accuracy: 0.9660 - val_loss: 0.1615 - val_accuracy: 0.9130\n"
          ]
        },
        {
          "output_type": "execute_result",
          "data": {
            "text/plain": [
              "<keras.callbacks.History at 0x7f042db984d0>"
            ]
          },
          "metadata": {},
          "execution_count": 29
        }
      ]
    },
    {
      "cell_type": "code",
      "source": [
        "elman.evaluate(x=train_x, y=train_y)\n",
        "elman.evaluate(x=valid_x, y=valid_y)\n",
        "elman.evaluate(x=test_x, y=test_y)"
      ],
      "metadata": {
        "colab": {
          "base_uri": "https://localhost:8080/"
        },
        "id": "m_zVmk_xOKJI",
        "outputId": "63b459b6-9569-4b95-c535-b498cfab5520"
      },
      "execution_count": 30,
      "outputs": [
        {
          "output_type": "stream",
          "name": "stdout",
          "text": [
            "11/11 [==============================] - 0s 3ms/step - loss: 0.1002 - accuracy: 0.9660\n",
            "2/2 [==============================] - 0s 8ms/step - loss: 0.1615 - accuracy: 0.9130\n",
            "3/3 [==============================] - 0s 6ms/step - loss: 0.3403 - accuracy: 0.9355\n"
          ]
        },
        {
          "output_type": "execute_result",
          "data": {
            "text/plain": [
              "[0.34029626846313477, 0.9354838728904724]"
            ]
          },
          "metadata": {},
          "execution_count": 30
        }
      ]
    },
    {
      "cell_type": "markdown",
      "source": [
        "# Jordan"
      ],
      "metadata": {
        "id": "DEN92VXcVWrF"
      }
    },
    {
      "cell_type": "code",
      "source": [
        "class JordanCell(keras.layers.Layer):\n",
        "  # Refrences: https://github.com/keras-team/keras/blob/v2.9.0/keras/layers/rnn/base_rnn.py#L36-L862\n",
        "\n",
        "  def __init__(self, units):\n",
        "      super().__init__()\n",
        "      self.units = units\n",
        "      self.state_size = 2\n",
        "\n",
        "  def build(self, input_shape):\n",
        "      self.kernel = self.add_weight(shape=(input_shape[-1], self.units),name=\"kernel\")\n",
        "      self.recurrent_kernel = self.add_weight(shape=(2, self.units), name=\"recurrent_kernel\")\n",
        "      self.output_kernel = self.add_weight(shape=(self.units, 2), name=\"output_kernel\")\n",
        "      self.built = True\n",
        "\n",
        "  def call(self, inputs, states):\n",
        "      prev_output = states[0]\n",
        "      h = K.dot(inputs, self.kernel)\n",
        "      output = h + K.dot(prev_output, self.recurrent_kernel)\n",
        "      \n",
        "      output = K.dot(output, self.output_kernel)\n",
        "      output = K.softmax(output)\n",
        "\n",
        "      return output, [output]"
      ],
      "metadata": {
        "id": "erlnNmspVY5_"
      },
      "execution_count": 41,
      "outputs": []
    },
    {
      "cell_type": "code",
      "source": [
        "class JordanNetwork(keras.Model):\n",
        "  def __init__(self, cell_number):\n",
        "    super().__init__()\n",
        "    self.model = Sequential([\n",
        "                             Input((15,6,)),\n",
        "                             RNN(JordanCell(cell_number)),\n",
        "                             Dense(2, activation=\"softmax\")\n",
        "                            ])\n",
        "  def call(self, inputs):\n",
        "    return self.model.call(inputs)"
      ],
      "metadata": {
        "id": "EYP8m-C7WDkG"
      },
      "execution_count": 42,
      "outputs": []
    },
    {
      "cell_type": "code",
      "source": [
        "jordan = JordanNetwork(64)"
      ],
      "metadata": {
        "id": "Wxdx8niEWrx1"
      },
      "execution_count": 43,
      "outputs": []
    },
    {
      "cell_type": "code",
      "source": [
        "jordan.compile(optimizer=keras.optimizers.Adam(learning_rate=0.00001), loss=\"sparse_categorical_crossentropy\", metrics=[\"accuracy\"])"
      ],
      "metadata": {
        "id": "U4XKFGHdXNQJ"
      },
      "execution_count": 45,
      "outputs": []
    },
    {
      "cell_type": "code",
      "source": [
        "jordan.fit(x=train_x, y=train_y, epochs=100, batch_size=16, validation_data=(valid_x, valid_y))"
      ],
      "metadata": {
        "colab": {
          "base_uri": "https://localhost:8080/"
        },
        "id": "YdkSOzumXTn8",
        "outputId": "ea43084a-8057-4165-a239-5b0efb576c0e"
      },
      "execution_count": 46,
      "outputs": [
        {
          "output_type": "stream",
          "name": "stdout",
          "text": [
            "Epoch 1/100\n",
            "21/21 [==============================] - 2s 19ms/step - loss: 0.6942 - accuracy: 0.5957 - val_loss: 0.7247 - val_accuracy: 0.5217\n",
            "Epoch 2/100\n",
            "21/21 [==============================] - 0s 6ms/step - loss: 0.6937 - accuracy: 0.5957 - val_loss: 0.7240 - val_accuracy: 0.5217\n",
            "Epoch 3/100\n",
            "21/21 [==============================] - 0s 6ms/step - loss: 0.6931 - accuracy: 0.5957 - val_loss: 0.7234 - val_accuracy: 0.5217\n",
            "Epoch 4/100\n",
            "21/21 [==============================] - 0s 6ms/step - loss: 0.6925 - accuracy: 0.5957 - val_loss: 0.7227 - val_accuracy: 0.5217\n",
            "Epoch 5/100\n",
            "21/21 [==============================] - 0s 7ms/step - loss: 0.6919 - accuracy: 0.5957 - val_loss: 0.7221 - val_accuracy: 0.5217\n",
            "Epoch 6/100\n",
            "21/21 [==============================] - 0s 6ms/step - loss: 0.6912 - accuracy: 0.5957 - val_loss: 0.7214 - val_accuracy: 0.5217\n",
            "Epoch 7/100\n",
            "21/21 [==============================] - 0s 6ms/step - loss: 0.6904 - accuracy: 0.5957 - val_loss: 0.7207 - val_accuracy: 0.5217\n",
            "Epoch 8/100\n",
            "21/21 [==============================] - 0s 6ms/step - loss: 0.6895 - accuracy: 0.5988 - val_loss: 0.7201 - val_accuracy: 0.5217\n",
            "Epoch 9/100\n",
            "21/21 [==============================] - 0s 6ms/step - loss: 0.6886 - accuracy: 0.6019 - val_loss: 0.7194 - val_accuracy: 0.5217\n",
            "Epoch 10/100\n",
            "21/21 [==============================] - 0s 7ms/step - loss: 0.6879 - accuracy: 0.6019 - val_loss: 0.7188 - val_accuracy: 0.5217\n",
            "Epoch 11/100\n",
            "21/21 [==============================] - 0s 7ms/step - loss: 0.6873 - accuracy: 0.6019 - val_loss: 0.7182 - val_accuracy: 0.5217\n",
            "Epoch 12/100\n",
            "21/21 [==============================] - 0s 6ms/step - loss: 0.6868 - accuracy: 0.5988 - val_loss: 0.7177 - val_accuracy: 0.5217\n",
            "Epoch 13/100\n",
            "21/21 [==============================] - 0s 6ms/step - loss: 0.6863 - accuracy: 0.6049 - val_loss: 0.7172 - val_accuracy: 0.5217\n",
            "Epoch 14/100\n",
            "21/21 [==============================] - 0s 6ms/step - loss: 0.6858 - accuracy: 0.6049 - val_loss: 0.7168 - val_accuracy: 0.5217\n",
            "Epoch 15/100\n",
            "21/21 [==============================] - 0s 7ms/step - loss: 0.6854 - accuracy: 0.6049 - val_loss: 0.7163 - val_accuracy: 0.5217\n",
            "Epoch 16/100\n",
            "21/21 [==============================] - 0s 6ms/step - loss: 0.6850 - accuracy: 0.6049 - val_loss: 0.7159 - val_accuracy: 0.5217\n",
            "Epoch 17/100\n",
            "21/21 [==============================] - 0s 6ms/step - loss: 0.6846 - accuracy: 0.6049 - val_loss: 0.7155 - val_accuracy: 0.5217\n",
            "Epoch 18/100\n",
            "21/21 [==============================] - 0s 6ms/step - loss: 0.6842 - accuracy: 0.6049 - val_loss: 0.7150 - val_accuracy: 0.5217\n",
            "Epoch 19/100\n",
            "21/21 [==============================] - 0s 7ms/step - loss: 0.6838 - accuracy: 0.6049 - val_loss: 0.7146 - val_accuracy: 0.5217\n",
            "Epoch 20/100\n",
            "21/21 [==============================] - 0s 6ms/step - loss: 0.6834 - accuracy: 0.6049 - val_loss: 0.7141 - val_accuracy: 0.5435\n",
            "Epoch 21/100\n",
            "21/21 [==============================] - 0s 6ms/step - loss: 0.6830 - accuracy: 0.6049 - val_loss: 0.7137 - val_accuracy: 0.5435\n",
            "Epoch 22/100\n",
            "21/21 [==============================] - 0s 6ms/step - loss: 0.6826 - accuracy: 0.6111 - val_loss: 0.7133 - val_accuracy: 0.5435\n",
            "Epoch 23/100\n",
            "21/21 [==============================] - 0s 6ms/step - loss: 0.6822 - accuracy: 0.6111 - val_loss: 0.7129 - val_accuracy: 0.5435\n",
            "Epoch 24/100\n",
            "21/21 [==============================] - 0s 7ms/step - loss: 0.6818 - accuracy: 0.6111 - val_loss: 0.7125 - val_accuracy: 0.5435\n",
            "Epoch 25/100\n",
            "21/21 [==============================] - 0s 6ms/step - loss: 0.6813 - accuracy: 0.6111 - val_loss: 0.7120 - val_accuracy: 0.5435\n",
            "Epoch 26/100\n",
            "21/21 [==============================] - 0s 7ms/step - loss: 0.6809 - accuracy: 0.6142 - val_loss: 0.7115 - val_accuracy: 0.5435\n",
            "Epoch 27/100\n",
            "21/21 [==============================] - 0s 7ms/step - loss: 0.6805 - accuracy: 0.6142 - val_loss: 0.7111 - val_accuracy: 0.5435\n",
            "Epoch 28/100\n",
            "21/21 [==============================] - 0s 6ms/step - loss: 0.6801 - accuracy: 0.6142 - val_loss: 0.7107 - val_accuracy: 0.5435\n",
            "Epoch 29/100\n",
            "21/21 [==============================] - 0s 6ms/step - loss: 0.6797 - accuracy: 0.6142 - val_loss: 0.7103 - val_accuracy: 0.5435\n",
            "Epoch 30/100\n",
            "21/21 [==============================] - 0s 6ms/step - loss: 0.6794 - accuracy: 0.6142 - val_loss: 0.7098 - val_accuracy: 0.5435\n",
            "Epoch 31/100\n",
            "21/21 [==============================] - 0s 6ms/step - loss: 0.6789 - accuracy: 0.6142 - val_loss: 0.7094 - val_accuracy: 0.5435\n",
            "Epoch 32/100\n",
            "21/21 [==============================] - 0s 6ms/step - loss: 0.6785 - accuracy: 0.6142 - val_loss: 0.7090 - val_accuracy: 0.5435\n",
            "Epoch 33/100\n",
            "21/21 [==============================] - 0s 6ms/step - loss: 0.6781 - accuracy: 0.6142 - val_loss: 0.7085 - val_accuracy: 0.5435\n",
            "Epoch 34/100\n",
            "21/21 [==============================] - 0s 7ms/step - loss: 0.6777 - accuracy: 0.6142 - val_loss: 0.7080 - val_accuracy: 0.5435\n",
            "Epoch 35/100\n",
            "21/21 [==============================] - 0s 6ms/step - loss: 0.6773 - accuracy: 0.6142 - val_loss: 0.7076 - val_accuracy: 0.5435\n",
            "Epoch 36/100\n",
            "21/21 [==============================] - 0s 6ms/step - loss: 0.6769 - accuracy: 0.6142 - val_loss: 0.7072 - val_accuracy: 0.5435\n",
            "Epoch 37/100\n",
            "21/21 [==============================] - 0s 7ms/step - loss: 0.6765 - accuracy: 0.6235 - val_loss: 0.7067 - val_accuracy: 0.5652\n",
            "Epoch 38/100\n",
            "21/21 [==============================] - 0s 6ms/step - loss: 0.6761 - accuracy: 0.6235 - val_loss: 0.7063 - val_accuracy: 0.5652\n",
            "Epoch 39/100\n",
            "21/21 [==============================] - 0s 6ms/step - loss: 0.6757 - accuracy: 0.6235 - val_loss: 0.7059 - val_accuracy: 0.5652\n",
            "Epoch 40/100\n",
            "21/21 [==============================] - 0s 6ms/step - loss: 0.6753 - accuracy: 0.6235 - val_loss: 0.7054 - val_accuracy: 0.5652\n",
            "Epoch 41/100\n",
            "21/21 [==============================] - 0s 6ms/step - loss: 0.6748 - accuracy: 0.6235 - val_loss: 0.7049 - val_accuracy: 0.5652\n",
            "Epoch 42/100\n",
            "21/21 [==============================] - 0s 6ms/step - loss: 0.6744 - accuracy: 0.6235 - val_loss: 0.7045 - val_accuracy: 0.5652\n",
            "Epoch 43/100\n",
            "21/21 [==============================] - 0s 6ms/step - loss: 0.6740 - accuracy: 0.6235 - val_loss: 0.7040 - val_accuracy: 0.5652\n",
            "Epoch 44/100\n",
            "21/21 [==============================] - 0s 6ms/step - loss: 0.6736 - accuracy: 0.6235 - val_loss: 0.7035 - val_accuracy: 0.5652\n",
            "Epoch 45/100\n",
            "21/21 [==============================] - 0s 6ms/step - loss: 0.6731 - accuracy: 0.6296 - val_loss: 0.7031 - val_accuracy: 0.5652\n",
            "Epoch 46/100\n",
            "21/21 [==============================] - 0s 6ms/step - loss: 0.6727 - accuracy: 0.6296 - val_loss: 0.7026 - val_accuracy: 0.5652\n",
            "Epoch 47/100\n",
            "21/21 [==============================] - 0s 6ms/step - loss: 0.6723 - accuracy: 0.6327 - val_loss: 0.7022 - val_accuracy: 0.5652\n",
            "Epoch 48/100\n",
            "21/21 [==============================] - 0s 6ms/step - loss: 0.6719 - accuracy: 0.6327 - val_loss: 0.7017 - val_accuracy: 0.5652\n",
            "Epoch 49/100\n",
            "21/21 [==============================] - 0s 6ms/step - loss: 0.6715 - accuracy: 0.6327 - val_loss: 0.7013 - val_accuracy: 0.5652\n",
            "Epoch 50/100\n",
            "21/21 [==============================] - 0s 6ms/step - loss: 0.6710 - accuracy: 0.6327 - val_loss: 0.7008 - val_accuracy: 0.5652\n",
            "Epoch 51/100\n",
            "21/21 [==============================] - 0s 6ms/step - loss: 0.6706 - accuracy: 0.6327 - val_loss: 0.7004 - val_accuracy: 0.5652\n",
            "Epoch 52/100\n",
            "21/21 [==============================] - 0s 7ms/step - loss: 0.6702 - accuracy: 0.6327 - val_loss: 0.6999 - val_accuracy: 0.5652\n",
            "Epoch 53/100\n",
            "21/21 [==============================] - 0s 7ms/step - loss: 0.6698 - accuracy: 0.6358 - val_loss: 0.6994 - val_accuracy: 0.5652\n",
            "Epoch 54/100\n",
            "21/21 [==============================] - 0s 6ms/step - loss: 0.6693 - accuracy: 0.6389 - val_loss: 0.6990 - val_accuracy: 0.5652\n",
            "Epoch 55/100\n",
            "21/21 [==============================] - 0s 6ms/step - loss: 0.6689 - accuracy: 0.6389 - val_loss: 0.6985 - val_accuracy: 0.5652\n",
            "Epoch 56/100\n",
            "21/21 [==============================] - 0s 6ms/step - loss: 0.6685 - accuracy: 0.6389 - val_loss: 0.6981 - val_accuracy: 0.5652\n",
            "Epoch 57/100\n",
            "21/21 [==============================] - 0s 7ms/step - loss: 0.6680 - accuracy: 0.6389 - val_loss: 0.6976 - val_accuracy: 0.5652\n",
            "Epoch 58/100\n",
            "21/21 [==============================] - 0s 6ms/step - loss: 0.6676 - accuracy: 0.6389 - val_loss: 0.6972 - val_accuracy: 0.5652\n",
            "Epoch 59/100\n",
            "21/21 [==============================] - 0s 6ms/step - loss: 0.6672 - accuracy: 0.6389 - val_loss: 0.6967 - val_accuracy: 0.5652\n",
            "Epoch 60/100\n",
            "21/21 [==============================] - 0s 6ms/step - loss: 0.6667 - accuracy: 0.6389 - val_loss: 0.6962 - val_accuracy: 0.5652\n",
            "Epoch 61/100\n",
            "21/21 [==============================] - 0s 6ms/step - loss: 0.6663 - accuracy: 0.6389 - val_loss: 0.6957 - val_accuracy: 0.5652\n",
            "Epoch 62/100\n",
            "21/21 [==============================] - 0s 7ms/step - loss: 0.6658 - accuracy: 0.6389 - val_loss: 0.6953 - val_accuracy: 0.5652\n",
            "Epoch 63/100\n",
            "21/21 [==============================] - 0s 6ms/step - loss: 0.6653 - accuracy: 0.6389 - val_loss: 0.6949 - val_accuracy: 0.5652\n",
            "Epoch 64/100\n",
            "21/21 [==============================] - 0s 6ms/step - loss: 0.6649 - accuracy: 0.6389 - val_loss: 0.6944 - val_accuracy: 0.5652\n",
            "Epoch 65/100\n",
            "21/21 [==============================] - 0s 6ms/step - loss: 0.6644 - accuracy: 0.6389 - val_loss: 0.6939 - val_accuracy: 0.5652\n",
            "Epoch 66/100\n",
            "21/21 [==============================] - 0s 6ms/step - loss: 0.6639 - accuracy: 0.6389 - val_loss: 0.6934 - val_accuracy: 0.5652\n",
            "Epoch 67/100\n",
            "21/21 [==============================] - 0s 6ms/step - loss: 0.6634 - accuracy: 0.6389 - val_loss: 0.6930 - val_accuracy: 0.5652\n",
            "Epoch 68/100\n",
            "21/21 [==============================] - 0s 6ms/step - loss: 0.6630 - accuracy: 0.6389 - val_loss: 0.6926 - val_accuracy: 0.5652\n",
            "Epoch 69/100\n",
            "21/21 [==============================] - 0s 7ms/step - loss: 0.6625 - accuracy: 0.6389 - val_loss: 0.6921 - val_accuracy: 0.5652\n",
            "Epoch 70/100\n",
            "21/21 [==============================] - 0s 7ms/step - loss: 0.6621 - accuracy: 0.6420 - val_loss: 0.6917 - val_accuracy: 0.5652\n",
            "Epoch 71/100\n",
            "21/21 [==============================] - 0s 7ms/step - loss: 0.6616 - accuracy: 0.6420 - val_loss: 0.6913 - val_accuracy: 0.5652\n",
            "Epoch 72/100\n",
            "21/21 [==============================] - 0s 6ms/step - loss: 0.6611 - accuracy: 0.6420 - val_loss: 0.6909 - val_accuracy: 0.5652\n",
            "Epoch 73/100\n",
            "21/21 [==============================] - 0s 6ms/step - loss: 0.6607 - accuracy: 0.6420 - val_loss: 0.6904 - val_accuracy: 0.5652\n",
            "Epoch 74/100\n",
            "21/21 [==============================] - 0s 6ms/step - loss: 0.6603 - accuracy: 0.6420 - val_loss: 0.6900 - val_accuracy: 0.5652\n",
            "Epoch 75/100\n",
            "21/21 [==============================] - 0s 7ms/step - loss: 0.6598 - accuracy: 0.6420 - val_loss: 0.6896 - val_accuracy: 0.5652\n",
            "Epoch 76/100\n",
            "21/21 [==============================] - 0s 7ms/step - loss: 0.6593 - accuracy: 0.6420 - val_loss: 0.6892 - val_accuracy: 0.5652\n",
            "Epoch 77/100\n",
            "21/21 [==============================] - 0s 6ms/step - loss: 0.6589 - accuracy: 0.6420 - val_loss: 0.6887 - val_accuracy: 0.5652\n",
            "Epoch 78/100\n",
            "21/21 [==============================] - 0s 6ms/step - loss: 0.6585 - accuracy: 0.6420 - val_loss: 0.6884 - val_accuracy: 0.5652\n",
            "Epoch 79/100\n",
            "21/21 [==============================] - 0s 6ms/step - loss: 0.6581 - accuracy: 0.6420 - val_loss: 0.6879 - val_accuracy: 0.5652\n",
            "Epoch 80/100\n",
            "21/21 [==============================] - 0s 6ms/step - loss: 0.6577 - accuracy: 0.6420 - val_loss: 0.6875 - val_accuracy: 0.5870\n",
            "Epoch 81/100\n",
            "21/21 [==============================] - 0s 6ms/step - loss: 0.6572 - accuracy: 0.6451 - val_loss: 0.6871 - val_accuracy: 0.5870\n",
            "Epoch 82/100\n",
            "21/21 [==============================] - 0s 6ms/step - loss: 0.6568 - accuracy: 0.6451 - val_loss: 0.6867 - val_accuracy: 0.5870\n",
            "Epoch 83/100\n",
            "21/21 [==============================] - 0s 6ms/step - loss: 0.6564 - accuracy: 0.6451 - val_loss: 0.6864 - val_accuracy: 0.5870\n",
            "Epoch 84/100\n",
            "21/21 [==============================] - 0s 6ms/step - loss: 0.6560 - accuracy: 0.6451 - val_loss: 0.6860 - val_accuracy: 0.5870\n",
            "Epoch 85/100\n",
            "21/21 [==============================] - 0s 7ms/step - loss: 0.6556 - accuracy: 0.6451 - val_loss: 0.6856 - val_accuracy: 0.5870\n",
            "Epoch 86/100\n",
            "21/21 [==============================] - 0s 6ms/step - loss: 0.6551 - accuracy: 0.6481 - val_loss: 0.6852 - val_accuracy: 0.5870\n",
            "Epoch 87/100\n",
            "21/21 [==============================] - 0s 6ms/step - loss: 0.6547 - accuracy: 0.6481 - val_loss: 0.6849 - val_accuracy: 0.5870\n",
            "Epoch 88/100\n",
            "21/21 [==============================] - 0s 6ms/step - loss: 0.6543 - accuracy: 0.6481 - val_loss: 0.6845 - val_accuracy: 0.5870\n",
            "Epoch 89/100\n",
            "21/21 [==============================] - 0s 6ms/step - loss: 0.6539 - accuracy: 0.6481 - val_loss: 0.6841 - val_accuracy: 0.5870\n",
            "Epoch 90/100\n",
            "21/21 [==============================] - 0s 6ms/step - loss: 0.6535 - accuracy: 0.6512 - val_loss: 0.6837 - val_accuracy: 0.5870\n",
            "Epoch 91/100\n",
            "21/21 [==============================] - 0s 6ms/step - loss: 0.6531 - accuracy: 0.6512 - val_loss: 0.6834 - val_accuracy: 0.5870\n",
            "Epoch 92/100\n",
            "21/21 [==============================] - 0s 6ms/step - loss: 0.6528 - accuracy: 0.6512 - val_loss: 0.6830 - val_accuracy: 0.5870\n",
            "Epoch 93/100\n",
            "21/21 [==============================] - 0s 6ms/step - loss: 0.6524 - accuracy: 0.6512 - val_loss: 0.6827 - val_accuracy: 0.5870\n",
            "Epoch 94/100\n",
            "21/21 [==============================] - 0s 6ms/step - loss: 0.6520 - accuracy: 0.6543 - val_loss: 0.6823 - val_accuracy: 0.6087\n",
            "Epoch 95/100\n",
            "21/21 [==============================] - 0s 6ms/step - loss: 0.6516 - accuracy: 0.6574 - val_loss: 0.6820 - val_accuracy: 0.6087\n",
            "Epoch 96/100\n",
            "21/21 [==============================] - 0s 6ms/step - loss: 0.6513 - accuracy: 0.6574 - val_loss: 0.6817 - val_accuracy: 0.6087\n",
            "Epoch 97/100\n",
            "21/21 [==============================] - 0s 6ms/step - loss: 0.6509 - accuracy: 0.6574 - val_loss: 0.6814 - val_accuracy: 0.6087\n",
            "Epoch 98/100\n",
            "21/21 [==============================] - 0s 6ms/step - loss: 0.6505 - accuracy: 0.6574 - val_loss: 0.6810 - val_accuracy: 0.6087\n",
            "Epoch 99/100\n",
            "21/21 [==============================] - 0s 6ms/step - loss: 0.6501 - accuracy: 0.6574 - val_loss: 0.6807 - val_accuracy: 0.6304\n",
            "Epoch 100/100\n",
            "21/21 [==============================] - 0s 6ms/step - loss: 0.6498 - accuracy: 0.6605 - val_loss: 0.6803 - val_accuracy: 0.6304\n"
          ]
        },
        {
          "output_type": "execute_result",
          "data": {
            "text/plain": [
              "<keras.callbacks.History at 0x7f5a167bed10>"
            ]
          },
          "metadata": {},
          "execution_count": 46
        }
      ]
    },
    {
      "cell_type": "markdown",
      "metadata": {
        "id": "yrcso2Sr3sNe"
      },
      "source": [
        "## Jordan Network"
      ]
    },
    {
      "cell_type": "code",
      "execution_count": 17,
      "metadata": {
        "id": "DZoskMd2Ho-T"
      },
      "outputs": [],
      "source": [
        "class Jordan(keras.Model): \n",
        "  def __init__(self):\n",
        "    super().__init__(self)\n",
        "\n",
        "    self.model = Sequential([\n",
        "                             Input(8, name=\"Input\"),\n",
        "                             Dense(64, name=\"Hidden1\"),\n",
        "                             Dense(64, name=\"Hidden2\"),\n",
        "                             Dense(32, name=\"Hidden3\"),\n",
        "                             Dense(2, activation=\"softmax\", name=\"Output\")\n",
        "    ])\n",
        "\n",
        "  def call_recercive(self, input, prev_input):\n",
        "    if len(prev_input)==0:\n",
        "      concated = K.concatenate([input, K.constant([0., 0.])])\n",
        "      concated = tf.expand_dims(concated, axis=0)\n",
        "    else:\n",
        "      prev_output = self.call_recercive(prev_input[-1], prev_input[:-1])\n",
        "\n",
        "      input = tf.expand_dims(input, axis=0)\n",
        "      concated = K.concatenate([input, prev_output])\n",
        "    \n",
        "    output = self.model.call(concated)  \n",
        "    return output\n",
        "\n",
        "  def call(self, inputs):\n",
        "    inputs = inputs[0]\n",
        "\n",
        "    input = inputs[-1]\n",
        "    prev_input = inputs[:-1]\n",
        "\n",
        "    return self.call_recercive(input, prev_input)"
      ]
    },
    {
      "cell_type": "code",
      "execution_count": 18,
      "metadata": {
        "id": "4Kiayjo05iJ-"
      },
      "outputs": [],
      "source": [
        "jordan = Jordan()"
      ]
    },
    {
      "cell_type": "code",
      "execution_count": 19,
      "metadata": {
        "id": "1U4_Y3QOO_LW"
      },
      "outputs": [],
      "source": [
        "jordan.compile(optimizer=keras.optimizers.Adam(learning_rate=0.0003), loss=\"sparse_categorical_crossentropy\", metrics=[\"accuracy\"])"
      ]
    },
    {
      "cell_type": "code",
      "source": [
        "es_callback = EarlyStopping(monitor=\"val_loss\", patience=10, restore_best_weights=True)"
      ],
      "metadata": {
        "id": "HBKFducIPhWI"
      },
      "execution_count": 20,
      "outputs": []
    },
    {
      "cell_type": "code",
      "source": [
        "log_dir = \"./log\"\n",
        "tb_callback = keras.callbacks.TensorBoard(log_dir=log_dir, histogram_freq=1)\n",
        "!rm -r ./log"
      ],
      "metadata": {
        "id": "jNO4X9MYcQYi"
      },
      "execution_count": 21,
      "outputs": []
    },
    {
      "cell_type": "code",
      "execution_count": 22,
      "metadata": {
        "colab": {
          "base_uri": "https://localhost:8080/"
        },
        "id": "moqezQ15PVHp",
        "outputId": "b8015acb-ec1e-4f90-ad6f-7a359a619d62"
      },
      "outputs": [
        {
          "output_type": "stream",
          "name": "stdout",
          "text": [
            "Epoch 1/50\n",
            "324/324 [==============================] - 4s 5ms/step - loss: 3.4093 - accuracy: 0.6080 - val_loss: 1.6314 - val_accuracy: 0.4348\n",
            "Epoch 2/50\n",
            "324/324 [==============================] - 1s 3ms/step - loss: 1.1526 - accuracy: 0.6944 - val_loss: 1.3833 - val_accuracy: 0.5870\n",
            "Epoch 3/50\n",
            "324/324 [==============================] - 1s 3ms/step - loss: 3.9900 - accuracy: 0.6914 - val_loss: 1.8111 - val_accuracy: 0.6087\n",
            "Epoch 4/50\n",
            "324/324 [==============================] - 1s 3ms/step - loss: 1.0320 - accuracy: 0.7160 - val_loss: 3.5502 - val_accuracy: 0.4565\n",
            "Epoch 5/50\n",
            "324/324 [==============================] - 1s 3ms/step - loss: 0.9003 - accuracy: 0.7315 - val_loss: 1.2702 - val_accuracy: 0.4783\n",
            "Epoch 6/50\n",
            "324/324 [==============================] - 1s 3ms/step - loss: 1.4149 - accuracy: 0.7284 - val_loss: 1.4060 - val_accuracy: 0.4783\n",
            "Epoch 7/50\n",
            "324/324 [==============================] - 1s 3ms/step - loss: 1.6680 - accuracy: 0.6975 - val_loss: 1.1196 - val_accuracy: 0.5652\n",
            "Epoch 8/50\n",
            "324/324 [==============================] - 1s 3ms/step - loss: 0.8602 - accuracy: 0.7407 - val_loss: 5.3730 - val_accuracy: 0.4565\n",
            "Epoch 9/50\n",
            "324/324 [==============================] - 1s 3ms/step - loss: 1.4765 - accuracy: 0.7191 - val_loss: 0.8779 - val_accuracy: 0.6304\n",
            "Epoch 10/50\n",
            "324/324 [==============================] - 1s 3ms/step - loss: 0.5768 - accuracy: 0.7377 - val_loss: 0.7459 - val_accuracy: 0.5870\n",
            "Epoch 11/50\n",
            "324/324 [==============================] - 1s 3ms/step - loss: 0.5342 - accuracy: 0.7346 - val_loss: 0.9587 - val_accuracy: 0.6957\n",
            "Epoch 12/50\n",
            "324/324 [==============================] - 1s 3ms/step - loss: 2.5800 - accuracy: 0.6975 - val_loss: 5.1373 - val_accuracy: 0.6739\n",
            "Epoch 13/50\n",
            "324/324 [==============================] - 1s 3ms/step - loss: 2.7497 - accuracy: 0.7191 - val_loss: 0.9280 - val_accuracy: 0.5652\n",
            "Epoch 14/50\n",
            "324/324 [==============================] - 1s 3ms/step - loss: 0.5411 - accuracy: 0.7469 - val_loss: 0.8953 - val_accuracy: 0.5870\n",
            "Epoch 15/50\n",
            "324/324 [==============================] - 1s 3ms/step - loss: 0.4879 - accuracy: 0.7562 - val_loss: 0.7741 - val_accuracy: 0.5870\n",
            "Epoch 16/50\n",
            "324/324 [==============================] - 1s 3ms/step - loss: 1.3167 - accuracy: 0.7438 - val_loss: 1.0464 - val_accuracy: 0.4783\n",
            "Epoch 17/50\n",
            "324/324 [==============================] - 1s 3ms/step - loss: 0.5480 - accuracy: 0.7160 - val_loss: 0.8212 - val_accuracy: 0.5870\n",
            "Epoch 18/50\n",
            "324/324 [==============================] - 1s 3ms/step - loss: 0.9502 - accuracy: 0.7191 - val_loss: 2.5234 - val_accuracy: 0.5870\n",
            "Epoch 19/50\n",
            "324/324 [==============================] - 2s 6ms/step - loss: 0.7401 - accuracy: 0.7469 - val_loss: 0.9264 - val_accuracy: 0.5652\n",
            "Epoch 20/50\n",
            "324/324 [==============================] - 1s 3ms/step - loss: 0.4680 - accuracy: 0.7623 - val_loss: 0.6978 - val_accuracy: 0.7174\n",
            "Epoch 21/50\n",
            "324/324 [==============================] - 1s 3ms/step - loss: 0.5827 - accuracy: 0.7191 - val_loss: 0.6736 - val_accuracy: 0.6739\n",
            "Epoch 22/50\n",
            "324/324 [==============================] - 1s 3ms/step - loss: 0.5598 - accuracy: 0.7099 - val_loss: 0.7033 - val_accuracy: 0.5652\n",
            "Epoch 23/50\n",
            "324/324 [==============================] - 1s 3ms/step - loss: 1.1056 - accuracy: 0.6759 - val_loss: 0.7902 - val_accuracy: 0.5870\n",
            "Epoch 24/50\n",
            "324/324 [==============================] - 1s 3ms/step - loss: 0.7274 - accuracy: 0.7222 - val_loss: 3.6427 - val_accuracy: 0.5000\n",
            "Epoch 25/50\n",
            "324/324 [==============================] - 1s 3ms/step - loss: 0.7473 - accuracy: 0.7222 - val_loss: 0.7553 - val_accuracy: 0.6304\n",
            "Epoch 26/50\n",
            "324/324 [==============================] - 1s 3ms/step - loss: 0.5032 - accuracy: 0.7407 - val_loss: 0.6735 - val_accuracy: 0.6739\n",
            "Epoch 27/50\n",
            "324/324 [==============================] - 1s 3ms/step - loss: 1.0382 - accuracy: 0.6944 - val_loss: 0.7447 - val_accuracy: 0.5870\n",
            "Epoch 28/50\n",
            "324/324 [==============================] - 1s 3ms/step - loss: 0.5052 - accuracy: 0.6975 - val_loss: 0.6503 - val_accuracy: 0.6522\n",
            "Epoch 29/50\n",
            "324/324 [==============================] - 1s 3ms/step - loss: 0.7437 - accuracy: 0.6975 - val_loss: 0.7923 - val_accuracy: 0.5870\n",
            "Epoch 30/50\n",
            "324/324 [==============================] - 1s 3ms/step - loss: 0.4929 - accuracy: 0.7191 - val_loss: 0.6594 - val_accuracy: 0.5870\n",
            "Epoch 31/50\n",
            "324/324 [==============================] - 1s 3ms/step - loss: 0.7678 - accuracy: 0.7006 - val_loss: 0.7092 - val_accuracy: 0.5870\n",
            "Epoch 32/50\n",
            "324/324 [==============================] - 1s 3ms/step - loss: 0.5819 - accuracy: 0.7006 - val_loss: 0.6671 - val_accuracy: 0.6087\n",
            "Epoch 33/50\n",
            "324/324 [==============================] - 1s 3ms/step - loss: 0.4834 - accuracy: 0.7099 - val_loss: 0.6240 - val_accuracy: 0.6087\n",
            "Epoch 34/50\n",
            "324/324 [==============================] - 1s 3ms/step - loss: 1.1474 - accuracy: 0.7099 - val_loss: 1.6553 - val_accuracy: 0.6957\n",
            "Epoch 35/50\n",
            "324/324 [==============================] - 1s 3ms/step - loss: 0.7780 - accuracy: 0.6944 - val_loss: 1.4976 - val_accuracy: 0.6087\n",
            "Epoch 36/50\n",
            "324/324 [==============================] - 1s 3ms/step - loss: 0.7091 - accuracy: 0.6975 - val_loss: 0.9106 - val_accuracy: 0.5435\n",
            "Epoch 37/50\n",
            "324/324 [==============================] - 1s 3ms/step - loss: 0.5686 - accuracy: 0.7130 - val_loss: 1.6858 - val_accuracy: 0.5217\n",
            "Epoch 38/50\n",
            "324/324 [==============================] - 1s 3ms/step - loss: 0.6432 - accuracy: 0.7284 - val_loss: 0.6861 - val_accuracy: 0.5870\n",
            "Epoch 39/50\n",
            "324/324 [==============================] - 1s 3ms/step - loss: 0.4868 - accuracy: 0.7191 - val_loss: 0.9237 - val_accuracy: 0.4565\n",
            "Epoch 40/50\n",
            "324/324 [==============================] - 1s 3ms/step - loss: 0.5703 - accuracy: 0.7099 - val_loss: 0.6260 - val_accuracy: 0.6739\n",
            "Epoch 41/50\n",
            "324/324 [==============================] - 1s 3ms/step - loss: 0.5079 - accuracy: 0.7407 - val_loss: 1.1682 - val_accuracy: 0.4565\n",
            "Epoch 42/50\n",
            "324/324 [==============================] - 1s 3ms/step - loss: 0.6421 - accuracy: 0.7222 - val_loss: 0.6582 - val_accuracy: 0.6087\n",
            "Epoch 43/50\n",
            "324/324 [==============================] - 1s 3ms/step - loss: 0.4840 - accuracy: 0.7438 - val_loss: 0.8850 - val_accuracy: 0.5000\n"
          ]
        },
        {
          "output_type": "execute_result",
          "data": {
            "text/plain": [
              "<keras.callbacks.History at 0x7f2f6e82b710>"
            ]
          },
          "metadata": {},
          "execution_count": 22
        }
      ],
      "source": [
        "jordan.fit(x=train_x, y=train_y, epochs=50, batch_size=1, validation_data=(valid_x, valid_y), callbacks=[es_callback, tb_callback])"
      ]
    },
    {
      "cell_type": "code",
      "source": [
        "%tensorboard --logdir ./log"
      ],
      "metadata": {
        "colab": {
          "base_uri": "https://localhost:8080/"
        },
        "id": "WA-6p6oTcfgh",
        "outputId": "17dba3bd-d8fe-43f0-ded0-75a6727577a3"
      },
      "execution_count": 28,
      "outputs": [
        {
          "output_type": "stream",
          "name": "stderr",
          "text": [
            "UsageError: Line magic function `%tensorboard` not found.\n"
          ]
        }
      ]
    },
    {
      "cell_type": "code",
      "source": [
        "jordan.evaluate(x=train_x, y=train_y, batch_size=1)\n",
        "jordan.evaluate(x=valid_x, y=valid_y, batch_size=1)\n",
        "jordan.evaluate(x=test_x, y=test_y, batch_size=1)"
      ],
      "metadata": {
        "colab": {
          "base_uri": "https://localhost:8080/"
        },
        "id": "ZEVwZF4yQ4aG",
        "outputId": "8120891e-765c-4b03-abc6-09549c954bb9"
      },
      "execution_count": 25,
      "outputs": [
        {
          "output_type": "stream",
          "name": "stdout",
          "text": [
            "324/324 [==============================] - 1s 2ms/step - loss: 0.4377 - accuracy: 0.7531\n",
            "46/46 [==============================] - 0s 2ms/step - loss: 0.6240 - accuracy: 0.6087\n",
            "93/93 [==============================] - 0s 2ms/step - loss: 0.4885 - accuracy: 0.7204\n"
          ]
        },
        {
          "output_type": "execute_result",
          "data": {
            "text/plain": [
              "[0.4884602427482605, 0.7204301357269287]"
            ]
          },
          "metadata": {},
          "execution_count": 25
        }
      ]
    },
    {
      "cell_type": "code",
      "source": [
        "test_predict = [np.argmax(item) for item in jordan.predict(test_x, batch_size=1)]"
      ],
      "metadata": {
        "id": "bGWBowhmRo1A"
      },
      "execution_count": 26,
      "outputs": []
    },
    {
      "cell_type": "code",
      "source": [
        "confusion_matrix(test_y, test_predict)"
      ],
      "metadata": {
        "colab": {
          "base_uri": "https://localhost:8080/"
        },
        "id": "27k8842TehGn",
        "outputId": "519d8fd2-925c-4d3f-bc09-99d431955183"
      },
      "execution_count": 27,
      "outputs": [
        {
          "output_type": "execute_result",
          "data": {
            "text/plain": [
              "array([[ 4, 17],\n",
              "       [ 9, 63]])"
            ]
          },
          "metadata": {},
          "execution_count": 27
        }
      ]
    }
  ],
  "metadata": {
    "colab": {
      "collapsed_sections": [],
      "name": "NN-HW5.ipynb",
      "toc_visible": true,
      "provenance": [],
      "authorship_tag": "ABX9TyOCyej+trh71GSX4uFo51Y5",
      "include_colab_link": true
    },
    "kernelspec": {
      "display_name": "Python 3",
      "name": "python3"
    },
    "language_info": {
      "name": "python"
    }
  },
  "nbformat": 4,
  "nbformat_minor": 0
}