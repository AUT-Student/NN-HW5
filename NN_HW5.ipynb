{
  "cells": [
    {
      "cell_type": "markdown",
      "metadata": {
        "id": "view-in-github",
        "colab_type": "text"
      },
      "source": [
        "<a href=\"https://colab.research.google.com/github/AUT-Student/NN-HW5/blob/main/NN_HW5.ipynb\" target=\"_parent\"><img src=\"https://colab.research.google.com/assets/colab-badge.svg\" alt=\"Open In Colab\"/></a>"
      ]
    },
    {
      "cell_type": "markdown",
      "metadata": {
        "id": "PXi3EMtBmo2y"
      },
      "source": [
        "# Libraries"
      ]
    },
    {
      "cell_type": "code",
      "execution_count": null,
      "metadata": {
        "id": "Gc0siDpwmJXX"
      },
      "outputs": [],
      "source": [
        "import numpy as np\n",
        "import matplotlib.pyplot as plt\n",
        "import pandas as pd\n",
        "import prettytable\n",
        "from sklearn.utils import shuffle\n",
        "from sklearn.metrics import confusion_matrix\n",
        "\n",
        "import tensorflow as tf\n",
        "import tensorflow.keras as keras\n",
        "from keras.layers import Dense, Input, RNN, Average\n",
        "import keras.backend as K\n",
        "from keras.models import Sequential\n",
        "from keras.callbacks import EarlyStopping"
      ]
    },
    {
      "cell_type": "markdown",
      "metadata": {
        "id": "Ru6GOwOPm0de"
      },
      "source": [
        "# Dataset"
      ]
    },
    {
      "cell_type": "code",
      "execution_count": null,
      "metadata": {
        "colab": {
          "base_uri": "https://localhost:8080/"
        },
        "id": "9fZrU7N-cRwv",
        "outputId": "90d826a1-5bf5-4f16-ed31-06e2112b6a36"
      },
      "outputs": [
        {
          "name": "stdout",
          "output_type": "stream",
          "text": [
            "Downloading...\n",
            "From: https://archive.ics.uci.edu/ml/machine-learning-databases/robotfailure-mld/lp1.data\n",
            "To: /content/lp1.data\n",
            "100% 27.3k/27.3k [00:00<00:00, 171kB/s]\n",
            "Downloading...\n",
            "From: https://archive.ics.uci.edu/ml/machine-learning-databases/robotfailure-mld/lp2.data\n",
            "To: /content/lp2.data\n",
            "100% 14.6k/14.6k [00:00<00:00, 91.6kB/s]\n",
            "Downloading...\n",
            "From: https://archive.ics.uci.edu/ml/machine-learning-databases/robotfailure-mld/lp3.data\n",
            "To: /content/lp3.data\n",
            "100% 14.5k/14.5k [00:00<00:00, 90.9kB/s]\n",
            "Downloading...\n",
            "From: https://archive.ics.uci.edu/ml/machine-learning-databases/robotfailure-mld/lp4.data\n",
            "To: /content/lp4.data\n",
            "100% 33.6k/33.6k [00:00<00:00, 206kB/s]\n",
            "Downloading...\n",
            "From: https://archive.ics.uci.edu/ml/machine-learning-databases/robotfailure-mld/lp5.data\n",
            "To: /content/lp5.data\n",
            "100% 49.2k/49.2k [00:00<00:00, 152kB/s]\n"
          ]
        }
      ],
      "source": [
        "!gdown https://archive.ics.uci.edu/ml/machine-learning-databases/robotfailure-mld/lp1.data\n",
        "!gdown https://archive.ics.uci.edu/ml/machine-learning-databases/robotfailure-mld/lp2.data\n",
        "!gdown https://archive.ics.uci.edu/ml/machine-learning-databases/robotfailure-mld/lp3.data\n",
        "!gdown https://archive.ics.uci.edu/ml/machine-learning-databases/robotfailure-mld/lp4.data\n",
        "!gdown https://archive.ics.uci.edu/ml/machine-learning-databases/robotfailure-mld/lp5.data"
      ]
    },
    {
      "cell_type": "code",
      "execution_count": null,
      "metadata": {
        "id": "zk3z9sDjk1DB"
      },
      "outputs": [],
      "source": [
        "normal_label_datasets = [\"normal\",\"normal\",\"ok\",\"normal\",\"normal\"]\n",
        "\n",
        "dataset_x = []\n",
        "dataset_y = []\n",
        "for i in range(5):\n",
        "  normal_label = normal_label_datasets[i]\n",
        "  dataset_i = pd.read_csv(f\"/content/lp{i+1}.data\", header=None)\n",
        "  \n",
        "  new_label = None\n",
        "  new_data = None\n",
        "\n",
        "  for j, row in dataset_i.iterrows():\n",
        "    if j%16==0:\n",
        "      new_data = []\n",
        "      \n",
        "      if row[0] == normal_label:\n",
        "         new_label = 0\n",
        "      else:\n",
        "         new_label = 1\n",
        "\n",
        "    else:\n",
        "      new_data.append([float(item) for item in row[0].split()])\n",
        "\n",
        "      if j%16==15:\n",
        "        dataset_x.append(new_data)\n",
        "        dataset_y.append(new_label)"
      ]
    },
    {
      "cell_type": "code",
      "execution_count": null,
      "metadata": {
        "id": "t-rxihHJ1bRd"
      },
      "outputs": [],
      "source": [
        "dataset_x, dataset_y = shuffle(dataset_x, dataset_y, random_state=0)"
      ]
    },
    {
      "cell_type": "code",
      "execution_count": null,
      "metadata": {
        "id": "PzmPI7WuNFOl"
      },
      "outputs": [],
      "source": [
        "dataset_len = len(dataset_x)"
      ]
    },
    {
      "cell_type": "code",
      "execution_count": null,
      "metadata": {
        "id": "_kEyj76QNRJL"
      },
      "outputs": [],
      "source": [
        "train_x = dataset_x[:int(0.7*dataset_len)]\n",
        "train_y = dataset_y[:int(0.7*dataset_len)]\n",
        "\n",
        "valid_x = dataset_x[int(0.7*dataset_len):int(0.8*dataset_len)]\n",
        "valid_y = dataset_y[int(0.7*dataset_len):int(0.8*dataset_len)]\n",
        "\n",
        "test_x = dataset_x[int(0.8*dataset_len):]\n",
        "test_y = dataset_y[int(0.8*dataset_len):]"
      ]
    },
    {
      "cell_type": "code",
      "execution_count": null,
      "metadata": {
        "colab": {
          "base_uri": "https://localhost:8080/"
        },
        "id": "NAhjOIWH9O8B",
        "outputId": "e6fbf279-325d-4bd6-ceff-293892c6c4fe"
      },
      "outputs": [
        {
          "data": {
            "text/plain": [
              "71.60493827160494"
            ]
          },
          "execution_count": 7,
          "metadata": {},
          "output_type": "execute_result"
        }
      ],
      "source": [
        "sum(train_y) * 100 / len(train_y)"
      ]
    },
    {
      "cell_type": "code",
      "execution_count": null,
      "metadata": {
        "colab": {
          "base_uri": "https://localhost:8080/"
        },
        "id": "zZmucDcURl4G",
        "outputId": "54980c25-2a55-4311-f9e2-07c003eec894"
      },
      "outputs": [
        {
          "data": {
            "text/plain": [
              "77.41935483870968"
            ]
          },
          "execution_count": 8,
          "metadata": {},
          "output_type": "execute_result"
        }
      ],
      "source": [
        "sum(test_y) * 100 / len(test_y)"
      ]
    },
    {
      "cell_type": "markdown",
      "metadata": {
        "id": "pRNzdtauKJVZ"
      },
      "source": [
        "# Network Model"
      ]
    },
    {
      "cell_type": "markdown",
      "metadata": {
        "id": "GBqq6rPr9eQK"
      },
      "source": [
        "## Elman"
      ]
    },
    {
      "cell_type": "code",
      "execution_count": null,
      "metadata": {
        "id": "hy9gB9Pi4yZE"
      },
      "outputs": [],
      "source": [
        "class ElmanCell(keras.layers.Layer):\n",
        "  # Refrences: https://github.com/keras-team/keras/blob/v2.9.0/keras/layers/rnn/simple_rnn.py#L242-L492\n",
        "\n",
        "  def __init__(self, units):\n",
        "      super().__init__()\n",
        "      self.units = units\n",
        "      self.state_size = units\n",
        "\n",
        "  def build(self, input_shape):\n",
        "      self.kernel = self.add_weight(shape=(input_shape[-1], self.units), initializer=\"glorot_uniform\", name=\"kernel\")\n",
        "      self.recurrent_kernel = self.add_weight(shape=(self.units, self.units), initializer=\"orthogonal\", name=\"recurrent_kernel\")\n",
        "      self.bias = self.add_weight(shape=(self.units), initializer=\"zeros\", name=\"bias\")\n",
        "      self.built = True\n",
        "\n",
        "  def call(self, inputs, states):\n",
        "      previous_hidden = states[0]\n",
        "      current_hidden = K.dot(inputs, self.kernel) + K.dot(previous_hidden, self.recurrent_kernel)\n",
        "      current_hidden = K.bias_add(current_hidden, self.bias)\n",
        "      current_hidden = K.sigmoid(current_hidden)\n",
        "      return current_hidden, [current_hidden]"
      ]
    },
    {
      "cell_type": "code",
      "execution_count": null,
      "metadata": {
        "id": "mT5C85LeONuV"
      },
      "outputs": [],
      "source": [
        "class ElmanNetwork(keras.Model):\n",
        "  def __init__(self, cell_number):\n",
        "    super().__init__()\n",
        "    self.model = Sequential([\n",
        "                             Input((15,6,)),\n",
        "                             RNN(ElmanCell(cell_number)),\n",
        "                             Dense(2, activation=\"softmax\")\n",
        "                            ])\n",
        "  def call(self, inputs):\n",
        "    return self.model.call(inputs)"
      ]
    },
    {
      "cell_type": "markdown",
      "metadata": {
        "id": "DEN92VXcVWrF"
      },
      "source": [
        "## Jordan"
      ]
    },
    {
      "cell_type": "code",
      "execution_count": null,
      "metadata": {
        "id": "erlnNmspVY5_"
      },
      "outputs": [],
      "source": [
        "class JordanCell(keras.layers.Layer):\n",
        "  # Refrences: https://github.com/keras-team/keras/blob/v2.9.0/keras/layers/rnn/simple_rnn.py#L242-L492\n",
        "\n",
        "  def __init__(self, units):\n",
        "      super().__init__()\n",
        "      self.units = units\n",
        "      self.state_size = 2\n",
        "\n",
        "  def build(self, input_shape):\n",
        "      self.kernel = self.add_weight(shape=(input_shape[-1], self.units), initializer=\"glorot_uniform\", name=\"kernel\")\n",
        "      self.recurrent_kernel = self.add_weight(shape=(2, self.units), initializer=\"orthogonal\", name=\"recurrent_kernel\")\n",
        "      self.bias = self.add_weight(shape=(self.units), initializer=\"zeros\", name=\"bias\")\n",
        "      \n",
        "      self.output_kernel = self.add_weight(shape=(self.units, 2), name=\"output_kernel\")\n",
        "      self.output_bias = self.add_weight(shape=(2,), initializer=\"zeros\", name=\"output_bias\")\n",
        "\n",
        "      self.built = True\n",
        "\n",
        "  def call(self, inputs, states):\n",
        "      previous_output = states[0]\n",
        "      current_hidden = K.dot(inputs, self.kernel) + K.dot(previous_output, self.recurrent_kernel)\n",
        "      current_hidden = K.bias_add(current_hidden, self.bias)\n",
        "      current_hidden = K.sigmoid(current_hidden)\n",
        "\n",
        "      current_output = K.dot(current_hidden, self.output_kernel)\n",
        "      current_output = K.bias_add(current_output, self.output_bias)\n",
        "      current_output = K.softmax(current_output)\n",
        "\n",
        "      return current_output, [current_output]"
      ]
    },
    {
      "cell_type": "code",
      "execution_count": null,
      "metadata": {
        "id": "EYP8m-C7WDkG"
      },
      "outputs": [],
      "source": [
        "class JordanNetwork(keras.Model):\n",
        "  def __init__(self, cell_number):\n",
        "    super().__init__()\n",
        "    self.model = Sequential([\n",
        "                             Input((15,6,)),\n",
        "                             RNN(JordanCell(cell_number)),\n",
        "                            ])\n",
        "  def call(self, inputs):\n",
        "    return self.model.call(inputs)"
      ]
    },
    {
      "cell_type": "markdown",
      "metadata": {
        "id": "zfQTPi15KO4j"
      },
      "source": [
        "# Same Data Ensemble Model"
      ]
    },
    {
      "cell_type": "code",
      "execution_count": null,
      "metadata": {
        "id": "G7fZcV6wKVS2"
      },
      "outputs": [],
      "source": [
        "class SameDataEnsembleNetwork(keras.Model):\n",
        "  def __init__(self, sub_models):\n",
        "    super().__init__()\n",
        "    input = Input((15,6,))\n",
        "    sub_output = [sub_model(input) for sub_model in sub_models]\n",
        "    average = Average()\n",
        "    output = average(sub_output)\n",
        "    self.model = keras.Model(input, output)\n",
        "\n",
        "  def call(self, inputs):\n",
        "    return self.model.call(inputs)"
      ]
    },
    {
      "cell_type": "code",
      "execution_count": null,
      "metadata": {
        "id": "sAh28S09lv9f"
      },
      "outputs": [],
      "source": [
        "# ensemble_1 = SameDataEnsembleNetwork([ElmanNetwork(2048), ElmanNetwork(2048), ElmanNetwork(32), ElmanNetwork(32)])\n",
        "ensemble_1 = SameDataEnsembleNetwork([ElmanNetwork(8), ElmanNetwork(8), ElmanNetwork(8), ElmanNetwork(8), ElmanNetwork(8), ElmanNetwork(8)])\n",
        "# ensemble_1 = SameDataEnsembleNetwork([ElmanNetwork(16), ElmanNetwork(256)])#, ElmanNetwork(2048), ElmanNetwork(2048)])\n"
      ]
    },
    {
      "cell_type": "code",
      "execution_count": null,
      "metadata": {
        "id": "-9oCZzqfl8gC"
      },
      "outputs": [],
      "source": [
        "es_callback = EarlyStopping(monitor=\"val_loss\", patience=10, restore_best_weights=True)\n",
        "\n",
        "ensemble_1.compile(optimizer=keras.optimizers.Adam(learning_rate=0.001), loss=\"sparse_categorical_crossentropy\", metrics=[\"accuracy\"])"
      ]
    },
    {
      "cell_type": "code",
      "execution_count": null,
      "metadata": {
        "colab": {
          "background_save": true,
          "base_uri": "https://localhost:8080/"
        },
        "id": "rx2MUJl6mGsf",
        "outputId": "ec8c1141-aa00-4703-dbb3-d864279ca493"
      },
      "outputs": [
        {
          "name": "stdout",
          "output_type": "stream",
          "text": [
            "Epoch 1/250\n",
            "21/21 [==============================] - 17s 726ms/step - loss: 0.5856 - accuracy: 0.6852 - val_loss: 0.6230 - val_accuracy: 0.6522\n",
            "Epoch 2/250\n",
            "21/21 [==============================] - 15s 702ms/step - loss: 0.5370 - accuracy: 0.7160 - val_loss: 0.5887 - val_accuracy: 0.6522\n",
            "Epoch 3/250\n",
            "21/21 [==============================] - 15s 704ms/step - loss: 0.5078 - accuracy: 0.7160 - val_loss: 0.5602 - val_accuracy: 0.6522\n",
            "Epoch 4/250\n",
            "21/21 [==============================] - 14s 680ms/step - loss: 0.4819 - accuracy: 0.7160 - val_loss: 0.5379 - val_accuracy: 0.6522\n",
            "Epoch 5/250\n",
            "21/21 [==============================] - 14s 674ms/step - loss: 0.4618 - accuracy: 0.7160 - val_loss: 0.5251 - val_accuracy: 0.6522\n",
            "Epoch 6/250\n",
            "21/21 [==============================] - 14s 663ms/step - loss: 0.4473 - accuracy: 0.7160 - val_loss: 0.5159 - val_accuracy: 0.6522\n",
            "Epoch 7/250\n",
            "21/21 [==============================] - 14s 659ms/step - loss: 0.4347 - accuracy: 0.7160 - val_loss: 0.5037 - val_accuracy: 0.6522\n",
            "Epoch 8/250\n",
            "21/21 [==============================] - 14s 669ms/step - loss: 0.4254 - accuracy: 0.7160 - val_loss: 0.4973 - val_accuracy: 0.6522\n",
            "Epoch 9/250\n",
            "21/21 [==============================] - 14s 661ms/step - loss: 0.4180 - accuracy: 0.7160 - val_loss: 0.4904 - val_accuracy: 0.6522\n",
            "Epoch 10/250\n",
            "21/21 [==============================] - 14s 672ms/step - loss: 0.4113 - accuracy: 0.7160 - val_loss: 0.4872 - val_accuracy: 0.6522\n",
            "Epoch 11/250\n",
            "21/21 [==============================] - 14s 666ms/step - loss: 0.4061 - accuracy: 0.7160 - val_loss: 0.4805 - val_accuracy: 0.6522\n",
            "Epoch 12/250\n",
            "21/21 [==============================] - 14s 670ms/step - loss: 0.4006 - accuracy: 0.7160 - val_loss: 0.4755 - val_accuracy: 0.6522\n",
            "Epoch 13/250\n",
            "21/21 [==============================] - 14s 673ms/step - loss: 0.3960 - accuracy: 0.7160 - val_loss: 0.4734 - val_accuracy: 0.6522\n",
            "Epoch 14/250\n",
            "21/21 [==============================] - 14s 656ms/step - loss: 0.3914 - accuracy: 0.7160 - val_loss: 0.4682 - val_accuracy: 0.6522\n",
            "Epoch 15/250\n",
            "21/21 [==============================] - 14s 659ms/step - loss: 0.3876 - accuracy: 0.7160 - val_loss: 0.4642 - val_accuracy: 0.6522\n",
            "Epoch 16/250\n",
            "21/21 [==============================] - 14s 675ms/step - loss: 0.3840 - accuracy: 0.7160 - val_loss: 0.4611 - val_accuracy: 0.6522\n",
            "Epoch 17/250\n",
            "21/21 [==============================] - 14s 665ms/step - loss: 0.3806 - accuracy: 0.7160 - val_loss: 0.4613 - val_accuracy: 0.6522\n",
            "Epoch 18/250\n",
            "21/21 [==============================] - 14s 670ms/step - loss: 0.3775 - accuracy: 0.7160 - val_loss: 0.4607 - val_accuracy: 0.6522\n",
            "Epoch 19/250\n",
            "21/21 [==============================] - 14s 666ms/step - loss: 0.3744 - accuracy: 0.7160 - val_loss: 0.4589 - val_accuracy: 0.6522\n",
            "Epoch 20/250\n",
            "21/21 [==============================] - 14s 669ms/step - loss: 0.3716 - accuracy: 0.7160 - val_loss: 0.4557 - val_accuracy: 0.6522\n",
            "Epoch 21/250\n",
            "21/21 [==============================] - 14s 656ms/step - loss: 0.3689 - accuracy: 0.7160 - val_loss: 0.4554 - val_accuracy: 0.6522\n",
            "Epoch 22/250\n",
            "21/21 [==============================] - 14s 668ms/step - loss: 0.3664 - accuracy: 0.7160 - val_loss: 0.4526 - val_accuracy: 0.6522\n",
            "Epoch 23/250\n",
            "21/21 [==============================] - 14s 658ms/step - loss: 0.3641 - accuracy: 0.7160 - val_loss: 0.4540 - val_accuracy: 0.6522\n",
            "Epoch 24/250\n",
            "21/21 [==============================] - 14s 645ms/step - loss: 0.3614 - accuracy: 0.7160 - val_loss: 0.4539 - val_accuracy: 0.6522\n",
            "Epoch 25/250\n",
            "21/21 [==============================] - 14s 659ms/step - loss: 0.3598 - accuracy: 0.7160 - val_loss: 0.4488 - val_accuracy: 0.6522\n",
            "Epoch 26/250\n",
            "21/21 [==============================] - 13s 642ms/step - loss: 0.3574 - accuracy: 0.7160 - val_loss: 0.4495 - val_accuracy: 0.6522\n",
            "Epoch 27/250\n",
            "21/21 [==============================] - 14s 661ms/step - loss: 0.3550 - accuracy: 0.7160 - val_loss: 0.4496 - val_accuracy: 0.6522\n",
            "Epoch 28/250\n",
            "21/21 [==============================] - 14s 672ms/step - loss: 0.3521 - accuracy: 0.7160 - val_loss: 0.4521 - val_accuracy: 0.6522\n",
            "Epoch 29/250\n",
            "21/21 [==============================] - 14s 672ms/step - loss: 0.3503 - accuracy: 0.7160 - val_loss: 0.4514 - val_accuracy: 0.6522\n",
            "Epoch 30/250\n",
            "21/21 [==============================] - 14s 660ms/step - loss: 0.3483 - accuracy: 0.7160 - val_loss: 0.4487 - val_accuracy: 0.6522\n",
            "Epoch 31/250\n",
            "21/21 [==============================] - 14s 678ms/step - loss: 0.3470 - accuracy: 0.7160 - val_loss: 0.4483 - val_accuracy: 0.6522\n",
            "Epoch 32/250\n",
            "21/21 [==============================] - 14s 671ms/step - loss: 0.3449 - accuracy: 0.7160 - val_loss: 0.4448 - val_accuracy: 0.6522\n",
            "Epoch 33/250\n",
            "21/21 [==============================] - 14s 663ms/step - loss: 0.3427 - accuracy: 0.7160 - val_loss: 0.4428 - val_accuracy: 0.6522\n",
            "Epoch 34/250\n",
            "21/21 [==============================] - 14s 666ms/step - loss: 0.3411 - accuracy: 0.7160 - val_loss: 0.4424 - val_accuracy: 0.6522\n",
            "Epoch 35/250\n",
            "21/21 [==============================] - 14s 671ms/step - loss: 0.3390 - accuracy: 0.7160 - val_loss: 0.4443 - val_accuracy: 0.6522\n",
            "Epoch 36/250\n",
            "21/21 [==============================] - 14s 665ms/step - loss: 0.3373 - accuracy: 0.7160 - val_loss: 0.4406 - val_accuracy: 0.6522\n",
            "Epoch 37/250\n",
            "21/21 [==============================] - 14s 658ms/step - loss: 0.3362 - accuracy: 0.7160 - val_loss: 0.4406 - val_accuracy: 0.6522\n",
            "Epoch 38/250\n",
            "21/21 [==============================] - 14s 655ms/step - loss: 0.3352 - accuracy: 0.7160 - val_loss: 0.4412 - val_accuracy: 0.6522\n",
            "Epoch 39/250\n",
            "21/21 [==============================] - 14s 658ms/step - loss: 0.3335 - accuracy: 0.7160 - val_loss: 0.4393 - val_accuracy: 0.6522\n",
            "Epoch 40/250\n",
            "21/21 [==============================] - 14s 656ms/step - loss: 0.3329 - accuracy: 0.7160 - val_loss: 0.4366 - val_accuracy: 0.6522\n",
            "Epoch 41/250\n",
            "21/21 [==============================] - 14s 664ms/step - loss: 0.3308 - accuracy: 0.7160 - val_loss: 0.4390 - val_accuracy: 0.6522\n",
            "Epoch 42/250\n",
            "21/21 [==============================] - 14s 666ms/step - loss: 0.3298 - accuracy: 0.7160 - val_loss: 0.4387 - val_accuracy: 0.6522\n",
            "Epoch 43/250\n",
            "21/21 [==============================] - 14s 664ms/step - loss: 0.3296 - accuracy: 0.7160 - val_loss: 0.4368 - val_accuracy: 0.6522\n",
            "Epoch 44/250\n",
            "21/21 [==============================] - 14s 649ms/step - loss: 0.3279 - accuracy: 0.7160 - val_loss: 0.4370 - val_accuracy: 0.6522\n",
            "Epoch 45/250\n",
            "21/21 [==============================] - 14s 663ms/step - loss: 0.3269 - accuracy: 0.7160 - val_loss: 0.4393 - val_accuracy: 0.6522\n",
            "Epoch 46/250\n",
            "21/21 [==============================] - 14s 655ms/step - loss: 0.3262 - accuracy: 0.7160 - val_loss: 0.4375 - val_accuracy: 0.6522\n",
            "Epoch 47/250\n",
            "21/21 [==============================] - 14s 662ms/step - loss: 0.3256 - accuracy: 0.7160 - val_loss: 0.4376 - val_accuracy: 0.6522\n",
            "Epoch 48/250\n",
            "21/21 [==============================] - 14s 672ms/step - loss: 0.3242 - accuracy: 0.7160 - val_loss: 0.4422 - val_accuracy: 0.6522\n",
            "Epoch 49/250\n",
            "21/21 [==============================] - 14s 677ms/step - loss: 0.3235 - accuracy: 0.7160 - val_loss: 0.4352 - val_accuracy: 0.6522\n",
            "Epoch 50/250\n",
            "21/21 [==============================] - 14s 662ms/step - loss: 0.3230 - accuracy: 0.7160 - val_loss: 0.4365 - val_accuracy: 0.6522\n",
            "Epoch 51/250\n",
            "21/21 [==============================] - 14s 685ms/step - loss: 0.3216 - accuracy: 0.7160 - val_loss: 0.4349 - val_accuracy: 0.6522\n",
            "Epoch 52/250\n",
            "21/21 [==============================] - 14s 676ms/step - loss: 0.3210 - accuracy: 0.7160 - val_loss: 0.4363 - val_accuracy: 0.6522\n",
            "Epoch 53/250\n",
            "21/21 [==============================] - 14s 660ms/step - loss: 0.3206 - accuracy: 0.7160 - val_loss: 0.4303 - val_accuracy: 0.6522\n",
            "Epoch 54/250\n",
            "21/21 [==============================] - 14s 677ms/step - loss: 0.3197 - accuracy: 0.7160 - val_loss: 0.4372 - val_accuracy: 0.6522\n",
            "Epoch 55/250\n",
            "21/21 [==============================] - 14s 660ms/step - loss: 0.3180 - accuracy: 0.7160 - val_loss: 0.4309 - val_accuracy: 0.6522\n",
            "Epoch 56/250\n",
            "21/21 [==============================] - 14s 680ms/step - loss: 0.3175 - accuracy: 0.7160 - val_loss: 0.4298 - val_accuracy: 0.6522\n",
            "Epoch 57/250\n",
            "21/21 [==============================] - 14s 677ms/step - loss: 0.3176 - accuracy: 0.7160 - val_loss: 0.4301 - val_accuracy: 0.6522\n",
            "Epoch 58/250\n",
            "21/21 [==============================] - 14s 678ms/step - loss: 0.3165 - accuracy: 0.7160 - val_loss: 0.4288 - val_accuracy: 0.6522\n",
            "Epoch 59/250\n",
            "21/21 [==============================] - 14s 672ms/step - loss: 0.3161 - accuracy: 0.7160 - val_loss: 0.4291 - val_accuracy: 0.6522\n",
            "Epoch 60/250\n",
            "21/21 [==============================] - 14s 675ms/step - loss: 0.3150 - accuracy: 0.7160 - val_loss: 0.4265 - val_accuracy: 0.6522\n",
            "Epoch 61/250\n",
            "21/21 [==============================] - 15s 709ms/step - loss: 0.3142 - accuracy: 0.7160 - val_loss: 0.4272 - val_accuracy: 0.6522\n",
            "Epoch 62/250\n",
            "21/21 [==============================] - 15s 719ms/step - loss: 0.3142 - accuracy: 0.7160 - val_loss: 0.4300 - val_accuracy: 0.6522\n",
            "Epoch 63/250\n",
            "21/21 [==============================] - 14s 680ms/step - loss: 0.3129 - accuracy: 0.7160 - val_loss: 0.4185 - val_accuracy: 0.6522\n",
            "Epoch 64/250\n",
            "21/21 [==============================] - 14s 680ms/step - loss: 0.3125 - accuracy: 0.7160 - val_loss: 0.4129 - val_accuracy: 0.6522\n",
            "Epoch 65/250\n",
            "21/21 [==============================] - 14s 672ms/step - loss: 0.3126 - accuracy: 0.7160 - val_loss: 0.4122 - val_accuracy: 0.6522\n",
            "Epoch 66/250\n",
            "21/21 [==============================] - 14s 666ms/step - loss: 0.3114 - accuracy: 0.7160 - val_loss: 0.4138 - val_accuracy: 0.6522\n",
            "Epoch 67/250\n",
            "21/21 [==============================] - 14s 670ms/step - loss: 0.3102 - accuracy: 0.7160 - val_loss: 0.4110 - val_accuracy: 0.6522\n",
            "Epoch 68/250\n",
            "21/21 [==============================] - 14s 662ms/step - loss: 0.3094 - accuracy: 0.7160 - val_loss: 0.4054 - val_accuracy: 0.6522\n",
            "Epoch 69/250\n",
            "21/21 [==============================] - 14s 664ms/step - loss: 0.3094 - accuracy: 0.7160 - val_loss: 0.4033 - val_accuracy: 0.6522\n",
            "Epoch 70/250\n",
            "21/21 [==============================] - 15s 704ms/step - loss: 0.3076 - accuracy: 0.7160 - val_loss: 0.4049 - val_accuracy: 0.6522\n",
            "Epoch 71/250\n",
            "21/21 [==============================] - 14s 666ms/step - loss: 0.3096 - accuracy: 0.7160 - val_loss: 0.4019 - val_accuracy: 0.6522\n",
            "Epoch 72/250\n",
            "21/21 [==============================] - 15s 702ms/step - loss: 0.3065 - accuracy: 0.7160 - val_loss: 0.4051 - val_accuracy: 0.6522\n",
            "Epoch 73/250\n",
            "21/21 [==============================] - 15s 697ms/step - loss: 0.3043 - accuracy: 0.7160 - val_loss: 0.4015 - val_accuracy: 0.6522\n",
            "Epoch 74/250\n",
            "21/21 [==============================] - 15s 699ms/step - loss: 0.3037 - accuracy: 0.7160 - val_loss: 0.4052 - val_accuracy: 0.6522\n",
            "Epoch 75/250\n",
            "21/21 [==============================] - 15s 708ms/step - loss: 0.3031 - accuracy: 0.7160 - val_loss: 0.3979 - val_accuracy: 0.6522\n",
            "Epoch 76/250\n",
            "21/21 [==============================] - 14s 687ms/step - loss: 0.3035 - accuracy: 0.7160 - val_loss: 0.3931 - val_accuracy: 0.6522\n",
            "Epoch 77/250\n",
            "21/21 [==============================] - 14s 670ms/step - loss: 0.3029 - accuracy: 0.7160 - val_loss: 0.3962 - val_accuracy: 0.6522\n",
            "Epoch 78/250\n",
            "21/21 [==============================] - 14s 678ms/step - loss: 0.3035 - accuracy: 0.7160 - val_loss: 0.3953 - val_accuracy: 0.6522\n",
            "Epoch 79/250\n",
            "21/21 [==============================] - 14s 679ms/step - loss: 0.3008 - accuracy: 0.7160 - val_loss: 0.3921 - val_accuracy: 0.6522\n",
            "Epoch 80/250\n",
            "21/21 [==============================] - 14s 671ms/step - loss: 0.2994 - accuracy: 0.7160 - val_loss: 0.3934 - val_accuracy: 0.6522\n",
            "Epoch 81/250\n",
            "21/21 [==============================] - 14s 684ms/step - loss: 0.2983 - accuracy: 0.7160 - val_loss: 0.3919 - val_accuracy: 0.6522\n",
            "Epoch 82/250\n",
            "21/21 [==============================] - 15s 734ms/step - loss: 0.2983 - accuracy: 0.7160 - val_loss: 0.3858 - val_accuracy: 0.6522\n",
            "Epoch 83/250\n",
            "21/21 [==============================] - 15s 717ms/step - loss: 0.2979 - accuracy: 0.7160 - val_loss: 0.3899 - val_accuracy: 0.6522\n",
            "Epoch 84/250\n",
            "21/21 [==============================] - 15s 713ms/step - loss: 0.2961 - accuracy: 0.7160 - val_loss: 0.3809 - val_accuracy: 0.6522\n",
            "Epoch 85/250\n",
            "21/21 [==============================] - 14s 686ms/step - loss: 0.2958 - accuracy: 0.7160 - val_loss: 0.3812 - val_accuracy: 0.6522\n",
            "Epoch 86/250\n",
            "21/21 [==============================] - 14s 687ms/step - loss: 0.2953 - accuracy: 0.7160 - val_loss: 0.3825 - val_accuracy: 0.6522\n",
            "Epoch 87/250\n",
            "21/21 [==============================] - 14s 673ms/step - loss: 0.2945 - accuracy: 0.7160 - val_loss: 0.3799 - val_accuracy: 0.6522\n",
            "Epoch 88/250\n",
            "21/21 [==============================] - 14s 682ms/step - loss: 0.2971 - accuracy: 0.7160 - val_loss: 0.3731 - val_accuracy: 0.6522\n",
            "Epoch 89/250\n",
            "21/21 [==============================] - 15s 692ms/step - loss: 0.2931 - accuracy: 0.7160 - val_loss: 0.3947 - val_accuracy: 0.6522\n",
            "Epoch 90/250\n",
            "21/21 [==============================] - 14s 679ms/step - loss: 0.2935 - accuracy: 0.7160 - val_loss: 0.3746 - val_accuracy: 0.6522\n",
            "Epoch 91/250\n",
            "21/21 [==============================] - 14s 678ms/step - loss: 0.2924 - accuracy: 0.7160 - val_loss: 0.3781 - val_accuracy: 0.6522\n",
            "Epoch 92/250\n",
            "21/21 [==============================] - 14s 679ms/step - loss: 0.2928 - accuracy: 0.7160 - val_loss: 0.3770 - val_accuracy: 0.6522\n",
            "Epoch 93/250\n",
            "21/21 [==============================] - 14s 686ms/step - loss: 0.2910 - accuracy: 0.7160 - val_loss: 0.3753 - val_accuracy: 0.6522\n",
            "Epoch 94/250\n",
            "21/21 [==============================] - 14s 672ms/step - loss: 0.2895 - accuracy: 0.7160 - val_loss: 0.3868 - val_accuracy: 0.6522\n",
            "Epoch 95/250\n",
            "21/21 [==============================] - 15s 705ms/step - loss: 0.2900 - accuracy: 0.7160 - val_loss: 0.3730 - val_accuracy: 0.6522\n",
            "Epoch 96/250\n",
            "21/21 [==============================] - 15s 723ms/step - loss: 0.2898 - accuracy: 0.7160 - val_loss: 0.3707 - val_accuracy: 0.6522\n",
            "Epoch 97/250\n",
            "21/21 [==============================] - 15s 709ms/step - loss: 0.2885 - accuracy: 0.7160 - val_loss: 0.3707 - val_accuracy: 0.6522\n",
            "Epoch 98/250\n",
            "21/21 [==============================] - 14s 673ms/step - loss: 0.2879 - accuracy: 0.7160 - val_loss: 0.3691 - val_accuracy: 0.6522\n",
            "Epoch 99/250\n",
            "21/21 [==============================] - 14s 686ms/step - loss: 0.2886 - accuracy: 0.7160 - val_loss: 0.3634 - val_accuracy: 0.6522\n",
            "Epoch 100/250\n",
            "21/21 [==============================] - 15s 724ms/step - loss: 0.2901 - accuracy: 0.7160 - val_loss: 0.3704 - val_accuracy: 0.6522\n",
            "Epoch 101/250\n",
            "21/21 [==============================] - 15s 725ms/step - loss: 0.2882 - accuracy: 0.7160 - val_loss: 0.3781 - val_accuracy: 0.6522\n",
            "Epoch 102/250\n",
            "21/21 [==============================] - 15s 735ms/step - loss: 0.2867 - accuracy: 0.7160 - val_loss: 0.3576 - val_accuracy: 0.6522\n",
            "Epoch 103/250\n",
            "21/21 [==============================] - 15s 697ms/step - loss: 0.2854 - accuracy: 0.7160 - val_loss: 0.3557 - val_accuracy: 0.6522\n",
            "Epoch 104/250\n",
            "21/21 [==============================] - 15s 729ms/step - loss: 0.2842 - accuracy: 0.7160 - val_loss: 0.3472 - val_accuracy: 0.6522\n",
            "Epoch 105/250\n",
            "21/21 [==============================] - 15s 733ms/step - loss: 0.2842 - accuracy: 0.7160 - val_loss: 0.3480 - val_accuracy: 0.6522\n",
            "Epoch 106/250\n",
            "21/21 [==============================] - 15s 718ms/step - loss: 0.2824 - accuracy: 0.7160 - val_loss: 0.3503 - val_accuracy: 0.6522\n",
            "Epoch 107/250\n",
            "21/21 [==============================] - 15s 707ms/step - loss: 0.2812 - accuracy: 0.7160 - val_loss: 0.3504 - val_accuracy: 0.6522\n",
            "Epoch 108/250\n",
            "21/21 [==============================] - 15s 723ms/step - loss: 0.2929 - accuracy: 0.7160 - val_loss: 0.3286 - val_accuracy: 0.6522\n",
            "Epoch 109/250\n",
            "21/21 [==============================] - 14s 688ms/step - loss: 0.2860 - accuracy: 0.7160 - val_loss: 0.3388 - val_accuracy: 0.6522\n",
            "Epoch 110/250\n",
            "21/21 [==============================] - 15s 717ms/step - loss: 0.2815 - accuracy: 0.7160 - val_loss: 0.3477 - val_accuracy: 0.6522\n",
            "Epoch 111/250\n",
            "21/21 [==============================] - 15s 726ms/step - loss: 0.2769 - accuracy: 0.7160 - val_loss: 0.3362 - val_accuracy: 0.6522\n",
            "Epoch 112/250\n",
            "21/21 [==============================] - 15s 699ms/step - loss: 0.2762 - accuracy: 0.7160 - val_loss: 0.3388 - val_accuracy: 0.6522\n",
            "Epoch 113/250\n",
            "21/21 [==============================] - 15s 710ms/step - loss: 0.2760 - accuracy: 0.7160 - val_loss: 0.3420 - val_accuracy: 0.6522\n",
            "Epoch 114/250\n",
            "21/21 [==============================] - 15s 706ms/step - loss: 0.2740 - accuracy: 0.7160 - val_loss: 0.3323 - val_accuracy: 0.6522\n",
            "Epoch 115/250\n",
            "21/21 [==============================] - 15s 716ms/step - loss: 0.2738 - accuracy: 0.7160 - val_loss: 0.3328 - val_accuracy: 0.6522\n",
            "Epoch 116/250\n",
            "21/21 [==============================] - 15s 721ms/step - loss: 0.2725 - accuracy: 0.7160 - val_loss: 0.3359 - val_accuracy: 0.6522\n",
            "Epoch 117/250\n",
            "21/21 [==============================] - 15s 711ms/step - loss: 0.2796 - accuracy: 0.7160 - val_loss: 0.3476 - val_accuracy: 0.6522\n",
            "Epoch 118/250\n",
            "21/21 [==============================] - 15s 724ms/step - loss: 0.2817 - accuracy: 0.7160 - val_loss: 0.3630 - val_accuracy: 0.6522\n"
          ]
        }
      ],
      "source": [
        "history = ensemble_1.fit(x=train_x, y=train_y, epochs=250, batch_size=16, validation_data=(valid_x, valid_y), callbacks=[es_callback], verbose=1)"
      ]
    },
    {
      "cell_type": "markdown",
      "metadata": {
        "id": "2G5PzBU7JgC1"
      },
      "source": [
        "# Single Network Results"
      ]
    },
    {
      "cell_type": "markdown",
      "metadata": {
        "id": "bXhT31y2JnfH"
      },
      "source": [
        "## Elman"
      ]
    },
    {
      "cell_type": "code",
      "execution_count": null,
      "metadata": {
        "colab": {
          "base_uri": "https://localhost:8080/"
        },
        "id": "ieWk0mTsRxxI",
        "outputId": "9a3203a8-578b-470a-c3ea-de81a87b7028"
      },
      "outputs": [
        {
          "name": "stdout",
          "output_type": "stream",
          "text": [
            "+-------+--------+----------------+---------------------+---------------+\n",
            "| #Cell | #Epoch | Train Accuracy | Validation Accuracy | Test Accuracy |\n",
            "+-------+--------+----------------+---------------------+---------------+\n",
            "|   8   |  141   |     86.73%     |        80.43%       |     89.25%    |\n",
            "|   32  |  193   |     97.84%     |        97.83%       |     95.7%     |\n",
            "|   64  |   98   |     95.68%     |        89.13%       |     90.32%    |\n",
            "|  128  |   45   |     93.83%     |        93.48%       |     90.32%    |\n",
            "|  512  |   29   |     89.81%     |        82.61%       |     88.17%    |\n",
            "|  2048 |   46   |     99.38%     |        95.65%       |     96.77%    |\n",
            "+-------+--------+----------------+---------------------+---------------+\n"
          ]
        }
      ],
      "source": [
        "table = prettytable.PrettyTable()\n",
        "table.field_names = [\"#Cell\", \"#Epoch\", \"Train Accuracy\", \"Validation Accuracy\", \"Test Accuracy\"]\n",
        "\n",
        "for cell_number in [8, 32, 64, 128, 512, 2048]:\n",
        "  elman = ElmanNetwork(cell_number)\n",
        "\n",
        "  es_callback = EarlyStopping(monitor=\"val_loss\", patience=10, restore_best_weights=True)\n",
        "\n",
        "  elman.compile(optimizer=keras.optimizers.Adam(learning_rate=0.001), loss=\"sparse_categorical_crossentropy\", metrics=[\"accuracy\"])\n",
        "\n",
        "  history = elman.fit(x=train_x, y=train_y, epochs=250, batch_size=16, validation_data=(valid_x, valid_y), callbacks=[es_callback], verbose=0)\n",
        "\n",
        "  table.add_row([cell_number, history.epoch[-1]+1,\n",
        "                 f\"{round(elman.evaluate(x=train_x, y=train_y, verbose=0)[1]*100, 2)}%\",\n",
        "                 f\"{round(elman.evaluate(x=valid_x, y=valid_y, verbose=0)[1]*100, 2)}%\",\n",
        "                 f\"{round(elman.evaluate(x=test_x, y=test_y, verbose=0)[1]*100, 2)}%\"\n",
        "                 ])\n",
        "print(table)"
      ]
    },
    {
      "cell_type": "markdown",
      "metadata": {
        "id": "U5kOi4TtJppQ"
      },
      "source": [
        "## Jordan"
      ]
    },
    {
      "cell_type": "code",
      "execution_count": null,
      "metadata": {
        "colab": {
          "base_uri": "https://localhost:8080/"
        },
        "id": "kpEUiy5rs22v",
        "outputId": "047d17d9-7e95-43cb-d5a4-00200dc942cb"
      },
      "outputs": [
        {
          "name": "stdout",
          "output_type": "stream",
          "text": [
            "+-------+--------+----------------+---------------------+---------------+\n",
            "| #Cell | #Epoch | Train Accuracy | Validation Accuracy | Test Accuracy |\n",
            "+-------+--------+----------------+---------------------+---------------+\n",
            "|   8   |   33   |     75.0%      |        76.09%       |     81.72%    |\n",
            "|   32  |  157   |     95.37%     |        91.3%        |     94.62%    |\n",
            "|   64  |   74   |     91.05%     |        73.91%       |     91.4%     |\n",
            "|  128  |  118   |     97.22%     |        86.96%       |     89.25%    |\n",
            "|  512  |   27   |     84.88%     |        65.22%       |     86.02%    |\n",
            "|  2048 |   16   |     79.94%     |        76.09%       |     81.72%    |\n",
            "+-------+--------+----------------+---------------------+---------------+\n"
          ]
        }
      ],
      "source": [
        "table = prettytable.PrettyTable()\n",
        "table.field_names = [\"#Cell\", \"#Epoch\", \"Train Accuracy\", \"Validation Accuracy\", \"Test Accuracy\"]\n",
        "\n",
        "for cell_number in [8, 32, 64, 128, 512, 2048]:\n",
        "  jordan = JordanNetwork(cell_number)\n",
        "\n",
        "  es_callback = EarlyStopping(monitor=\"val_loss\", patience=10, restore_best_weights=True)\n",
        "\n",
        "  jordan.compile(optimizer=keras.optimizers.Adam(learning_rate=0.001), loss=\"sparse_categorical_crossentropy\", metrics=[\"accuracy\"])\n",
        "\n",
        "  history = jordan.fit(x=train_x, y=train_y, epochs=250, batch_size=16, validation_data=(valid_x, valid_y), callbacks=[es_callback], verbose=0)\n",
        "\n",
        "  table.add_row([cell_number, history.epoch[-1]+1,\n",
        "                 f\"{round(jordan.evaluate(x=train_x, y=train_y, verbose=0)[1]*100, 2)}%\",\n",
        "                 f\"{round(jordan.evaluate(x=valid_x, y=valid_y, verbose=0)[1]*100, 2)}%\",\n",
        "                 f\"{round(jordan.evaluate(x=test_x, y=test_y, verbose=0)[1]*100, 2)}%\"\n",
        "                 ])\n",
        "print(table)"
      ]
    },
    {
      "cell_type": "markdown",
      "metadata": {
        "id": "zQBUs2lRIoMp"
      },
      "source": [
        "# Ensemble Network Results"
      ]
    },
    {
      "cell_type": "markdown",
      "metadata": {
        "id": "LvlzfGZaJ2Uc"
      },
      "source": [
        "## Only Elman"
      ]
    },
    {
      "cell_type": "code",
      "execution_count": null,
      "metadata": {
        "id": "TzNH2J8rJrOu"
      },
      "outputs": [],
      "source": [
        ""
      ]
    },
    {
      "cell_type": "code",
      "execution_count": null,
      "metadata": {
        "id": "2Sd2GuasvCxv"
      },
      "outputs": [],
      "source": [
        ""
      ]
    }
  ],
  "metadata": {
    "accelerator": "GPU",
    "colab": {
      "collapsed_sections": [],
      "name": "NN-HW5.ipynb",
      "toc_visible": true,
      "provenance": [],
      "authorship_tag": "ABX9TyOnFdHZANlkRqJPxKZmTALv",
      "include_colab_link": true
    },
    "kernelspec": {
      "display_name": "Python 3",
      "name": "python3"
    },
    "language_info": {
      "name": "python"
    }
  },
  "nbformat": 4,
  "nbformat_minor": 0
}