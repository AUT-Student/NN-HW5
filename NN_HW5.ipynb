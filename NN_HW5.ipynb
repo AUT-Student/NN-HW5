{
  "cells": [
    {
      "cell_type": "markdown",
      "metadata": {
        "id": "view-in-github",
        "colab_type": "text"
      },
      "source": [
        "<a href=\"https://colab.research.google.com/github/AUT-Student/NN-HW5/blob/main/NN_HW5.ipynb\" target=\"_parent\"><img src=\"https://colab.research.google.com/assets/colab-badge.svg\" alt=\"Open In Colab\"/></a>"
      ]
    },
    {
      "cell_type": "markdown",
      "metadata": {
        "id": "PXi3EMtBmo2y"
      },
      "source": [
        "# Libraries"
      ]
    },
    {
      "cell_type": "code",
      "execution_count": 1,
      "metadata": {
        "id": "Gc0siDpwmJXX"
      },
      "outputs": [],
      "source": [
        "import numpy as np\n",
        "import matplotlib.pyplot as plt\n",
        "import pandas as pd\n",
        "from sklearn.utils import shuffle\n",
        "from sklearn.metrics import confusion_matrix\n",
        "\n",
        "import tensorflow as tf\n",
        "import tensorflow.keras as keras\n",
        "from keras.layers import Dense, Input, Concatenate, LSTM, SimpleRNN, RNN\n",
        "import keras.backend as K\n",
        "from keras.models import Sequential\n",
        "from keras.callbacks import EarlyStopping"
      ]
    },
    {
      "cell_type": "code",
      "source": [
        "# Load the TensorBoard notebook extension\n",
        "%load_ext tensorboard"
      ],
      "metadata": {
        "id": "fOi5QMZvcmOy"
      },
      "execution_count": 2,
      "outputs": []
    },
    {
      "cell_type": "markdown",
      "metadata": {
        "id": "Ru6GOwOPm0de"
      },
      "source": [
        "# Dataset"
      ]
    },
    {
      "cell_type": "code",
      "source": [
        "pd.read_csv(\"https://archive.ics.uci.edu/ml/machine-learning-databases/robotfailure-mld/lp1.data\")"
      ],
      "metadata": {
        "colab": {
          "base_uri": "https://localhost:8080/",
          "height": 424
        },
        "id": "y4WV7ZIqGlt2",
        "outputId": "b0c65a5b-38bf-49e2-cc4f-953f4122acb2"
      },
      "execution_count": 10,
      "outputs": [
        {
          "output_type": "execute_result",
          "data": {
            "text/plain": [
              "                         normal\n",
              "0       \\t-1\\t-1\\t63\\t-3\\t-1\\t0\n",
              "1         \\t0\\t0\\t62\\t-3\\t-1\\t0\n",
              "2        \\t-1\\t-1\\t61\\t-3\\t0\\t0\n",
              "3       \\t-1\\t-1\\t63\\t-2\\t-1\\t0\n",
              "4       \\t-1\\t-1\\t63\\t-3\\t-1\\t0\n",
              "...                         ...\n",
              "1402  \\t-10\\t2\\t39\\t-21\\t-24\\t5\n",
              "1403  \\t-11\\t2\\t38\\t-24\\t-22\\t6\n",
              "1404  \\t-12\\t3\\t23\\t-24\\t-24\\t5\n",
              "1405  \\t-13\\t4\\t26\\t-29\\t-27\\t5\n",
              "1406  \\t-13\\t2\\t15\\t-25\\t-25\\t6\n",
              "\n",
              "[1407 rows x 1 columns]"
            ],
            "text/html": [
              "\n",
              "  <div id=\"df-7c859240-2e55-4ff7-9c6c-c7cf5e49fafb\">\n",
              "    <div class=\"colab-df-container\">\n",
              "      <div>\n",
              "<style scoped>\n",
              "    .dataframe tbody tr th:only-of-type {\n",
              "        vertical-align: middle;\n",
              "    }\n",
              "\n",
              "    .dataframe tbody tr th {\n",
              "        vertical-align: top;\n",
              "    }\n",
              "\n",
              "    .dataframe thead th {\n",
              "        text-align: right;\n",
              "    }\n",
              "</style>\n",
              "<table border=\"1\" class=\"dataframe\">\n",
              "  <thead>\n",
              "    <tr style=\"text-align: right;\">\n",
              "      <th></th>\n",
              "      <th>normal</th>\n",
              "    </tr>\n",
              "  </thead>\n",
              "  <tbody>\n",
              "    <tr>\n",
              "      <th>0</th>\n",
              "      <td>\\t-1\\t-1\\t63\\t-3\\t-1\\t0</td>\n",
              "    </tr>\n",
              "    <tr>\n",
              "      <th>1</th>\n",
              "      <td>\\t0\\t0\\t62\\t-3\\t-1\\t0</td>\n",
              "    </tr>\n",
              "    <tr>\n",
              "      <th>2</th>\n",
              "      <td>\\t-1\\t-1\\t61\\t-3\\t0\\t0</td>\n",
              "    </tr>\n",
              "    <tr>\n",
              "      <th>3</th>\n",
              "      <td>\\t-1\\t-1\\t63\\t-2\\t-1\\t0</td>\n",
              "    </tr>\n",
              "    <tr>\n",
              "      <th>4</th>\n",
              "      <td>\\t-1\\t-1\\t63\\t-3\\t-1\\t0</td>\n",
              "    </tr>\n",
              "    <tr>\n",
              "      <th>...</th>\n",
              "      <td>...</td>\n",
              "    </tr>\n",
              "    <tr>\n",
              "      <th>1402</th>\n",
              "      <td>\\t-10\\t2\\t39\\t-21\\t-24\\t5</td>\n",
              "    </tr>\n",
              "    <tr>\n",
              "      <th>1403</th>\n",
              "      <td>\\t-11\\t2\\t38\\t-24\\t-22\\t6</td>\n",
              "    </tr>\n",
              "    <tr>\n",
              "      <th>1404</th>\n",
              "      <td>\\t-12\\t3\\t23\\t-24\\t-24\\t5</td>\n",
              "    </tr>\n",
              "    <tr>\n",
              "      <th>1405</th>\n",
              "      <td>\\t-13\\t4\\t26\\t-29\\t-27\\t5</td>\n",
              "    </tr>\n",
              "    <tr>\n",
              "      <th>1406</th>\n",
              "      <td>\\t-13\\t2\\t15\\t-25\\t-25\\t6</td>\n",
              "    </tr>\n",
              "  </tbody>\n",
              "</table>\n",
              "<p>1407 rows × 1 columns</p>\n",
              "</div>\n",
              "      <button class=\"colab-df-convert\" onclick=\"convertToInteractive('df-7c859240-2e55-4ff7-9c6c-c7cf5e49fafb')\"\n",
              "              title=\"Convert this dataframe to an interactive table.\"\n",
              "              style=\"display:none;\">\n",
              "        \n",
              "  <svg xmlns=\"http://www.w3.org/2000/svg\" height=\"24px\"viewBox=\"0 0 24 24\"\n",
              "       width=\"24px\">\n",
              "    <path d=\"M0 0h24v24H0V0z\" fill=\"none\"/>\n",
              "    <path d=\"M18.56 5.44l.94 2.06.94-2.06 2.06-.94-2.06-.94-.94-2.06-.94 2.06-2.06.94zm-11 1L8.5 8.5l.94-2.06 2.06-.94-2.06-.94L8.5 2.5l-.94 2.06-2.06.94zm10 10l.94 2.06.94-2.06 2.06-.94-2.06-.94-.94-2.06-.94 2.06-2.06.94z\"/><path d=\"M17.41 7.96l-1.37-1.37c-.4-.4-.92-.59-1.43-.59-.52 0-1.04.2-1.43.59L10.3 9.45l-7.72 7.72c-.78.78-.78 2.05 0 2.83L4 21.41c.39.39.9.59 1.41.59.51 0 1.02-.2 1.41-.59l7.78-7.78 2.81-2.81c.8-.78.8-2.07 0-2.86zM5.41 20L4 18.59l7.72-7.72 1.47 1.35L5.41 20z\"/>\n",
              "  </svg>\n",
              "      </button>\n",
              "      \n",
              "  <style>\n",
              "    .colab-df-container {\n",
              "      display:flex;\n",
              "      flex-wrap:wrap;\n",
              "      gap: 12px;\n",
              "    }\n",
              "\n",
              "    .colab-df-convert {\n",
              "      background-color: #E8F0FE;\n",
              "      border: none;\n",
              "      border-radius: 50%;\n",
              "      cursor: pointer;\n",
              "      display: none;\n",
              "      fill: #1967D2;\n",
              "      height: 32px;\n",
              "      padding: 0 0 0 0;\n",
              "      width: 32px;\n",
              "    }\n",
              "\n",
              "    .colab-df-convert:hover {\n",
              "      background-color: #E2EBFA;\n",
              "      box-shadow: 0px 1px 2px rgba(60, 64, 67, 0.3), 0px 1px 3px 1px rgba(60, 64, 67, 0.15);\n",
              "      fill: #174EA6;\n",
              "    }\n",
              "\n",
              "    [theme=dark] .colab-df-convert {\n",
              "      background-color: #3B4455;\n",
              "      fill: #D2E3FC;\n",
              "    }\n",
              "\n",
              "    [theme=dark] .colab-df-convert:hover {\n",
              "      background-color: #434B5C;\n",
              "      box-shadow: 0px 1px 3px 1px rgba(0, 0, 0, 0.15);\n",
              "      filter: drop-shadow(0px 1px 2px rgba(0, 0, 0, 0.3));\n",
              "      fill: #FFFFFF;\n",
              "    }\n",
              "  </style>\n",
              "\n",
              "      <script>\n",
              "        const buttonEl =\n",
              "          document.querySelector('#df-7c859240-2e55-4ff7-9c6c-c7cf5e49fafb button.colab-df-convert');\n",
              "        buttonEl.style.display =\n",
              "          google.colab.kernel.accessAllowed ? 'block' : 'none';\n",
              "\n",
              "        async function convertToInteractive(key) {\n",
              "          const element = document.querySelector('#df-7c859240-2e55-4ff7-9c6c-c7cf5e49fafb');\n",
              "          const dataTable =\n",
              "            await google.colab.kernel.invokeFunction('convertToInteractive',\n",
              "                                                     [key], {});\n",
              "          if (!dataTable) return;\n",
              "\n",
              "          const docLinkHtml = 'Like what you see? Visit the ' +\n",
              "            '<a target=\"_blank\" href=https://colab.research.google.com/notebooks/data_table.ipynb>data table notebook</a>'\n",
              "            + ' to learn more about interactive tables.';\n",
              "          element.innerHTML = '';\n",
              "          dataTable['output_type'] = 'display_data';\n",
              "          await google.colab.output.renderOutput(dataTable, element);\n",
              "          const docLink = document.createElement('div');\n",
              "          docLink.innerHTML = docLinkHtml;\n",
              "          element.appendChild(docLink);\n",
              "        }\n",
              "      </script>\n",
              "    </div>\n",
              "  </div>\n",
              "  "
            ]
          },
          "metadata": {},
          "execution_count": 10
        }
      ]
    },
    {
      "cell_type": "code",
      "execution_count": 3,
      "metadata": {
        "colab": {
          "base_uri": "https://localhost:8080/"
        },
        "id": "9fZrU7N-cRwv",
        "outputId": "395f287f-58d5-4352-8965-30ff85784852"
      },
      "outputs": [
        {
          "output_type": "stream",
          "name": "stdout",
          "text": [
            "Downloading...\n",
            "From: https://archive.ics.uci.edu/ml/machine-learning-databases/robotfailure-mld/lp1.data\n",
            "To: /content/lp1.data\n",
            "100% 27.3k/27.3k [00:00<00:00, 218kB/s]\n",
            "Downloading...\n",
            "From: https://archive.ics.uci.edu/ml/machine-learning-databases/robotfailure-mld/lp2.data\n",
            "To: /content/lp2.data\n",
            "100% 14.6k/14.6k [00:00<00:00, 119kB/s]\n",
            "Downloading...\n",
            "From: https://archive.ics.uci.edu/ml/machine-learning-databases/robotfailure-mld/lp3.data\n",
            "To: /content/lp3.data\n",
            "100% 14.5k/14.5k [00:00<00:00, 129kB/s]\n",
            "Downloading...\n",
            "From: https://archive.ics.uci.edu/ml/machine-learning-databases/robotfailure-mld/lp4.data\n",
            "To: /content/lp4.data\n",
            "100% 33.6k/33.6k [00:00<00:00, 275kB/s]\n",
            "Downloading...\n",
            "From: https://archive.ics.uci.edu/ml/machine-learning-databases/robotfailure-mld/lp5.data\n",
            "To: /content/lp5.data\n",
            "100% 49.2k/49.2k [00:00<00:00, 189kB/s]\n"
          ]
        }
      ],
      "source": [
        "!gdown https://archive.ics.uci.edu/ml/machine-learning-databases/robotfailure-mld/lp1.data\n",
        "!gdown https://archive.ics.uci.edu/ml/machine-learning-databases/robotfailure-mld/lp2.data\n",
        "!gdown https://archive.ics.uci.edu/ml/machine-learning-databases/robotfailure-mld/lp3.data\n",
        "!gdown https://archive.ics.uci.edu/ml/machine-learning-databases/robotfailure-mld/lp4.data\n",
        "!gdown https://archive.ics.uci.edu/ml/machine-learning-databases/robotfailure-mld/lp5.data"
      ]
    },
    {
      "cell_type": "code",
      "execution_count": 4,
      "metadata": {
        "id": "zk3z9sDjk1DB"
      },
      "outputs": [],
      "source": [
        "normal_label_datasets = [\"normal\",\"normal\",\"ok\",\"normal\",\"normal\"]\n",
        "\n",
        "dataset_x = []\n",
        "dataset_y = []\n",
        "for i in range(5):\n",
        "  normal_label = normal_label_datasets[i]\n",
        "  dataset_i = pd.read_csv(f\"/content/lp{i+1}.data\", header=None)\n",
        "  \n",
        "  new_label = None\n",
        "  new_data = None\n",
        "\n",
        "  for j, row in dataset_i.iterrows():\n",
        "    if j%16==0:\n",
        "      new_data = []\n",
        "      \n",
        "      if row[0] == normal_label:\n",
        "         new_label = 0\n",
        "      else:\n",
        "         new_label = 1\n",
        "\n",
        "    else:\n",
        "      new_data.append([float(item) for item in row[0].split()])\n",
        "\n",
        "      if j%16==15:\n",
        "        dataset_x.append(new_data)\n",
        "        dataset_y.append(new_label)"
      ]
    },
    {
      "cell_type": "code",
      "execution_count": 5,
      "metadata": {
        "id": "t-rxihHJ1bRd"
      },
      "outputs": [],
      "source": [
        "dataset_x, dataset_y = shuffle(dataset_x, dataset_y, random_state=0)"
      ]
    },
    {
      "cell_type": "code",
      "source": [
        "dataset_len = len(dataset_x)"
      ],
      "metadata": {
        "id": "PzmPI7WuNFOl"
      },
      "execution_count": 6,
      "outputs": []
    },
    {
      "cell_type": "code",
      "source": [
        "train_x = dataset_x[:int(0.7*dataset_len)]\n",
        "train_y = dataset_y[:int(0.7*dataset_len)]\n",
        "\n",
        "valid_x = dataset_x[int(0.7*dataset_len):int(0.8*dataset_len)]\n",
        "valid_y = dataset_y[int(0.7*dataset_len):int(0.8*dataset_len)]\n",
        "\n",
        "test_x = dataset_x[int(0.8*dataset_len):]\n",
        "test_y = dataset_y[int(0.8*dataset_len):]"
      ],
      "metadata": {
        "id": "_kEyj76QNRJL"
      },
      "execution_count": 7,
      "outputs": []
    },
    {
      "cell_type": "code",
      "execution_count": 8,
      "metadata": {
        "id": "NAhjOIWH9O8B",
        "colab": {
          "base_uri": "https://localhost:8080/"
        },
        "outputId": "383e256a-7b82-40f9-fe59-ac79a000cca2"
      },
      "outputs": [
        {
          "output_type": "execute_result",
          "data": {
            "text/plain": [
              "71.60493827160494"
            ]
          },
          "metadata": {},
          "execution_count": 8
        }
      ],
      "source": [
        "sum(train_y) * 100 / len(train_y)"
      ]
    },
    {
      "cell_type": "code",
      "source": [
        "sum(test_y) * 100 / len(test_y)"
      ],
      "metadata": {
        "colab": {
          "base_uri": "https://localhost:8080/"
        },
        "id": "zZmucDcURl4G",
        "outputId": "8e2d455b-66d0-4997-c720-43731ce94334"
      },
      "execution_count": 9,
      "outputs": [
        {
          "output_type": "execute_result",
          "data": {
            "text/plain": [
              "77.41935483870968"
            ]
          },
          "metadata": {},
          "execution_count": 9
        }
      ]
    },
    {
      "cell_type": "markdown",
      "source": [
        "# Elman"
      ],
      "metadata": {
        "id": "GBqq6rPr9eQK"
      }
    },
    {
      "cell_type": "code",
      "source": [
        "class ElmanCell(keras.layers.Layer):\n",
        "  # Refrences: https://github.com/keras-team/keras/blob/v2.9.0/keras/layers/rnn/base_rnn.py#L36-L862\n",
        "\n",
        "  def __init__(self, units):\n",
        "      super().__init__()\n",
        "      self.units = units\n",
        "      self.state_size = units\n",
        "\n",
        "  def build(self, input_shape):\n",
        "      self.kernel = self.add_weight(shape=(input_shape[-1], self.units),name='kernel')\n",
        "      self.recurrent_kernel = self.add_weight( shape=(self.units, self.units), name='recurrent_kernel')\n",
        "      self.built = True\n",
        "\n",
        "  def call(self, inputs, states):\n",
        "      prev_output = states[0]\n",
        "      h = K.dot(inputs, self.kernel)\n",
        "      output = h + K.dot(prev_output, self.recurrent_kernel)\n",
        "      return output, [output]"
      ],
      "metadata": {
        "id": "hy9gB9Pi4yZE"
      },
      "execution_count": 24,
      "outputs": []
    },
    {
      "cell_type": "code",
      "source": [
        "class ElmanNetwork(keras.Model):\n",
        "  def __init__(self, elman_cell_number):\n",
        "    super().__init__()\n",
        "    self.model = minimal_model = Sequential([\n",
        "                                            Input((15,6,)),\n",
        "                                            RNN(ElmanCell(elman_cell_number)),\n",
        "                                            Dense(2, activation=\"softmax\")\n",
        "                                ])\n",
        "  def call(self, inputs):\n",
        "    return self.model.call(inputs)"
      ],
      "metadata": {
        "id": "mT5C85LeONuV"
      },
      "execution_count": 25,
      "outputs": []
    },
    {
      "cell_type": "code",
      "source": [
        "elman = ElmanNetwork(128)"
      ],
      "metadata": {
        "id": "6Ua5-KUtTW77"
      },
      "execution_count": 26,
      "outputs": []
    },
    {
      "cell_type": "code",
      "source": [
        "elman.compile(optimizer=keras.optimizers.Adam(learning_rate=0.00001), loss=\"sparse_categorical_crossentropy\", metrics=[\"accuracy\"])"
      ],
      "metadata": {
        "id": "4jCYgg2a7op6"
      },
      "execution_count": 28,
      "outputs": []
    },
    {
      "cell_type": "code",
      "source": [
        "elman.fit(x=train_x, y=train_y, epochs=100, batch_size=16, validation_data=(valid_x, valid_y))"
      ],
      "metadata": {
        "colab": {
          "base_uri": "https://localhost:8080/"
        },
        "id": "IW6cvny27_5X",
        "outputId": "ca11634e-6601-4c34-a650-5aedae1a7f83"
      },
      "execution_count": 31,
      "outputs": [
        {
          "output_type": "stream",
          "name": "stdout",
          "text": [
            "Epoch 1/100\n",
            "21/21 [==============================] - 0s 17ms/step - loss: 0.6274 - accuracy: 0.8117 - val_loss: 6.4649 - val_accuracy: 0.6087\n",
            "Epoch 2/100\n",
            "21/21 [==============================] - 0s 11ms/step - loss: 0.6190 - accuracy: 0.7994 - val_loss: 6.6207 - val_accuracy: 0.5870\n",
            "Epoch 3/100\n",
            "21/21 [==============================] - 0s 11ms/step - loss: 0.6106 - accuracy: 0.8210 - val_loss: 6.3373 - val_accuracy: 0.6304\n",
            "Epoch 4/100\n",
            "21/21 [==============================] - 0s 12ms/step - loss: 0.6316 - accuracy: 0.7963 - val_loss: 6.7648 - val_accuracy: 0.5652\n",
            "Epoch 5/100\n",
            "21/21 [==============================] - 0s 17ms/step - loss: 0.6395 - accuracy: 0.8056 - val_loss: 6.3136 - val_accuracy: 0.6304\n",
            "Epoch 6/100\n",
            "21/21 [==============================] - 0s 15ms/step - loss: 0.6594 - accuracy: 0.7840 - val_loss: 5.2068 - val_accuracy: 0.5870\n",
            "Epoch 7/100\n",
            "21/21 [==============================] - 0s 15ms/step - loss: 0.7968 - accuracy: 0.7778 - val_loss: 5.0548 - val_accuracy: 0.6087\n",
            "Epoch 8/100\n",
            "21/21 [==============================] - 0s 13ms/step - loss: 0.6409 - accuracy: 0.7840 - val_loss: 5.5256 - val_accuracy: 0.6087\n",
            "Epoch 9/100\n",
            "21/21 [==============================] - 0s 7ms/step - loss: 0.6332 - accuracy: 0.7840 - val_loss: 5.9794 - val_accuracy: 0.6087\n",
            "Epoch 10/100\n",
            "21/21 [==============================] - 0s 7ms/step - loss: 0.6235 - accuracy: 0.8025 - val_loss: 5.8870 - val_accuracy: 0.5870\n",
            "Epoch 11/100\n",
            "21/21 [==============================] - 0s 6ms/step - loss: 0.6294 - accuracy: 0.7870 - val_loss: 5.8089 - val_accuracy: 0.6087\n",
            "Epoch 12/100\n",
            "21/21 [==============================] - 0s 7ms/step - loss: 0.6908 - accuracy: 0.7840 - val_loss: 6.3115 - val_accuracy: 0.6304\n",
            "Epoch 13/100\n",
            "21/21 [==============================] - 0s 7ms/step - loss: 0.6359 - accuracy: 0.7840 - val_loss: 7.1660 - val_accuracy: 0.5870\n",
            "Epoch 14/100\n",
            "21/21 [==============================] - 0s 6ms/step - loss: 0.6792 - accuracy: 0.7932 - val_loss: 6.9566 - val_accuracy: 0.6739\n",
            "Epoch 15/100\n",
            "21/21 [==============================] - 0s 7ms/step - loss: 0.6646 - accuracy: 0.7870 - val_loss: 7.1008 - val_accuracy: 0.6087\n",
            "Epoch 16/100\n",
            "21/21 [==============================] - 0s 6ms/step - loss: 0.6385 - accuracy: 0.7747 - val_loss: 5.8732 - val_accuracy: 0.6087\n",
            "Epoch 17/100\n",
            "21/21 [==============================] - 0s 6ms/step - loss: 0.6695 - accuracy: 0.7654 - val_loss: 5.8604 - val_accuracy: 0.5652\n",
            "Epoch 18/100\n",
            "21/21 [==============================] - 0s 7ms/step - loss: 0.6175 - accuracy: 0.7901 - val_loss: 5.8378 - val_accuracy: 0.5870\n",
            "Epoch 19/100\n",
            "21/21 [==============================] - 0s 6ms/step - loss: 0.6140 - accuracy: 0.7870 - val_loss: 5.9640 - val_accuracy: 0.5870\n",
            "Epoch 20/100\n",
            "21/21 [==============================] - 0s 8ms/step - loss: 0.6404 - accuracy: 0.7994 - val_loss: 5.4762 - val_accuracy: 0.5870\n",
            "Epoch 21/100\n",
            "21/21 [==============================] - 0s 6ms/step - loss: 0.6098 - accuracy: 0.7840 - val_loss: 5.5200 - val_accuracy: 0.5870\n",
            "Epoch 22/100\n",
            "21/21 [==============================] - 0s 6ms/step - loss: 0.5921 - accuracy: 0.7963 - val_loss: 5.7267 - val_accuracy: 0.5870\n",
            "Epoch 23/100\n",
            "21/21 [==============================] - 0s 8ms/step - loss: 0.6085 - accuracy: 0.7994 - val_loss: 5.5092 - val_accuracy: 0.6304\n",
            "Epoch 24/100\n",
            "21/21 [==============================] - 0s 7ms/step - loss: 0.6073 - accuracy: 0.7901 - val_loss: 6.0400 - val_accuracy: 0.6087\n",
            "Epoch 25/100\n",
            "21/21 [==============================] - 0s 7ms/step - loss: 0.6169 - accuracy: 0.7901 - val_loss: 5.9028 - val_accuracy: 0.6739\n",
            "Epoch 26/100\n",
            "21/21 [==============================] - 0s 7ms/step - loss: 0.6621 - accuracy: 0.7809 - val_loss: 6.7751 - val_accuracy: 0.6087\n",
            "Epoch 27/100\n",
            "21/21 [==============================] - 0s 7ms/step - loss: 0.6264 - accuracy: 0.7747 - val_loss: 6.3725 - val_accuracy: 0.6957\n",
            "Epoch 28/100\n",
            "21/21 [==============================] - 0s 7ms/step - loss: 0.6421 - accuracy: 0.7932 - val_loss: 6.7750 - val_accuracy: 0.6304\n",
            "Epoch 29/100\n",
            "21/21 [==============================] - 0s 6ms/step - loss: 0.6184 - accuracy: 0.7994 - val_loss: 6.8825 - val_accuracy: 0.6304\n",
            "Epoch 30/100\n",
            "21/21 [==============================] - 0s 6ms/step - loss: 0.5940 - accuracy: 0.7901 - val_loss: 7.0180 - val_accuracy: 0.5870\n",
            "Epoch 31/100\n",
            "21/21 [==============================] - 0s 7ms/step - loss: 0.5848 - accuracy: 0.7994 - val_loss: 6.9077 - val_accuracy: 0.6304\n",
            "Epoch 32/100\n",
            "21/21 [==============================] - 0s 7ms/step - loss: 0.5839 - accuracy: 0.8025 - val_loss: 6.7310 - val_accuracy: 0.6304\n",
            "Epoch 33/100\n",
            "21/21 [==============================] - 0s 6ms/step - loss: 0.5800 - accuracy: 0.7932 - val_loss: 6.6712 - val_accuracy: 0.6087\n",
            "Epoch 34/100\n",
            "21/21 [==============================] - 0s 7ms/step - loss: 0.5736 - accuracy: 0.7932 - val_loss: 6.8015 - val_accuracy: 0.6087\n",
            "Epoch 35/100\n",
            "21/21 [==============================] - 0s 8ms/step - loss: 0.6447 - accuracy: 0.7809 - val_loss: 5.0006 - val_accuracy: 0.7174\n",
            "Epoch 36/100\n",
            "21/21 [==============================] - 0s 7ms/step - loss: 0.6793 - accuracy: 0.7809 - val_loss: 5.8478 - val_accuracy: 0.7174\n",
            "Epoch 37/100\n",
            "21/21 [==============================] - 0s 7ms/step - loss: 0.6133 - accuracy: 0.7963 - val_loss: 6.1298 - val_accuracy: 0.6304\n",
            "Epoch 38/100\n",
            "21/21 [==============================] - 0s 6ms/step - loss: 0.5789 - accuracy: 0.8056 - val_loss: 6.0820 - val_accuracy: 0.5870\n",
            "Epoch 39/100\n",
            "21/21 [==============================] - 0s 7ms/step - loss: 0.5815 - accuracy: 0.8056 - val_loss: 6.1764 - val_accuracy: 0.6522\n",
            "Epoch 40/100\n",
            "21/21 [==============================] - 0s 7ms/step - loss: 0.5711 - accuracy: 0.7963 - val_loss: 6.2150 - val_accuracy: 0.6522\n",
            "Epoch 41/100\n",
            "21/21 [==============================] - 0s 6ms/step - loss: 0.5739 - accuracy: 0.8025 - val_loss: 5.9968 - val_accuracy: 0.6522\n",
            "Epoch 42/100\n",
            "21/21 [==============================] - 0s 7ms/step - loss: 0.5820 - accuracy: 0.8056 - val_loss: 6.1361 - val_accuracy: 0.6087\n",
            "Epoch 43/100\n",
            "21/21 [==============================] - 0s 6ms/step - loss: 0.5643 - accuracy: 0.8117 - val_loss: 5.8365 - val_accuracy: 0.6304\n",
            "Epoch 44/100\n",
            "21/21 [==============================] - 0s 7ms/step - loss: 0.5758 - accuracy: 0.7963 - val_loss: 5.6709 - val_accuracy: 0.6957\n",
            "Epoch 45/100\n",
            "21/21 [==============================] - 0s 6ms/step - loss: 0.5734 - accuracy: 0.8272 - val_loss: 6.0270 - val_accuracy: 0.6522\n",
            "Epoch 46/100\n",
            "21/21 [==============================] - 0s 7ms/step - loss: 0.5689 - accuracy: 0.8086 - val_loss: 6.1962 - val_accuracy: 0.6957\n",
            "Epoch 47/100\n",
            "21/21 [==============================] - 0s 7ms/step - loss: 0.5693 - accuracy: 0.8056 - val_loss: 6.4418 - val_accuracy: 0.6957\n",
            "Epoch 48/100\n",
            "21/21 [==============================] - 0s 6ms/step - loss: 0.5695 - accuracy: 0.8056 - val_loss: 6.1904 - val_accuracy: 0.6957\n",
            "Epoch 49/100\n",
            "21/21 [==============================] - 0s 6ms/step - loss: 0.5780 - accuracy: 0.8056 - val_loss: 6.3334 - val_accuracy: 0.6304\n",
            "Epoch 50/100\n",
            "21/21 [==============================] - 0s 6ms/step - loss: 0.6341 - accuracy: 0.8025 - val_loss: 4.8486 - val_accuracy: 0.6739\n",
            "Epoch 51/100\n",
            "21/21 [==============================] - 0s 7ms/step - loss: 0.6049 - accuracy: 0.7932 - val_loss: 5.5174 - val_accuracy: 0.6739\n",
            "Epoch 52/100\n",
            "21/21 [==============================] - 0s 7ms/step - loss: 0.5560 - accuracy: 0.8148 - val_loss: 5.9165 - val_accuracy: 0.6087\n",
            "Epoch 53/100\n",
            "21/21 [==============================] - 0s 6ms/step - loss: 0.5520 - accuracy: 0.8056 - val_loss: 5.5449 - val_accuracy: 0.6957\n",
            "Epoch 54/100\n",
            "21/21 [==============================] - 0s 6ms/step - loss: 0.5482 - accuracy: 0.8086 - val_loss: 5.6977 - val_accuracy: 0.6304\n",
            "Epoch 55/100\n",
            "21/21 [==============================] - 0s 6ms/step - loss: 0.5824 - accuracy: 0.7963 - val_loss: 5.4603 - val_accuracy: 0.6739\n",
            "Epoch 56/100\n",
            "21/21 [==============================] - 0s 7ms/step - loss: 0.5760 - accuracy: 0.8056 - val_loss: 4.2110 - val_accuracy: 0.7174\n",
            "Epoch 57/100\n",
            "21/21 [==============================] - 0s 7ms/step - loss: 0.6862 - accuracy: 0.7901 - val_loss: 4.3515 - val_accuracy: 0.6957\n",
            "Epoch 58/100\n",
            "21/21 [==============================] - 0s 7ms/step - loss: 0.5722 - accuracy: 0.7963 - val_loss: 5.2339 - val_accuracy: 0.6087\n",
            "Epoch 59/100\n",
            "21/21 [==============================] - 0s 6ms/step - loss: 0.6127 - accuracy: 0.7901 - val_loss: 5.3391 - val_accuracy: 0.7391\n",
            "Epoch 60/100\n",
            "21/21 [==============================] - 0s 7ms/step - loss: 0.6167 - accuracy: 0.7932 - val_loss: 5.5555 - val_accuracy: 0.6957\n",
            "Epoch 61/100\n",
            "21/21 [==============================] - 0s 7ms/step - loss: 0.6007 - accuracy: 0.7870 - val_loss: 6.4619 - val_accuracy: 0.6739\n",
            "Epoch 62/100\n",
            "21/21 [==============================] - 0s 7ms/step - loss: 0.6784 - accuracy: 0.7901 - val_loss: 6.0477 - val_accuracy: 0.7174\n",
            "Epoch 63/100\n",
            "21/21 [==============================] - 0s 7ms/step - loss: 0.6221 - accuracy: 0.7994 - val_loss: 5.8658 - val_accuracy: 0.6957\n",
            "Epoch 64/100\n",
            "21/21 [==============================] - 0s 7ms/step - loss: 0.5670 - accuracy: 0.7994 - val_loss: 5.7400 - val_accuracy: 0.6304\n",
            "Epoch 65/100\n",
            "21/21 [==============================] - 0s 7ms/step - loss: 0.5610 - accuracy: 0.7994 - val_loss: 5.8394 - val_accuracy: 0.6304\n",
            "Epoch 66/100\n",
            "21/21 [==============================] - 0s 6ms/step - loss: 0.5501 - accuracy: 0.8025 - val_loss: 5.6905 - val_accuracy: 0.6522\n",
            "Epoch 67/100\n",
            "21/21 [==============================] - 0s 6ms/step - loss: 0.5418 - accuracy: 0.8086 - val_loss: 5.6663 - val_accuracy: 0.6304\n",
            "Epoch 68/100\n",
            "21/21 [==============================] - 0s 7ms/step - loss: 0.5364 - accuracy: 0.8117 - val_loss: 5.7006 - val_accuracy: 0.6304\n",
            "Epoch 69/100\n",
            "21/21 [==============================] - 0s 6ms/step - loss: 0.5763 - accuracy: 0.8117 - val_loss: 5.5984 - val_accuracy: 0.7391\n",
            "Epoch 70/100\n",
            "21/21 [==============================] - 0s 7ms/step - loss: 0.6936 - accuracy: 0.8025 - val_loss: 5.3360 - val_accuracy: 0.6739\n",
            "Epoch 71/100\n",
            "21/21 [==============================] - 0s 8ms/step - loss: 0.5691 - accuracy: 0.8086 - val_loss: 6.1309 - val_accuracy: 0.6522\n",
            "Epoch 72/100\n",
            "21/21 [==============================] - 0s 6ms/step - loss: 0.5715 - accuracy: 0.7994 - val_loss: 5.8741 - val_accuracy: 0.7391\n",
            "Epoch 73/100\n",
            "21/21 [==============================] - 0s 7ms/step - loss: 0.5555 - accuracy: 0.8117 - val_loss: 5.5804 - val_accuracy: 0.7391\n",
            "Epoch 74/100\n",
            "21/21 [==============================] - 0s 7ms/step - loss: 0.5546 - accuracy: 0.7932 - val_loss: 5.2974 - val_accuracy: 0.7174\n",
            "Epoch 75/100\n",
            "21/21 [==============================] - 0s 7ms/step - loss: 0.5643 - accuracy: 0.8056 - val_loss: 5.4933 - val_accuracy: 0.6957\n",
            "Epoch 76/100\n",
            "21/21 [==============================] - 0s 6ms/step - loss: 0.5464 - accuracy: 0.8025 - val_loss: 5.7014 - val_accuracy: 0.6957\n",
            "Epoch 77/100\n",
            "21/21 [==============================] - 0s 6ms/step - loss: 0.5364 - accuracy: 0.8086 - val_loss: 6.2983 - val_accuracy: 0.6304\n",
            "Epoch 78/100\n",
            "21/21 [==============================] - 0s 7ms/step - loss: 0.5416 - accuracy: 0.8025 - val_loss: 5.9247 - val_accuracy: 0.6957\n",
            "Epoch 79/100\n",
            "21/21 [==============================] - 0s 7ms/step - loss: 0.6523 - accuracy: 0.8025 - val_loss: 4.7298 - val_accuracy: 0.7391\n",
            "Epoch 80/100\n",
            "21/21 [==============================] - 0s 7ms/step - loss: 0.6396 - accuracy: 0.7809 - val_loss: 4.1501 - val_accuracy: 0.6957\n",
            "Epoch 81/100\n",
            "21/21 [==============================] - 0s 6ms/step - loss: 0.7302 - accuracy: 0.7747 - val_loss: 5.3940 - val_accuracy: 0.6957\n",
            "Epoch 82/100\n",
            "21/21 [==============================] - 0s 6ms/step - loss: 0.7686 - accuracy: 0.7963 - val_loss: 5.5661 - val_accuracy: 0.6957\n",
            "Epoch 83/100\n",
            "21/21 [==============================] - 0s 7ms/step - loss: 0.7130 - accuracy: 0.7994 - val_loss: 6.1816 - val_accuracy: 0.7391\n",
            "Epoch 84/100\n",
            "21/21 [==============================] - 0s 7ms/step - loss: 0.6133 - accuracy: 0.8025 - val_loss: 6.2520 - val_accuracy: 0.7174\n",
            "Epoch 85/100\n",
            "21/21 [==============================] - 0s 6ms/step - loss: 0.5749 - accuracy: 0.7963 - val_loss: 6.2563 - val_accuracy: 0.6957\n",
            "Epoch 86/100\n",
            "21/21 [==============================] - 0s 7ms/step - loss: 0.5506 - accuracy: 0.7994 - val_loss: 6.2523 - val_accuracy: 0.7391\n",
            "Epoch 87/100\n",
            "21/21 [==============================] - 0s 6ms/step - loss: 0.5543 - accuracy: 0.8025 - val_loss: 5.9160 - val_accuracy: 0.7391\n",
            "Epoch 88/100\n",
            "21/21 [==============================] - 0s 7ms/step - loss: 0.5496 - accuracy: 0.8210 - val_loss: 6.0207 - val_accuracy: 0.6957\n",
            "Epoch 89/100\n",
            "21/21 [==============================] - 0s 7ms/step - loss: 0.5401 - accuracy: 0.8148 - val_loss: 5.9443 - val_accuracy: 0.7391\n",
            "Epoch 90/100\n",
            "21/21 [==============================] - 0s 7ms/step - loss: 0.5350 - accuracy: 0.8148 - val_loss: 5.8258 - val_accuracy: 0.7391\n",
            "Epoch 91/100\n",
            "21/21 [==============================] - 0s 8ms/step - loss: 0.5282 - accuracy: 0.8148 - val_loss: 5.9108 - val_accuracy: 0.7391\n",
            "Epoch 92/100\n",
            "21/21 [==============================] - 0s 7ms/step - loss: 0.5273 - accuracy: 0.8148 - val_loss: 5.7673 - val_accuracy: 0.7391\n",
            "Epoch 93/100\n",
            "21/21 [==============================] - 0s 6ms/step - loss: 0.5512 - accuracy: 0.8086 - val_loss: 5.8409 - val_accuracy: 0.6957\n",
            "Epoch 94/100\n",
            "21/21 [==============================] - 0s 7ms/step - loss: 0.5778 - accuracy: 0.8148 - val_loss: 4.2941 - val_accuracy: 0.6957\n",
            "Epoch 95/100\n",
            "21/21 [==============================] - 0s 6ms/step - loss: 0.6558 - accuracy: 0.8056 - val_loss: 4.6698 - val_accuracy: 0.7391\n",
            "Epoch 96/100\n",
            "21/21 [==============================] - 0s 7ms/step - loss: 0.5489 - accuracy: 0.8056 - val_loss: 5.1064 - val_accuracy: 0.7174\n",
            "Epoch 97/100\n",
            "21/21 [==============================] - 0s 7ms/step - loss: 0.5302 - accuracy: 0.8025 - val_loss: 5.0990 - val_accuracy: 0.7391\n",
            "Epoch 98/100\n",
            "21/21 [==============================] - 0s 6ms/step - loss: 0.5338 - accuracy: 0.8086 - val_loss: 5.1797 - val_accuracy: 0.7391\n",
            "Epoch 99/100\n",
            "21/21 [==============================] - 0s 7ms/step - loss: 0.5353 - accuracy: 0.8272 - val_loss: 5.1322 - val_accuracy: 0.6957\n",
            "Epoch 100/100\n",
            "21/21 [==============================] - 0s 7ms/step - loss: 0.5159 - accuracy: 0.8302 - val_loss: 4.7170 - val_accuracy: 0.7391\n"
          ]
        },
        {
          "output_type": "execute_result",
          "data": {
            "text/plain": [
              "<keras.callbacks.History at 0x7f5a168b86d0>"
            ]
          },
          "metadata": {},
          "execution_count": 31
        }
      ]
    },
    {
      "cell_type": "code",
      "source": [
        "elman.evaluate(x=train_x, y=train_y)\n",
        "elman.evaluate(x=valid_x, y=valid_y)\n",
        "elman.evaluate(x=test_x, y=test_y)"
      ],
      "metadata": {
        "colab": {
          "base_uri": "https://localhost:8080/"
        },
        "id": "m_zVmk_xOKJI",
        "outputId": "3ae620d1-7203-48d2-bd01-afae7cae3749"
      },
      "execution_count": 32,
      "outputs": [
        {
          "output_type": "stream",
          "name": "stdout",
          "text": [
            "11/11 [==============================] - 0s 3ms/step - loss: 0.5207 - accuracy: 0.8148\n",
            "2/2 [==============================] - 0s 9ms/step - loss: 4.7170 - accuracy: 0.7391\n",
            "3/3 [==============================] - 0s 6ms/step - loss: 4.2789 - accuracy: 0.7527\n"
          ]
        },
        {
          "output_type": "execute_result",
          "data": {
            "text/plain": [
              "[4.278876304626465, 0.7526881694793701]"
            ]
          },
          "metadata": {},
          "execution_count": 32
        }
      ]
    },
    {
      "cell_type": "markdown",
      "source": [
        "# Old"
      ],
      "metadata": {
        "id": "bM4B8pJn4m_6"
      }
    },
    {
      "cell_type": "markdown",
      "source": [
        "## Elman Network"
      ],
      "metadata": {
        "id": "yKOrUCFNQ15m"
      }
    },
    {
      "cell_type": "code",
      "source": [
        "class Elman(keras.Model):\n",
        "  def __init__(self):\n",
        "    super().__init__(self)\n",
        "\n",
        "    self.model_partial = Sequential([\n",
        "                             Input(10, name=\"Input\"),\n",
        "                             Dense(640, name=\"Hidden1\"),\n",
        "                             Dense(160, name=\"Hidden2\"),\n",
        "                             Dense(64, name=\"Hidden3\"),\n",
        "                             Dense(4, name=\"Hidden4\")\n",
        "                          ])\n",
        "                            \n",
        "    self.model_output = Dense(2, activation=\"softmax\", name=\"Output\")\n",
        "\n",
        "  def call_recercive(self, input, prev_input):\n",
        "    if len(prev_input)==0:\n",
        "      concated = K.concatenate([input, K.constant([0., 0., 0., 0.])])\n",
        "      concated = tf.expand_dims(concated, axis=0)\n",
        "    else:\n",
        "      prev_state = self.call_recercive(prev_input[-1], prev_input[:-1])\n",
        "\n",
        "      input = tf.expand_dims(input, axis=0)\n",
        "      concated = K.concatenate([input, prev_state])\n",
        "    \n",
        "    state = self.model_partial.call(concated)\n",
        "\n",
        "    return state\n",
        "\n",
        "  # def call(self, inputs):\n",
        "  #   inputs = inputs[0]\n",
        "\n",
        "  #   input = inputs[-1]\n",
        "  #   prev_input = inputs[:-1]\n",
        "\n",
        "  #   state = self.call_recercive(input, prev_input)\n",
        "  #   output = self.model_output(state)\n",
        "\n",
        "  #   return output\n",
        "\n",
        "\n",
        "  def call(self, inputs):\n",
        "    inputs = inputs[0]\n",
        "\n",
        "    input = inputs[-1]\n",
        "    concated = K.concatenate([input, K.constant([0., 0., 0., 0.])])\n",
        "    concated = tf.expand_dims(concated, axis=0)\n",
        "\n",
        "    state = self.model_partial.call(concated)\n",
        "    output = self.model_output(state)\n",
        "\n",
        "    return output\n"
      ],
      "metadata": {
        "id": "5y8ppA_CMYQc"
      },
      "execution_count": 48,
      "outputs": []
    },
    {
      "cell_type": "code",
      "source": [
        "elman = Elman()"
      ],
      "metadata": {
        "id": "HsyQz78PRny3"
      },
      "execution_count": 49,
      "outputs": []
    },
    {
      "cell_type": "code",
      "source": [
        "elman.compile(optimizer=keras.optimizers.Adam(learning_rate=0.0003), loss=\"sparse_categorical_crossentropy\", metrics=[\"accuracy\"])"
      ],
      "metadata": {
        "id": "_Cpp4S-ERpk8"
      },
      "execution_count": 50,
      "outputs": []
    },
    {
      "cell_type": "code",
      "source": [
        "es_callback = EarlyStopping(monitor=\"val_loss\", patience=20, restore_best_weights=True)"
      ],
      "metadata": {
        "id": "6ZaWzj3yRtaZ"
      },
      "execution_count": 51,
      "outputs": []
    },
    {
      "cell_type": "code",
      "source": [
        "elman.fit(x=train_x, y=train_y, epochs=100, batch_size=1, validation_data=(valid_x, valid_y), callbacks=[es_callback])"
      ],
      "metadata": {
        "colab": {
          "base_uri": "https://localhost:8080/"
        },
        "id": "2SkYtaLVRwWw",
        "outputId": "a9f4ee0d-3641-4d4d-daae-1db2eb506389"
      },
      "execution_count": 52,
      "outputs": [
        {
          "output_type": "stream",
          "name": "stdout",
          "text": [
            "Epoch 1/100\n",
            "324/324 [==============================] - 1s 3ms/step - loss: 10.2907 - accuracy: 0.6481 - val_loss: 10.1209 - val_accuracy: 0.5217\n",
            "Epoch 2/100\n",
            "324/324 [==============================] - 1s 2ms/step - loss: 2.4158 - accuracy: 0.7191 - val_loss: 2.5965 - val_accuracy: 0.4565\n",
            "Epoch 3/100\n",
            "324/324 [==============================] - 1s 2ms/step - loss: 2.7790 - accuracy: 0.7006 - val_loss: 1.2626 - val_accuracy: 0.5652\n",
            "Epoch 4/100\n",
            "324/324 [==============================] - 1s 2ms/step - loss: 3.0551 - accuracy: 0.6698 - val_loss: 6.5484 - val_accuracy: 0.5000\n",
            "Epoch 5/100\n",
            "324/324 [==============================] - 1s 2ms/step - loss: 2.7894 - accuracy: 0.6821 - val_loss: 1.6720 - val_accuracy: 0.6087\n",
            "Epoch 6/100\n",
            "324/324 [==============================] - 1s 2ms/step - loss: 1.1848 - accuracy: 0.7253 - val_loss: 1.9578 - val_accuracy: 0.5000\n",
            "Epoch 7/100\n",
            "324/324 [==============================] - 1s 3ms/step - loss: 0.6743 - accuracy: 0.7438 - val_loss: 1.4733 - val_accuracy: 0.5870\n",
            "Epoch 8/100\n",
            "324/324 [==============================] - 1s 2ms/step - loss: 1.1610 - accuracy: 0.7130 - val_loss: 0.7737 - val_accuracy: 0.6087\n",
            "Epoch 9/100\n",
            "324/324 [==============================] - 1s 2ms/step - loss: 0.5105 - accuracy: 0.7191 - val_loss: 0.9047 - val_accuracy: 0.6087\n",
            "Epoch 10/100\n",
            "324/324 [==============================] - 1s 2ms/step - loss: 0.5503 - accuracy: 0.7377 - val_loss: 0.6568 - val_accuracy: 0.5652\n",
            "Epoch 11/100\n",
            "324/324 [==============================] - 1s 2ms/step - loss: 0.5981 - accuracy: 0.7099 - val_loss: 0.7266 - val_accuracy: 0.5870\n",
            "Epoch 12/100\n",
            "324/324 [==============================] - 1s 2ms/step - loss: 0.5610 - accuracy: 0.7160 - val_loss: 1.0145 - val_accuracy: 0.6957\n",
            "Epoch 13/100\n",
            "324/324 [==============================] - 1s 2ms/step - loss: 0.6500 - accuracy: 0.7160 - val_loss: 0.7480 - val_accuracy: 0.6087\n",
            "Epoch 14/100\n",
            "324/324 [==============================] - 1s 2ms/step - loss: 0.5088 - accuracy: 0.7099 - val_loss: 0.6077 - val_accuracy: 0.5870\n",
            "Epoch 15/100\n",
            "324/324 [==============================] - 1s 2ms/step - loss: 0.8705 - accuracy: 0.7037 - val_loss: 1.5954 - val_accuracy: 0.6522\n",
            "Epoch 16/100\n",
            "324/324 [==============================] - 1s 2ms/step - loss: 1.1176 - accuracy: 0.6944 - val_loss: 2.6401 - val_accuracy: 0.6522\n",
            "Epoch 17/100\n",
            "324/324 [==============================] - 1s 3ms/step - loss: 1.0224 - accuracy: 0.6883 - val_loss: 1.3280 - val_accuracy: 0.5217\n",
            "Epoch 18/100\n",
            "324/324 [==============================] - 1s 2ms/step - loss: 0.5041 - accuracy: 0.7253 - val_loss: 0.5921 - val_accuracy: 0.6087\n",
            "Epoch 19/100\n",
            "324/324 [==============================] - 1s 2ms/step - loss: 0.4532 - accuracy: 0.7438 - val_loss: 0.6327 - val_accuracy: 0.5652\n",
            "Epoch 20/100\n",
            "324/324 [==============================] - 1s 3ms/step - loss: 0.4588 - accuracy: 0.7099 - val_loss: 0.6187 - val_accuracy: 0.6087\n",
            "Epoch 21/100\n",
            "324/324 [==============================] - 1s 2ms/step - loss: 0.4469 - accuracy: 0.7191 - val_loss: 0.6857 - val_accuracy: 0.5652\n",
            "Epoch 22/100\n",
            "324/324 [==============================] - 1s 2ms/step - loss: 0.4483 - accuracy: 0.7346 - val_loss: 0.8334 - val_accuracy: 0.5652\n",
            "Epoch 23/100\n",
            "324/324 [==============================] - 1s 2ms/step - loss: 0.5094 - accuracy: 0.6975 - val_loss: 0.6626 - val_accuracy: 0.6087\n",
            "Epoch 24/100\n",
            "324/324 [==============================] - 1s 2ms/step - loss: 0.4680 - accuracy: 0.7346 - val_loss: 0.6197 - val_accuracy: 0.6304\n",
            "Epoch 25/100\n",
            "324/324 [==============================] - 1s 2ms/step - loss: 2.0219 - accuracy: 0.6759 - val_loss: 4.1061 - val_accuracy: 0.4348\n",
            "Epoch 26/100\n",
            "324/324 [==============================] - 1s 2ms/step - loss: 1.7197 - accuracy: 0.7130 - val_loss: 2.3380 - val_accuracy: 0.6522\n",
            "Epoch 27/100\n",
            "324/324 [==============================] - 1s 3ms/step - loss: 0.8504 - accuracy: 0.7037 - val_loss: 0.7116 - val_accuracy: 0.5870\n",
            "Epoch 28/100\n",
            "324/324 [==============================] - 1s 2ms/step - loss: 0.4764 - accuracy: 0.7253 - val_loss: 0.9746 - val_accuracy: 0.5000\n",
            "Epoch 29/100\n",
            "324/324 [==============================] - 1s 2ms/step - loss: 0.5104 - accuracy: 0.7253 - val_loss: 0.5961 - val_accuracy: 0.6087\n",
            "Epoch 30/100\n",
            "324/324 [==============================] - 1s 2ms/step - loss: 0.4471 - accuracy: 0.7068 - val_loss: 0.7244 - val_accuracy: 0.5652\n",
            "Epoch 31/100\n",
            "324/324 [==============================] - 1s 2ms/step - loss: 0.4431 - accuracy: 0.7346 - val_loss: 0.6006 - val_accuracy: 0.6087\n",
            "Epoch 32/100\n",
            "324/324 [==============================] - 1s 2ms/step - loss: 0.4489 - accuracy: 0.7191 - val_loss: 1.1319 - val_accuracy: 0.5217\n",
            "Epoch 33/100\n",
            "324/324 [==============================] - 1s 2ms/step - loss: 0.4903 - accuracy: 0.7377 - val_loss: 0.6436 - val_accuracy: 0.5870\n",
            "Epoch 34/100\n",
            "324/324 [==============================] - 1s 2ms/step - loss: 0.4506 - accuracy: 0.7377 - val_loss: 0.6883 - val_accuracy: 0.6739\n",
            "Epoch 35/100\n",
            "324/324 [==============================] - 1s 2ms/step - loss: 0.4547 - accuracy: 0.7191 - val_loss: 0.6198 - val_accuracy: 0.6739\n",
            "Epoch 36/100\n",
            "324/324 [==============================] - 1s 2ms/step - loss: 0.4574 - accuracy: 0.7099 - val_loss: 0.6401 - val_accuracy: 0.5652\n",
            "Epoch 37/100\n",
            "324/324 [==============================] - 1s 2ms/step - loss: 0.5290 - accuracy: 0.7130 - val_loss: 0.6537 - val_accuracy: 0.5870\n",
            "Epoch 38/100\n",
            "324/324 [==============================] - 1s 2ms/step - loss: 0.4596 - accuracy: 0.7130 - val_loss: 0.6723 - val_accuracy: 0.6304\n"
          ]
        },
        {
          "output_type": "execute_result",
          "data": {
            "text/plain": [
              "<keras.callbacks.History at 0x7f2f701219d0>"
            ]
          },
          "metadata": {},
          "execution_count": 52
        }
      ]
    },
    {
      "cell_type": "markdown",
      "metadata": {
        "id": "yrcso2Sr3sNe"
      },
      "source": [
        "## Jordan Network"
      ]
    },
    {
      "cell_type": "code",
      "execution_count": 17,
      "metadata": {
        "id": "DZoskMd2Ho-T"
      },
      "outputs": [],
      "source": [
        "class Jordan(keras.Model): \n",
        "  def __init__(self):\n",
        "    super().__init__(self)\n",
        "\n",
        "    self.model = Sequential([\n",
        "                             Input(8, name=\"Input\"),\n",
        "                             Dense(64, name=\"Hidden1\"),\n",
        "                             Dense(64, name=\"Hidden2\"),\n",
        "                             Dense(32, name=\"Hidden3\"),\n",
        "                             Dense(2, activation=\"softmax\", name=\"Output\")\n",
        "    ])\n",
        "\n",
        "  def call_recercive(self, input, prev_input):\n",
        "    if len(prev_input)==0:\n",
        "      concated = K.concatenate([input, K.constant([0., 0.])])\n",
        "      concated = tf.expand_dims(concated, axis=0)\n",
        "    else:\n",
        "      prev_output = self.call_recercive(prev_input[-1], prev_input[:-1])\n",
        "\n",
        "      input = tf.expand_dims(input, axis=0)\n",
        "      concated = K.concatenate([input, prev_output])\n",
        "    \n",
        "    output = self.model.call(concated)  \n",
        "    return output\n",
        "\n",
        "  def call(self, inputs):\n",
        "    inputs = inputs[0]\n",
        "\n",
        "    input = inputs[-1]\n",
        "    prev_input = inputs[:-1]\n",
        "\n",
        "    return self.call_recercive(input, prev_input)"
      ]
    },
    {
      "cell_type": "code",
      "execution_count": 18,
      "metadata": {
        "id": "4Kiayjo05iJ-"
      },
      "outputs": [],
      "source": [
        "jordan = Jordan()"
      ]
    },
    {
      "cell_type": "code",
      "execution_count": 19,
      "metadata": {
        "id": "1U4_Y3QOO_LW"
      },
      "outputs": [],
      "source": [
        "jordan.compile(optimizer=keras.optimizers.Adam(learning_rate=0.0003), loss=\"sparse_categorical_crossentropy\", metrics=[\"accuracy\"])"
      ]
    },
    {
      "cell_type": "code",
      "source": [
        "es_callback = EarlyStopping(monitor=\"val_loss\", patience=10, restore_best_weights=True)"
      ],
      "metadata": {
        "id": "HBKFducIPhWI"
      },
      "execution_count": 20,
      "outputs": []
    },
    {
      "cell_type": "code",
      "source": [
        "log_dir = \"./log\"\n",
        "tb_callback = keras.callbacks.TensorBoard(log_dir=log_dir, histogram_freq=1)\n",
        "!rm -r ./log"
      ],
      "metadata": {
        "id": "jNO4X9MYcQYi"
      },
      "execution_count": 21,
      "outputs": []
    },
    {
      "cell_type": "code",
      "execution_count": 22,
      "metadata": {
        "colab": {
          "base_uri": "https://localhost:8080/"
        },
        "id": "moqezQ15PVHp",
        "outputId": "b8015acb-ec1e-4f90-ad6f-7a359a619d62"
      },
      "outputs": [
        {
          "output_type": "stream",
          "name": "stdout",
          "text": [
            "Epoch 1/50\n",
            "324/324 [==============================] - 4s 5ms/step - loss: 3.4093 - accuracy: 0.6080 - val_loss: 1.6314 - val_accuracy: 0.4348\n",
            "Epoch 2/50\n",
            "324/324 [==============================] - 1s 3ms/step - loss: 1.1526 - accuracy: 0.6944 - val_loss: 1.3833 - val_accuracy: 0.5870\n",
            "Epoch 3/50\n",
            "324/324 [==============================] - 1s 3ms/step - loss: 3.9900 - accuracy: 0.6914 - val_loss: 1.8111 - val_accuracy: 0.6087\n",
            "Epoch 4/50\n",
            "324/324 [==============================] - 1s 3ms/step - loss: 1.0320 - accuracy: 0.7160 - val_loss: 3.5502 - val_accuracy: 0.4565\n",
            "Epoch 5/50\n",
            "324/324 [==============================] - 1s 3ms/step - loss: 0.9003 - accuracy: 0.7315 - val_loss: 1.2702 - val_accuracy: 0.4783\n",
            "Epoch 6/50\n",
            "324/324 [==============================] - 1s 3ms/step - loss: 1.4149 - accuracy: 0.7284 - val_loss: 1.4060 - val_accuracy: 0.4783\n",
            "Epoch 7/50\n",
            "324/324 [==============================] - 1s 3ms/step - loss: 1.6680 - accuracy: 0.6975 - val_loss: 1.1196 - val_accuracy: 0.5652\n",
            "Epoch 8/50\n",
            "324/324 [==============================] - 1s 3ms/step - loss: 0.8602 - accuracy: 0.7407 - val_loss: 5.3730 - val_accuracy: 0.4565\n",
            "Epoch 9/50\n",
            "324/324 [==============================] - 1s 3ms/step - loss: 1.4765 - accuracy: 0.7191 - val_loss: 0.8779 - val_accuracy: 0.6304\n",
            "Epoch 10/50\n",
            "324/324 [==============================] - 1s 3ms/step - loss: 0.5768 - accuracy: 0.7377 - val_loss: 0.7459 - val_accuracy: 0.5870\n",
            "Epoch 11/50\n",
            "324/324 [==============================] - 1s 3ms/step - loss: 0.5342 - accuracy: 0.7346 - val_loss: 0.9587 - val_accuracy: 0.6957\n",
            "Epoch 12/50\n",
            "324/324 [==============================] - 1s 3ms/step - loss: 2.5800 - accuracy: 0.6975 - val_loss: 5.1373 - val_accuracy: 0.6739\n",
            "Epoch 13/50\n",
            "324/324 [==============================] - 1s 3ms/step - loss: 2.7497 - accuracy: 0.7191 - val_loss: 0.9280 - val_accuracy: 0.5652\n",
            "Epoch 14/50\n",
            "324/324 [==============================] - 1s 3ms/step - loss: 0.5411 - accuracy: 0.7469 - val_loss: 0.8953 - val_accuracy: 0.5870\n",
            "Epoch 15/50\n",
            "324/324 [==============================] - 1s 3ms/step - loss: 0.4879 - accuracy: 0.7562 - val_loss: 0.7741 - val_accuracy: 0.5870\n",
            "Epoch 16/50\n",
            "324/324 [==============================] - 1s 3ms/step - loss: 1.3167 - accuracy: 0.7438 - val_loss: 1.0464 - val_accuracy: 0.4783\n",
            "Epoch 17/50\n",
            "324/324 [==============================] - 1s 3ms/step - loss: 0.5480 - accuracy: 0.7160 - val_loss: 0.8212 - val_accuracy: 0.5870\n",
            "Epoch 18/50\n",
            "324/324 [==============================] - 1s 3ms/step - loss: 0.9502 - accuracy: 0.7191 - val_loss: 2.5234 - val_accuracy: 0.5870\n",
            "Epoch 19/50\n",
            "324/324 [==============================] - 2s 6ms/step - loss: 0.7401 - accuracy: 0.7469 - val_loss: 0.9264 - val_accuracy: 0.5652\n",
            "Epoch 20/50\n",
            "324/324 [==============================] - 1s 3ms/step - loss: 0.4680 - accuracy: 0.7623 - val_loss: 0.6978 - val_accuracy: 0.7174\n",
            "Epoch 21/50\n",
            "324/324 [==============================] - 1s 3ms/step - loss: 0.5827 - accuracy: 0.7191 - val_loss: 0.6736 - val_accuracy: 0.6739\n",
            "Epoch 22/50\n",
            "324/324 [==============================] - 1s 3ms/step - loss: 0.5598 - accuracy: 0.7099 - val_loss: 0.7033 - val_accuracy: 0.5652\n",
            "Epoch 23/50\n",
            "324/324 [==============================] - 1s 3ms/step - loss: 1.1056 - accuracy: 0.6759 - val_loss: 0.7902 - val_accuracy: 0.5870\n",
            "Epoch 24/50\n",
            "324/324 [==============================] - 1s 3ms/step - loss: 0.7274 - accuracy: 0.7222 - val_loss: 3.6427 - val_accuracy: 0.5000\n",
            "Epoch 25/50\n",
            "324/324 [==============================] - 1s 3ms/step - loss: 0.7473 - accuracy: 0.7222 - val_loss: 0.7553 - val_accuracy: 0.6304\n",
            "Epoch 26/50\n",
            "324/324 [==============================] - 1s 3ms/step - loss: 0.5032 - accuracy: 0.7407 - val_loss: 0.6735 - val_accuracy: 0.6739\n",
            "Epoch 27/50\n",
            "324/324 [==============================] - 1s 3ms/step - loss: 1.0382 - accuracy: 0.6944 - val_loss: 0.7447 - val_accuracy: 0.5870\n",
            "Epoch 28/50\n",
            "324/324 [==============================] - 1s 3ms/step - loss: 0.5052 - accuracy: 0.6975 - val_loss: 0.6503 - val_accuracy: 0.6522\n",
            "Epoch 29/50\n",
            "324/324 [==============================] - 1s 3ms/step - loss: 0.7437 - accuracy: 0.6975 - val_loss: 0.7923 - val_accuracy: 0.5870\n",
            "Epoch 30/50\n",
            "324/324 [==============================] - 1s 3ms/step - loss: 0.4929 - accuracy: 0.7191 - val_loss: 0.6594 - val_accuracy: 0.5870\n",
            "Epoch 31/50\n",
            "324/324 [==============================] - 1s 3ms/step - loss: 0.7678 - accuracy: 0.7006 - val_loss: 0.7092 - val_accuracy: 0.5870\n",
            "Epoch 32/50\n",
            "324/324 [==============================] - 1s 3ms/step - loss: 0.5819 - accuracy: 0.7006 - val_loss: 0.6671 - val_accuracy: 0.6087\n",
            "Epoch 33/50\n",
            "324/324 [==============================] - 1s 3ms/step - loss: 0.4834 - accuracy: 0.7099 - val_loss: 0.6240 - val_accuracy: 0.6087\n",
            "Epoch 34/50\n",
            "324/324 [==============================] - 1s 3ms/step - loss: 1.1474 - accuracy: 0.7099 - val_loss: 1.6553 - val_accuracy: 0.6957\n",
            "Epoch 35/50\n",
            "324/324 [==============================] - 1s 3ms/step - loss: 0.7780 - accuracy: 0.6944 - val_loss: 1.4976 - val_accuracy: 0.6087\n",
            "Epoch 36/50\n",
            "324/324 [==============================] - 1s 3ms/step - loss: 0.7091 - accuracy: 0.6975 - val_loss: 0.9106 - val_accuracy: 0.5435\n",
            "Epoch 37/50\n",
            "324/324 [==============================] - 1s 3ms/step - loss: 0.5686 - accuracy: 0.7130 - val_loss: 1.6858 - val_accuracy: 0.5217\n",
            "Epoch 38/50\n",
            "324/324 [==============================] - 1s 3ms/step - loss: 0.6432 - accuracy: 0.7284 - val_loss: 0.6861 - val_accuracy: 0.5870\n",
            "Epoch 39/50\n",
            "324/324 [==============================] - 1s 3ms/step - loss: 0.4868 - accuracy: 0.7191 - val_loss: 0.9237 - val_accuracy: 0.4565\n",
            "Epoch 40/50\n",
            "324/324 [==============================] - 1s 3ms/step - loss: 0.5703 - accuracy: 0.7099 - val_loss: 0.6260 - val_accuracy: 0.6739\n",
            "Epoch 41/50\n",
            "324/324 [==============================] - 1s 3ms/step - loss: 0.5079 - accuracy: 0.7407 - val_loss: 1.1682 - val_accuracy: 0.4565\n",
            "Epoch 42/50\n",
            "324/324 [==============================] - 1s 3ms/step - loss: 0.6421 - accuracy: 0.7222 - val_loss: 0.6582 - val_accuracy: 0.6087\n",
            "Epoch 43/50\n",
            "324/324 [==============================] - 1s 3ms/step - loss: 0.4840 - accuracy: 0.7438 - val_loss: 0.8850 - val_accuracy: 0.5000\n"
          ]
        },
        {
          "output_type": "execute_result",
          "data": {
            "text/plain": [
              "<keras.callbacks.History at 0x7f2f6e82b710>"
            ]
          },
          "metadata": {},
          "execution_count": 22
        }
      ],
      "source": [
        "jordan.fit(x=train_x, y=train_y, epochs=50, batch_size=1, validation_data=(valid_x, valid_y), callbacks=[es_callback, tb_callback])"
      ]
    },
    {
      "cell_type": "code",
      "source": [
        "%tensorboard --logdir ./log"
      ],
      "metadata": {
        "colab": {
          "base_uri": "https://localhost:8080/"
        },
        "id": "WA-6p6oTcfgh",
        "outputId": "17dba3bd-d8fe-43f0-ded0-75a6727577a3"
      },
      "execution_count": 28,
      "outputs": [
        {
          "output_type": "stream",
          "name": "stderr",
          "text": [
            "UsageError: Line magic function `%tensorboard` not found.\n"
          ]
        }
      ]
    },
    {
      "cell_type": "code",
      "source": [
        "jordan.evaluate(x=train_x, y=train_y, batch_size=1)\n",
        "jordan.evaluate(x=valid_x, y=valid_y, batch_size=1)\n",
        "jordan.evaluate(x=test_x, y=test_y, batch_size=1)"
      ],
      "metadata": {
        "colab": {
          "base_uri": "https://localhost:8080/"
        },
        "id": "ZEVwZF4yQ4aG",
        "outputId": "8120891e-765c-4b03-abc6-09549c954bb9"
      },
      "execution_count": 25,
      "outputs": [
        {
          "output_type": "stream",
          "name": "stdout",
          "text": [
            "324/324 [==============================] - 1s 2ms/step - loss: 0.4377 - accuracy: 0.7531\n",
            "46/46 [==============================] - 0s 2ms/step - loss: 0.6240 - accuracy: 0.6087\n",
            "93/93 [==============================] - 0s 2ms/step - loss: 0.4885 - accuracy: 0.7204\n"
          ]
        },
        {
          "output_type": "execute_result",
          "data": {
            "text/plain": [
              "[0.4884602427482605, 0.7204301357269287]"
            ]
          },
          "metadata": {},
          "execution_count": 25
        }
      ]
    },
    {
      "cell_type": "code",
      "source": [
        "test_predict = [np.argmax(item) for item in jordan.predict(test_x, batch_size=1)]"
      ],
      "metadata": {
        "id": "bGWBowhmRo1A"
      },
      "execution_count": 26,
      "outputs": []
    },
    {
      "cell_type": "code",
      "source": [
        "confusion_matrix(test_y, test_predict)"
      ],
      "metadata": {
        "colab": {
          "base_uri": "https://localhost:8080/"
        },
        "id": "27k8842TehGn",
        "outputId": "519d8fd2-925c-4d3f-bc09-99d431955183"
      },
      "execution_count": 27,
      "outputs": [
        {
          "output_type": "execute_result",
          "data": {
            "text/plain": [
              "array([[ 4, 17],\n",
              "       [ 9, 63]])"
            ]
          },
          "metadata": {},
          "execution_count": 27
        }
      ]
    },
    {
      "cell_type": "markdown",
      "source": [
        "## LSTM Network"
      ],
      "metadata": {
        "id": "suKiwsSVhnDS"
      }
    },
    {
      "cell_type": "code",
      "source": [
        "class KerasLSTM(keras.Model):\n",
        "  def __init__(self):\n",
        "    super().__init__()\n",
        "\n",
        "    self.model = Sequential([\n",
        "        Input(shape=(15,6,)),\n",
        "        LSTM(32),\n",
        "        Dense(2, activation=\"softmax\", name=\"output\")\n",
        "    ])\n",
        "  \n",
        "  def call(self, inputs):\n",
        "    return self.model(inputs)"
      ],
      "metadata": {
        "id": "-zaB6AuShlrJ"
      },
      "execution_count": 36,
      "outputs": []
    },
    {
      "cell_type": "code",
      "source": [
        "keras_lstm = KerasLSTM()"
      ],
      "metadata": {
        "id": "L-gruix5lp9y"
      },
      "execution_count": 37,
      "outputs": []
    },
    {
      "cell_type": "code",
      "source": [
        "keras_lstm.compile(optimizer=keras.optimizers.Adam(learning_rate=0.01), loss=\"sparse_categorical_crossentropy\", metrics=[\"accuracy\"])"
      ],
      "metadata": {
        "id": "X_G0yiflltwb"
      },
      "execution_count": 38,
      "outputs": []
    },
    {
      "cell_type": "code",
      "source": [
        "keras_lstm.fit(x=train_x, y=train_y, epochs=50, batch_size=1, validation_data=(valid_x, valid_y), callbacks=[es_callback, tb_callback])"
      ],
      "metadata": {
        "colab": {
          "base_uri": "https://localhost:8080/"
        },
        "id": "f5Oy5ijOmgtb",
        "outputId": "260d661d-18b2-4001-bf83-619ca281ec9c"
      },
      "execution_count": 39,
      "outputs": [
        {
          "output_type": "stream",
          "name": "stdout",
          "text": [
            "Epoch 1/50\n",
            "324/324 [==============================] - 5s 7ms/step - loss: 0.3702 - accuracy: 0.8056 - val_loss: 0.2140 - val_accuracy: 0.9130\n",
            "Epoch 2/50\n",
            "324/324 [==============================] - 2s 8ms/step - loss: 0.1829 - accuracy: 0.9321 - val_loss: 0.3969 - val_accuracy: 0.8913\n",
            "Epoch 3/50\n",
            "324/324 [==============================] - 2s 8ms/step - loss: 0.1221 - accuracy: 0.9506 - val_loss: 0.1063 - val_accuracy: 0.9783\n",
            "Epoch 4/50\n",
            "324/324 [==============================] - 2s 7ms/step - loss: 0.0789 - accuracy: 0.9691 - val_loss: 0.1305 - val_accuracy: 0.9348\n",
            "Epoch 5/50\n",
            "324/324 [==============================] - 3s 8ms/step - loss: 0.1144 - accuracy: 0.9506 - val_loss: 0.1380 - val_accuracy: 0.9348\n",
            "Epoch 6/50\n",
            "324/324 [==============================] - 2s 7ms/step - loss: 0.0940 - accuracy: 0.9599 - val_loss: 0.1656 - val_accuracy: 0.9130\n",
            "Epoch 7/50\n",
            "324/324 [==============================] - 2s 7ms/step - loss: 0.1032 - accuracy: 0.9630 - val_loss: 0.2377 - val_accuracy: 0.9130\n",
            "Epoch 8/50\n",
            "324/324 [==============================] - 2s 5ms/step - loss: 0.0842 - accuracy: 0.9691 - val_loss: 0.1783 - val_accuracy: 0.9130\n",
            "Epoch 9/50\n",
            "324/324 [==============================] - 2s 7ms/step - loss: 0.1506 - accuracy: 0.9475 - val_loss: 0.1394 - val_accuracy: 0.9565\n",
            "Epoch 10/50\n",
            "324/324 [==============================] - 2s 6ms/step - loss: 0.1163 - accuracy: 0.9537 - val_loss: 0.1106 - val_accuracy: 0.9348\n",
            "Epoch 11/50\n",
            "324/324 [==============================] - 2s 5ms/step - loss: 0.0354 - accuracy: 0.9938 - val_loss: 0.1872 - val_accuracy: 0.9348\n",
            "Epoch 12/50\n",
            "324/324 [==============================] - 3s 8ms/step - loss: 0.0318 - accuracy: 0.9846 - val_loss: 0.2540 - val_accuracy: 0.9348\n",
            "Epoch 13/50\n",
            "324/324 [==============================] - 2s 8ms/step - loss: 0.0366 - accuracy: 0.9877 - val_loss: 0.1405 - val_accuracy: 0.9565\n"
          ]
        },
        {
          "output_type": "execute_result",
          "data": {
            "text/plain": [
              "<keras.callbacks.History at 0x7f2f735df8d0>"
            ]
          },
          "metadata": {},
          "execution_count": 39
        }
      ]
    },
    {
      "cell_type": "markdown",
      "source": [
        "## RNN Network"
      ],
      "metadata": {
        "id": "ug2tjEtOs_xC"
      }
    },
    {
      "cell_type": "code",
      "source": [
        "class KerasRNN(keras.Model):\n",
        "  def __init__(self):\n",
        "    super().__init__()\n",
        "\n",
        "    self.model = Sequential([\n",
        "        Input(shape=(15,6,)),\n",
        "        SimpleRNN(32),\n",
        "        Dense(2, activation=\"softmax\", name=\"output\")\n",
        "    ])\n",
        "  \n",
        "  def call(self, inputs):\n",
        "    return self.model(inputs)"
      ],
      "metadata": {
        "id": "-klGIaoqmpVi"
      },
      "execution_count": 42,
      "outputs": []
    },
    {
      "cell_type": "code",
      "source": [
        "keras_rnn = KerasRNN()"
      ],
      "metadata": {
        "id": "xvhhLEVmtHrt"
      },
      "execution_count": 43,
      "outputs": []
    },
    {
      "cell_type": "code",
      "source": [
        "keras_rnn.compile(optimizer=keras.optimizers.Adam(learning_rate=0.001), loss=\"sparse_categorical_crossentropy\", metrics=[\"accuracy\"])"
      ],
      "metadata": {
        "id": "CTmNorJZt-U2"
      },
      "execution_count": 46,
      "outputs": []
    },
    {
      "cell_type": "code",
      "source": [
        "keras_rnn.fit(x=train_x, y=train_y, epochs=50, batch_size=1, validation_data=(valid_x, valid_y), callbacks=[es_callback, tb_callback])"
      ],
      "metadata": {
        "colab": {
          "base_uri": "https://localhost:8080/"
        },
        "id": "x4V_rNKquSUM",
        "outputId": "2ada4670-14be-4cef-92d8-6de80818fe4b"
      },
      "execution_count": 47,
      "outputs": [
        {
          "output_type": "stream",
          "name": "stdout",
          "text": [
            "Epoch 1/50\n",
            "324/324 [==============================] - 2s 4ms/step - loss: 0.3629 - accuracy: 0.8148 - val_loss: 0.3192 - val_accuracy: 0.8478\n",
            "Epoch 2/50\n",
            "324/324 [==============================] - 1s 4ms/step - loss: 0.3153 - accuracy: 0.8364 - val_loss: 0.3028 - val_accuracy: 0.8696\n",
            "Epoch 3/50\n",
            "324/324 [==============================] - 1s 3ms/step - loss: 0.3052 - accuracy: 0.8673 - val_loss: 0.3040 - val_accuracy: 0.8261\n",
            "Epoch 4/50\n",
            "324/324 [==============================] - 1s 3ms/step - loss: 0.2940 - accuracy: 0.8673 - val_loss: 0.3023 - val_accuracy: 0.8478\n",
            "Epoch 5/50\n",
            "324/324 [==============================] - 1s 3ms/step - loss: 0.2767 - accuracy: 0.8889 - val_loss: 0.3068 - val_accuracy: 0.8261\n",
            "Epoch 6/50\n",
            "324/324 [==============================] - 1s 3ms/step - loss: 0.2689 - accuracy: 0.8611 - val_loss: 0.3193 - val_accuracy: 0.7826\n",
            "Epoch 7/50\n",
            "324/324 [==============================] - 1s 3ms/step - loss: 0.2570 - accuracy: 0.8735 - val_loss: 0.2915 - val_accuracy: 0.8696\n",
            "Epoch 8/50\n",
            "324/324 [==============================] - 1s 4ms/step - loss: 0.2582 - accuracy: 0.8642 - val_loss: 0.2959 - val_accuracy: 0.8043\n",
            "Epoch 9/50\n",
            "324/324 [==============================] - 1s 3ms/step - loss: 0.2419 - accuracy: 0.8796 - val_loss: 0.3173 - val_accuracy: 0.8261\n",
            "Epoch 10/50\n",
            "324/324 [==============================] - 1s 3ms/step - loss: 0.2360 - accuracy: 0.8920 - val_loss: 0.2908 - val_accuracy: 0.8261\n",
            "Epoch 11/50\n",
            "324/324 [==============================] - 1s 4ms/step - loss: 0.2230 - accuracy: 0.9105 - val_loss: 0.2823 - val_accuracy: 0.8261\n",
            "Epoch 12/50\n",
            "324/324 [==============================] - 1s 3ms/step - loss: 0.2117 - accuracy: 0.9105 - val_loss: 0.2986 - val_accuracy: 0.8261\n",
            "Epoch 13/50\n",
            "324/324 [==============================] - 1s 4ms/step - loss: 0.2129 - accuracy: 0.9012 - val_loss: 0.3220 - val_accuracy: 0.8261\n",
            "Epoch 14/50\n",
            "324/324 [==============================] - 1s 3ms/step - loss: 0.2044 - accuracy: 0.9105 - val_loss: 0.2711 - val_accuracy: 0.8913\n",
            "Epoch 15/50\n",
            "324/324 [==============================] - 1s 4ms/step - loss: 0.1944 - accuracy: 0.9228 - val_loss: 0.2631 - val_accuracy: 0.8913\n",
            "Epoch 16/50\n",
            "324/324 [==============================] - 1s 3ms/step - loss: 0.1899 - accuracy: 0.9228 - val_loss: 0.2890 - val_accuracy: 0.8696\n",
            "Epoch 17/50\n",
            "324/324 [==============================] - 1s 4ms/step - loss: 0.1853 - accuracy: 0.9259 - val_loss: 0.2593 - val_accuracy: 0.8913\n",
            "Epoch 18/50\n",
            "324/324 [==============================] - 2s 5ms/step - loss: 0.1836 - accuracy: 0.9259 - val_loss: 0.2680 - val_accuracy: 0.8696\n",
            "Epoch 19/50\n",
            "324/324 [==============================] - 1s 4ms/step - loss: 0.1727 - accuracy: 0.9321 - val_loss: 0.2978 - val_accuracy: 0.8043\n",
            "Epoch 20/50\n",
            "324/324 [==============================] - 1s 3ms/step - loss: 0.1711 - accuracy: 0.9259 - val_loss: 0.2692 - val_accuracy: 0.8696\n",
            "Epoch 21/50\n",
            "324/324 [==============================] - 1s 4ms/step - loss: 0.1663 - accuracy: 0.9383 - val_loss: 0.2716 - val_accuracy: 0.8913\n",
            "Epoch 22/50\n",
            "324/324 [==============================] - 1s 4ms/step - loss: 0.1575 - accuracy: 0.9352 - val_loss: 0.2817 - val_accuracy: 0.8696\n",
            "Epoch 23/50\n",
            "324/324 [==============================] - 1s 4ms/step - loss: 0.1519 - accuracy: 0.9321 - val_loss: 0.2568 - val_accuracy: 0.8913\n",
            "Epoch 24/50\n",
            "324/324 [==============================] - 1s 4ms/step - loss: 0.1463 - accuracy: 0.9414 - val_loss: 0.2626 - val_accuracy: 0.8913\n",
            "Epoch 25/50\n",
            "324/324 [==============================] - 1s 5ms/step - loss: 0.1425 - accuracy: 0.9475 - val_loss: 0.2571 - val_accuracy: 0.8913\n",
            "Epoch 26/50\n",
            "324/324 [==============================] - 1s 4ms/step - loss: 0.1370 - accuracy: 0.9321 - val_loss: 0.2540 - val_accuracy: 0.8913\n",
            "Epoch 27/50\n",
            "324/324 [==============================] - 1s 3ms/step - loss: 0.1357 - accuracy: 0.9506 - val_loss: 0.2659 - val_accuracy: 0.8913\n",
            "Epoch 28/50\n",
            "324/324 [==============================] - 1s 4ms/step - loss: 0.1334 - accuracy: 0.9599 - val_loss: 0.2720 - val_accuracy: 0.8478\n",
            "Epoch 29/50\n",
            "324/324 [==============================] - 1s 4ms/step - loss: 0.1283 - accuracy: 0.9568 - val_loss: 0.2934 - val_accuracy: 0.8261\n",
            "Epoch 30/50\n",
            "324/324 [==============================] - 1s 4ms/step - loss: 0.1401 - accuracy: 0.9475 - val_loss: 0.2626 - val_accuracy: 0.8696\n",
            "Epoch 31/50\n",
            "324/324 [==============================] - 1s 4ms/step - loss: 0.1230 - accuracy: 0.9568 - val_loss: 0.2572 - val_accuracy: 0.8696\n",
            "Epoch 32/50\n",
            "324/324 [==============================] - 1s 4ms/step - loss: 0.1217 - accuracy: 0.9630 - val_loss: 0.2569 - val_accuracy: 0.8696\n",
            "Epoch 33/50\n",
            "324/324 [==============================] - 1s 3ms/step - loss: 0.1158 - accuracy: 0.9660 - val_loss: 0.2502 - val_accuracy: 0.9130\n",
            "Epoch 34/50\n",
            "324/324 [==============================] - 1s 3ms/step - loss: 0.1247 - accuracy: 0.9568 - val_loss: 0.2693 - val_accuracy: 0.8913\n",
            "Epoch 35/50\n",
            "324/324 [==============================] - 1s 4ms/step - loss: 0.1217 - accuracy: 0.9630 - val_loss: 0.2636 - val_accuracy: 0.8696\n",
            "Epoch 36/50\n",
            "324/324 [==============================] - 1s 3ms/step - loss: 0.1119 - accuracy: 0.9691 - val_loss: 0.2580 - val_accuracy: 0.8913\n",
            "Epoch 37/50\n",
            "324/324 [==============================] - 1s 4ms/step - loss: 0.1075 - accuracy: 0.9691 - val_loss: 0.3133 - val_accuracy: 0.8261\n",
            "Epoch 38/50\n",
            "324/324 [==============================] - 1s 3ms/step - loss: 0.1139 - accuracy: 0.9568 - val_loss: 0.2601 - val_accuracy: 0.8696\n",
            "Epoch 39/50\n",
            "324/324 [==============================] - 1s 4ms/step - loss: 0.1055 - accuracy: 0.9722 - val_loss: 0.2514 - val_accuracy: 0.8913\n",
            "Epoch 40/50\n",
            "324/324 [==============================] - 1s 3ms/step - loss: 0.1040 - accuracy: 0.9691 - val_loss: 0.2621 - val_accuracy: 0.8261\n",
            "Epoch 41/50\n",
            "324/324 [==============================] - 1s 4ms/step - loss: 0.0979 - accuracy: 0.9722 - val_loss: 0.2754 - val_accuracy: 0.8261\n",
            "Epoch 42/50\n",
            "324/324 [==============================] - 1s 4ms/step - loss: 0.0960 - accuracy: 0.9753 - val_loss: 0.2860 - val_accuracy: 0.8261\n",
            "Epoch 43/50\n",
            "324/324 [==============================] - 1s 3ms/step - loss: 0.0968 - accuracy: 0.9722 - val_loss: 0.2916 - val_accuracy: 0.8261\n"
          ]
        },
        {
          "output_type": "execute_result",
          "data": {
            "text/plain": [
              "<keras.callbacks.History at 0x7f2f7050bed0>"
            ]
          },
          "metadata": {},
          "execution_count": 47
        }
      ]
    },
    {
      "cell_type": "code",
      "source": [
        ""
      ],
      "metadata": {
        "id": "S2nWEs76uXzx"
      },
      "execution_count": null,
      "outputs": []
    }
  ],
  "metadata": {
    "colab": {
      "collapsed_sections": [],
      "name": "NN-HW5.ipynb",
      "toc_visible": true,
      "provenance": [],
      "authorship_tag": "ABX9TyOQBA7wyx3zzNdfcAT7KmLG",
      "include_colab_link": true
    },
    "kernelspec": {
      "display_name": "Python 3",
      "name": "python3"
    },
    "language_info": {
      "name": "python"
    }
  },
  "nbformat": 4,
  "nbformat_minor": 0
}