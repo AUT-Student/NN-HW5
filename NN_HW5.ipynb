{
  "cells": [
    {
      "cell_type": "markdown",
      "metadata": {
        "id": "view-in-github",
        "colab_type": "text"
      },
      "source": [
        "<a href=\"https://colab.research.google.com/github/AUT-Student/NN-HW5/blob/main/NN_HW5.ipynb\" target=\"_parent\"><img src=\"https://colab.research.google.com/assets/colab-badge.svg\" alt=\"Open In Colab\"/></a>"
      ]
    },
    {
      "cell_type": "markdown",
      "metadata": {
        "id": "PXi3EMtBmo2y"
      },
      "source": [
        "# Libraries"
      ]
    },
    {
      "cell_type": "code",
      "execution_count": 92,
      "metadata": {
        "id": "Gc0siDpwmJXX"
      },
      "outputs": [],
      "source": [
        "import numpy as np\n",
        "import matplotlib.pyplot as plt\n",
        "import pandas as pd\n",
        "from sklearn.utils import shuffle\n",
        "\n",
        "import tensorflow as tf\n",
        "import tensorflow.keras as keras\n",
        "from keras.layers import Dense, Input, Concatenate\n",
        "import keras.backend as K\n",
        "from keras.models import Sequential\n",
        "from keras.callbacks import EarlyStopping"
      ]
    },
    {
      "cell_type": "markdown",
      "metadata": {
        "id": "Ru6GOwOPm0de"
      },
      "source": [
        "# Dataset"
      ]
    },
    {
      "cell_type": "code",
      "execution_count": null,
      "metadata": {
        "colab": {
          "base_uri": "https://localhost:8080/"
        },
        "id": "9fZrU7N-cRwv",
        "outputId": "7faf9ee0-252f-43cb-fdf2-94c8b4d36bac"
      },
      "outputs": [
        {
          "name": "stdout",
          "output_type": "stream",
          "text": [
            "Downloading...\n",
            "From: https://archive.ics.uci.edu/ml/machine-learning-databases/robotfailure-mld/lp1.data\n",
            "To: /content/lp1.data\n",
            "100% 27.3k/27.3k [00:00<00:00, 464kB/s]\n",
            "Downloading...\n",
            "From: https://archive.ics.uci.edu/ml/machine-learning-databases/robotfailure-mld/lp2.data\n",
            "To: /content/lp2.data\n",
            "100% 14.6k/14.6k [00:00<00:00, 254kB/s]\n",
            "Downloading...\n",
            "From: https://archive.ics.uci.edu/ml/machine-learning-databases/robotfailure-mld/lp3.data\n",
            "To: /content/lp3.data\n",
            "100% 14.5k/14.5k [00:00<00:00, 253kB/s]\n",
            "Downloading...\n",
            "From: https://archive.ics.uci.edu/ml/machine-learning-databases/robotfailure-mld/lp4.data\n",
            "To: /content/lp4.data\n",
            "100% 33.6k/33.6k [00:00<00:00, 560kB/s]\n",
            "Downloading...\n",
            "From: https://archive.ics.uci.edu/ml/machine-learning-databases/robotfailure-mld/lp5.data\n",
            "To: /content/lp5.data\n",
            "100% 49.2k/49.2k [00:00<00:00, 392kB/s]\n"
          ]
        }
      ],
      "source": [
        "!gdown https://archive.ics.uci.edu/ml/machine-learning-databases/robotfailure-mld/lp1.data\n",
        "!gdown https://archive.ics.uci.edu/ml/machine-learning-databases/robotfailure-mld/lp2.data\n",
        "!gdown https://archive.ics.uci.edu/ml/machine-learning-databases/robotfailure-mld/lp3.data\n",
        "!gdown https://archive.ics.uci.edu/ml/machine-learning-databases/robotfailure-mld/lp4.data\n",
        "!gdown https://archive.ics.uci.edu/ml/machine-learning-databases/robotfailure-mld/lp5.data"
      ]
    },
    {
      "cell_type": "code",
      "execution_count": null,
      "metadata": {
        "id": "zk3z9sDjk1DB"
      },
      "outputs": [],
      "source": [
        "normal_label_datasets = [\"normal\",\"normal\",\"ok\",\"normal\",\"normal\"]\n",
        "\n",
        "dataset_x = []\n",
        "dataset_y = []\n",
        "for i in range(5):\n",
        "  normal_label = normal_label_datasets[i]\n",
        "  dataset_i = pd.read_csv(f\"/content/lp{i+1}.data\", header=None)\n",
        "  \n",
        "  new_label = None\n",
        "  new_data = None\n",
        "\n",
        "  for j, row in dataset_i.iterrows():\n",
        "    if j%16==0:\n",
        "      new_data = []\n",
        "      \n",
        "      if row[0] == normal_label:\n",
        "         new_label = 0\n",
        "      else:\n",
        "         new_label = 1\n",
        "\n",
        "    else:\n",
        "      new_data.append([float(item) for item in row[0].split()])\n",
        "\n",
        "      if j%16==15:\n",
        "        dataset_x.append(new_data)\n",
        "        dataset_y.append(new_label)"
      ]
    },
    {
      "cell_type": "code",
      "execution_count": null,
      "metadata": {
        "id": "t-rxihHJ1bRd"
      },
      "outputs": [],
      "source": [
        "dataset_x, dataset_y = shuffle(dataset_x, dataset_y, random_state=0)"
      ]
    },
    {
      "cell_type": "code",
      "source": [
        "dataset_len = len(dataset_x)"
      ],
      "metadata": {
        "id": "PzmPI7WuNFOl"
      },
      "execution_count": 81,
      "outputs": []
    },
    {
      "cell_type": "code",
      "source": [
        "train_x = dataset_x[:int(0.7*dataset_len)]\n",
        "train_y = dataset_y[:int(0.7*dataset_len)]\n",
        "\n",
        "valid_x = dataset_x[int(0.7*dataset_len):int(0.8*dataset_len)]\n",
        "valid_y = dataset_y[int(0.7*dataset_len):int(0.8*dataset_len)]\n",
        "\n",
        "test_x = dataset_x[int(0.8*dataset_len):]\n",
        "test_y = dataset_y[int(0.8*dataset_len):]"
      ],
      "metadata": {
        "id": "_kEyj76QNRJL"
      },
      "execution_count": 83,
      "outputs": []
    },
    {
      "cell_type": "markdown",
      "metadata": {
        "id": "yrcso2Sr3sNe"
      },
      "source": [
        "# Elman Network"
      ]
    },
    {
      "cell_type": "code",
      "execution_count": null,
      "metadata": {
        "id": "HFVBgUXQ2Cxr"
      },
      "outputs": [],
      "source": [
        "class ElmanOld(keras.Model):\n",
        "  def __init__(self):\n",
        "    super().__init__(self)\n",
        "\n",
        "    # inputs = Input(6)    \n",
        "    # hidden = Dense(3)\n",
        "    # output = Dense(2, activation=\"softmax\")\n",
        "    \n",
        "    self.model = Sequential([\n",
        "                             Input(8, name=\"Input\"),\n",
        "                             Dense(3, name=\"Hidden\"),\n",
        "                             Dense(2, activation=\"softmax\", name=\"Output\")\n",
        "    ])\n",
        "    \n",
        "    self.x = K.constant([[0., 0.]])\n",
        "\n",
        "    # x = output\n",
        "\n",
        "    # self.model = keras.Model(inputs, output(inputs))\n",
        "\n",
        "  def sub_call(self, input):\n",
        "    print(\"sub call\")\n",
        "    print(f\"input = {input}\")\n",
        "    print(f\"self.x = {self.x}\")\n",
        "    # input = K.concatenate([tf.expand_dims(input, axis=0), self.x])\n",
        "    input = tf.expand_dims(input, axis=0)\n",
        "    concated = K.concatenate([input, self.x])\n",
        "    output = self.model.call(concated)\n",
        "    \n",
        "    self.x = output\n",
        "\n",
        "    return output\n",
        "\n",
        "  def call(self, inputs):\n",
        "\n",
        "    print(f\"inputs = {inputs}\")\n",
        "\n",
        "    inputs = inputs[0]\n",
        "\n",
        "    output = K.constant([[0., 0.]])\n",
        "    for input in inputs:\n",
        "      print(f\"input = {input}\")\n",
        "      output = self.sub_call(input)\n",
        "      print(f\"output = {output}\")\n",
        "\n",
        "    return output\n",
        "\n",
        "    # new_inputs_array = []\n",
        "    # for input in inputs:\n",
        "    #   new_inputs_array.append(K.concatenate([input, self.x]))\n",
        "    \n",
        "    # inputs = K.stack(new_inputs_array)"
      ]
    },
    {
      "cell_type": "code",
      "execution_count": null,
      "metadata": {
        "id": "DZoskMd2Ho-T"
      },
      "outputs": [],
      "source": [
        "class Elman(keras.Model):\n",
        "  def __init__(self):\n",
        "    super().__init__(self)\n",
        "\n",
        "    self.model = Sequential([\n",
        "                             Input(8, name=\"Input\"),\n",
        "                             Dense(3, name=\"Hidden\"),\n",
        "                             Dense(2, activation=\"softmax\", name=\"Output\")\n",
        "    ])\n",
        "\n",
        "  def sub_call(self, input, prev_input):\n",
        "    if len(prev_input)==1:\n",
        "      concated = K.concatenate([input, K.constant([0., 0.])])\n",
        "      concated = tf.expand_dims(concated, axis=0)\n",
        "    else:\n",
        "      prev_output = self.sub_call(prev_input[-1], prev_input[:-1])\n",
        "\n",
        "      input = tf.expand_dims(input, axis=0)\n",
        "      concated = K.concatenate([input, prev_output])\n",
        "    \n",
        "    output = self.model.call(concated)  \n",
        "    return output\n",
        "\n",
        "  def call(self, inputs):\n",
        "    inputs = inputs[0]\n",
        "\n",
        "    input = inputs[-1]\n",
        "    prev_input = inputs[:-1]\n",
        "\n",
        "    return self.sub_call(input, prev_input)"
      ]
    },
    {
      "cell_type": "code",
      "execution_count": null,
      "metadata": {
        "id": "4Kiayjo05iJ-"
      },
      "outputs": [],
      "source": [
        "elman = Elman()"
      ]
    },
    {
      "cell_type": "code",
      "execution_count": null,
      "metadata": {
        "id": "1U4_Y3QOO_LW"
      },
      "outputs": [],
      "source": [
        "elman.compile(optimizer=\"adam\", loss=\"sparse_categorical_crossentropy\", metrics=[\"accuracy\"])"
      ]
    },
    {
      "cell_type": "code",
      "source": [
        "es_callback = EarlyStopping(monitor=\"val_loss\", patience=5, restore_best_weights=True)"
      ],
      "metadata": {
        "id": "HBKFducIPhWI"
      },
      "execution_count": 95,
      "outputs": []
    },
    {
      "cell_type": "code",
      "execution_count": 96,
      "metadata": {
        "colab": {
          "base_uri": "https://localhost:8080/"
        },
        "id": "moqezQ15PVHp",
        "outputId": "3705d0ce-d979-4782-c172-a05db1abd24e"
      },
      "outputs": [
        {
          "output_type": "stream",
          "name": "stdout",
          "text": [
            "Epoch 1/20\n",
            "324/324 [==============================] - 1s 2ms/step - loss: 0.4498 - accuracy: 0.7346 - val_loss: 0.6211 - val_accuracy: 0.5870\n",
            "Epoch 2/20\n",
            "324/324 [==============================] - 1s 2ms/step - loss: 0.4523 - accuracy: 0.7407 - val_loss: 0.8124 - val_accuracy: 0.5217\n",
            "Epoch 3/20\n",
            "324/324 [==============================] - 1s 2ms/step - loss: 0.4949 - accuracy: 0.7222 - val_loss: 0.6397 - val_accuracy: 0.6304\n",
            "Epoch 4/20\n",
            "324/324 [==============================] - 1s 2ms/step - loss: 0.4575 - accuracy: 0.7284 - val_loss: 0.6136 - val_accuracy: 0.6087\n",
            "Epoch 5/20\n",
            "324/324 [==============================] - 1s 2ms/step - loss: 0.4468 - accuracy: 0.7377 - val_loss: 0.6600 - val_accuracy: 0.6739\n",
            "Epoch 6/20\n",
            "324/324 [==============================] - 1s 2ms/step - loss: 0.4788 - accuracy: 0.7160 - val_loss: 0.6470 - val_accuracy: 0.5870\n",
            "Epoch 7/20\n",
            "324/324 [==============================] - 1s 2ms/step - loss: 0.4502 - accuracy: 0.7377 - val_loss: 0.6140 - val_accuracy: 0.6304\n",
            "Epoch 8/20\n",
            "324/324 [==============================] - 1s 2ms/step - loss: 0.4569 - accuracy: 0.7253 - val_loss: 0.6156 - val_accuracy: 0.5870\n",
            "Epoch 9/20\n",
            "324/324 [==============================] - 1s 2ms/step - loss: 0.4397 - accuracy: 0.7377 - val_loss: 0.6433 - val_accuracy: 0.5870\n"
          ]
        },
        {
          "output_type": "execute_result",
          "data": {
            "text/plain": [
              "<keras.callbacks.History at 0x7f5fe41e8d90>"
            ]
          },
          "metadata": {},
          "execution_count": 96
        }
      ],
      "source": [
        "elman.fit(x=train_x, y=train_y, epochs=20, batch_size=1, validation_data=(valid_x, valid_y), callbacks=[es_callback])"
      ]
    },
    {
      "cell_type": "code",
      "source": [
        "elman.evaluate(x=train_x, y=train_y, batch_size=1)\n",
        "elman.evaluate(x=valid_x, y=valid_y, batch_size=1)\n",
        "elman.evaluate(x=test_x, y=test_y, batch_size=1)"
      ],
      "metadata": {
        "colab": {
          "base_uri": "https://localhost:8080/"
        },
        "id": "ZEVwZF4yQ4aG",
        "outputId": "918e74cd-f333-487a-db83-40221af33da7"
      },
      "execution_count": 99,
      "outputs": [
        {
          "output_type": "stream",
          "name": "stdout",
          "text": [
            "324/324 [==============================] - 1s 1ms/step - loss: 0.4303 - accuracy: 0.7377\n",
            "46/46 [==============================] - 0s 2ms/step - loss: 0.6136 - accuracy: 0.6087\n",
            "93/93 [==============================] - 0s 2ms/step - loss: 0.4821 - accuracy: 0.6774\n"
          ]
        },
        {
          "output_type": "execute_result",
          "data": {
            "text/plain": [
              "[0.48209214210510254, 0.6774193644523621]"
            ]
          },
          "metadata": {},
          "execution_count": 99
        }
      ]
    },
    {
      "cell_type": "code",
      "execution_count": 101,
      "metadata": {
        "id": "NAhjOIWH9O8B",
        "colab": {
          "base_uri": "https://localhost:8080/"
        },
        "outputId": "317f67c7-4510-4fdd-d37d-39bf3d927c92"
      },
      "outputs": [
        {
          "output_type": "execute_result",
          "data": {
            "text/plain": [
              "93"
            ]
          },
          "metadata": {},
          "execution_count": 101
        }
      ],
      "source": [
        "len(test_y)"
      ]
    },
    {
      "cell_type": "code",
      "source": [
        "sum(test_y)"
      ],
      "metadata": {
        "colab": {
          "base_uri": "https://localhost:8080/"
        },
        "id": "zZmucDcURl4G",
        "outputId": "eba12307-dc3a-4a5f-c719-8d0a2da077cb"
      },
      "execution_count": 102,
      "outputs": [
        {
          "output_type": "execute_result",
          "data": {
            "text/plain": [
              "72"
            ]
          },
          "metadata": {},
          "execution_count": 102
        }
      ]
    },
    {
      "cell_type": "code",
      "source": [
        ""
      ],
      "metadata": {
        "id": "bGWBowhmRo1A"
      },
      "execution_count": null,
      "outputs": []
    }
  ],
  "metadata": {
    "colab": {
      "collapsed_sections": [],
      "name": "NN-HW5.ipynb",
      "toc_visible": true,
      "provenance": [],
      "authorship_tag": "ABX9TyOHOLgiA9neQsHS88nXLuSs",
      "include_colab_link": true
    },
    "kernelspec": {
      "display_name": "Python 3",
      "name": "python3"
    },
    "language_info": {
      "name": "python"
    }
  },
  "nbformat": 4,
  "nbformat_minor": 0
}