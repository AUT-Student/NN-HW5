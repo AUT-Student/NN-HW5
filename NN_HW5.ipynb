{
  "cells": [
    {
      "cell_type": "markdown",
      "metadata": {
        "id": "view-in-github",
        "colab_type": "text"
      },
      "source": [
        "<a href=\"https://colab.research.google.com/github/AUT-Student/NN-HW5/blob/main/NN_HW5.ipynb\" target=\"_parent\"><img src=\"https://colab.research.google.com/assets/colab-badge.svg\" alt=\"Open In Colab\"/></a>"
      ]
    },
    {
      "cell_type": "markdown",
      "metadata": {
        "id": "PXi3EMtBmo2y"
      },
      "source": [
        "# Libraries"
      ]
    },
    {
      "cell_type": "code",
      "execution_count": 1,
      "metadata": {
        "id": "Gc0siDpwmJXX"
      },
      "outputs": [],
      "source": [
        "import numpy as np\n",
        "import matplotlib.pyplot as plt\n",
        "import pandas as pd\n",
        "import prettytable\n",
        "from sklearn.utils import shuffle\n",
        "from sklearn.metrics import confusion_matrix\n",
        "\n",
        "import tensorflow as tf\n",
        "import tensorflow.keras as keras\n",
        "from keras.layers import Dense, Input, RNN\n",
        "import keras.backend as K\n",
        "from keras.models import Sequential\n",
        "from keras.callbacks import EarlyStopping"
      ]
    },
    {
      "cell_type": "markdown",
      "metadata": {
        "id": "Ru6GOwOPm0de"
      },
      "source": [
        "# Dataset"
      ]
    },
    {
      "cell_type": "code",
      "execution_count": 2,
      "metadata": {
        "colab": {
          "base_uri": "https://localhost:8080/"
        },
        "id": "9fZrU7N-cRwv",
        "outputId": "d4bd1f21-5c6b-48b5-b43b-957e6898b3c7"
      },
      "outputs": [
        {
          "output_type": "stream",
          "name": "stdout",
          "text": [
            "Downloading...\n",
            "From: https://archive.ics.uci.edu/ml/machine-learning-databases/robotfailure-mld/lp1.data\n",
            "To: /content/lp1.data\n",
            "100% 27.3k/27.3k [00:00<00:00, 1.74MB/s]\n",
            "Downloading...\n",
            "From: https://archive.ics.uci.edu/ml/machine-learning-databases/robotfailure-mld/lp2.data\n",
            "To: /content/lp2.data\n",
            "100% 14.6k/14.6k [00:00<00:00, 2.77MB/s]\n",
            "Downloading...\n",
            "From: https://archive.ics.uci.edu/ml/machine-learning-databases/robotfailure-mld/lp3.data\n",
            "To: /content/lp3.data\n",
            "100% 14.5k/14.5k [00:00<00:00, 746kB/s]\n",
            "Downloading...\n",
            "From: https://archive.ics.uci.edu/ml/machine-learning-databases/robotfailure-mld/lp4.data\n",
            "To: /content/lp4.data\n",
            "100% 33.6k/33.6k [00:00<00:00, 1.69MB/s]\n",
            "Downloading...\n",
            "From: https://archive.ics.uci.edu/ml/machine-learning-databases/robotfailure-mld/lp5.data\n",
            "To: /content/lp5.data\n",
            "100% 49.2k/49.2k [00:00<00:00, 1.07MB/s]\n"
          ]
        }
      ],
      "source": [
        "!gdown https://archive.ics.uci.edu/ml/machine-learning-databases/robotfailure-mld/lp1.data\n",
        "!gdown https://archive.ics.uci.edu/ml/machine-learning-databases/robotfailure-mld/lp2.data\n",
        "!gdown https://archive.ics.uci.edu/ml/machine-learning-databases/robotfailure-mld/lp3.data\n",
        "!gdown https://archive.ics.uci.edu/ml/machine-learning-databases/robotfailure-mld/lp4.data\n",
        "!gdown https://archive.ics.uci.edu/ml/machine-learning-databases/robotfailure-mld/lp5.data"
      ]
    },
    {
      "cell_type": "code",
      "execution_count": 3,
      "metadata": {
        "id": "zk3z9sDjk1DB"
      },
      "outputs": [],
      "source": [
        "normal_label_datasets = [\"normal\",\"normal\",\"ok\",\"normal\",\"normal\"]\n",
        "\n",
        "dataset_x = []\n",
        "dataset_y = []\n",
        "for i in range(5):\n",
        "  normal_label = normal_label_datasets[i]\n",
        "  dataset_i = pd.read_csv(f\"/content/lp{i+1}.data\", header=None)\n",
        "  \n",
        "  new_label = None\n",
        "  new_data = None\n",
        "\n",
        "  for j, row in dataset_i.iterrows():\n",
        "    if j%16==0:\n",
        "      new_data = []\n",
        "      \n",
        "      if row[0] == normal_label:\n",
        "         new_label = 0\n",
        "      else:\n",
        "         new_label = 1\n",
        "\n",
        "    else:\n",
        "      new_data.append([float(item) for item in row[0].split()])\n",
        "\n",
        "      if j%16==15:\n",
        "        dataset_x.append(new_data)\n",
        "        dataset_y.append(new_label)"
      ]
    },
    {
      "cell_type": "code",
      "execution_count": 4,
      "metadata": {
        "id": "t-rxihHJ1bRd"
      },
      "outputs": [],
      "source": [
        "dataset_x, dataset_y = shuffle(dataset_x, dataset_y, random_state=0)"
      ]
    },
    {
      "cell_type": "code",
      "source": [
        "dataset_len = len(dataset_x)"
      ],
      "metadata": {
        "id": "PzmPI7WuNFOl"
      },
      "execution_count": 5,
      "outputs": []
    },
    {
      "cell_type": "code",
      "source": [
        "train_x = dataset_x[:int(0.7*dataset_len)]\n",
        "train_y = dataset_y[:int(0.7*dataset_len)]\n",
        "\n",
        "valid_x = dataset_x[int(0.7*dataset_len):int(0.8*dataset_len)]\n",
        "valid_y = dataset_y[int(0.7*dataset_len):int(0.8*dataset_len)]\n",
        "\n",
        "test_x = dataset_x[int(0.8*dataset_len):]\n",
        "test_y = dataset_y[int(0.8*dataset_len):]"
      ],
      "metadata": {
        "id": "_kEyj76QNRJL"
      },
      "execution_count": 6,
      "outputs": []
    },
    {
      "cell_type": "code",
      "execution_count": 7,
      "metadata": {
        "id": "NAhjOIWH9O8B",
        "colab": {
          "base_uri": "https://localhost:8080/"
        },
        "outputId": "da77faff-347a-4e58-d111-96775afab6ca"
      },
      "outputs": [
        {
          "output_type": "execute_result",
          "data": {
            "text/plain": [
              "71.60493827160494"
            ]
          },
          "metadata": {},
          "execution_count": 7
        }
      ],
      "source": [
        "sum(train_y) * 100 / len(train_y)"
      ]
    },
    {
      "cell_type": "code",
      "source": [
        "sum(test_y) * 100 / len(test_y)"
      ],
      "metadata": {
        "colab": {
          "base_uri": "https://localhost:8080/"
        },
        "id": "zZmucDcURl4G",
        "outputId": "25cf615a-0dcb-4221-de91-1c0dfee36ca0"
      },
      "execution_count": 8,
      "outputs": [
        {
          "output_type": "execute_result",
          "data": {
            "text/plain": [
              "77.41935483870968"
            ]
          },
          "metadata": {},
          "execution_count": 8
        }
      ]
    },
    {
      "cell_type": "markdown",
      "source": [
        "# Elman"
      ],
      "metadata": {
        "id": "GBqq6rPr9eQK"
      }
    },
    {
      "cell_type": "code",
      "source": [
        "class ElmanCell(keras.layers.Layer):\n",
        "  # Refrences: https://github.com/keras-team/keras/blob/v2.9.0/keras/layers/rnn/simple_rnn.py#L242-L492\n",
        "\n",
        "  def __init__(self, units):\n",
        "      super().__init__()\n",
        "      self.units = units\n",
        "      self.state_size = units\n",
        "\n",
        "  def build(self, input_shape):\n",
        "      self.kernel = self.add_weight(shape=(input_shape[-1], self.units), initializer=\"glorot_uniform\", name=\"kernel\")\n",
        "      self.recurrent_kernel = self.add_weight(shape=(self.units, self.units), initializer=\"orthogonal\", name=\"recurrent_kernel\")\n",
        "      self.bias = self.add_weight(shape=(self.units), initializer=\"zeros\", name=\"bias\")\n",
        "      self.built = True\n",
        "\n",
        "  def call(self, inputs, states):\n",
        "      previous_hidden = states[0]\n",
        "      current_hidden = K.dot(inputs, self.kernel) + K.dot(previous_hidden, self.recurrent_kernel)\n",
        "      current_hidden = K.bias_add(current_hidden, self.bias)\n",
        "      current_hidden = K.sigmoid(current_hidden)\n",
        "      return current_hidden, [current_hidden]"
      ],
      "metadata": {
        "id": "hy9gB9Pi4yZE"
      },
      "execution_count": 9,
      "outputs": []
    },
    {
      "cell_type": "code",
      "source": [
        "class ElmanNetwork(keras.Model):\n",
        "  def __init__(self, cell_number):\n",
        "    super().__init__()\n",
        "    self.model = Sequential([\n",
        "                             Input((15,6,)),\n",
        "                             RNN(ElmanCell(cell_number)),\n",
        "                             Dense(2, activation=\"softmax\")\n",
        "                            ])\n",
        "  def call(self, inputs):\n",
        "    return self.model.call(inputs)"
      ],
      "metadata": {
        "id": "mT5C85LeONuV"
      },
      "execution_count": 10,
      "outputs": []
    },
    {
      "cell_type": "code",
      "source": [
        "table = prettytable.PrettyTable()\n",
        "table.field_names = [\"#Cell\", \"#Epoch\", \"Train Accuracy\", \"Validation Accuracy\", \"Test Accuracy\"]\n",
        "\n",
        "for cell_number in [8, 32, 64, 128, 512, 2048]:\n",
        "  elman = ElmanNetwork(cell_number)\n",
        "\n",
        "  es_callback = EarlyStopping(monitor=\"val_loss\", patience=10, restore_best_weights=True)\n",
        "\n",
        "  elman.compile(optimizer=keras.optimizers.Adam(learning_rate=0.001), loss=\"sparse_categorical_crossentropy\", metrics=[\"accuracy\"])\n",
        "\n",
        "  history = elman.fit(x=train_x, y=train_y, epochs=250, batch_size=16, validation_data=(valid_x, valid_y), callbacks=[es_callback], verbose=0)\n",
        "\n",
        "  table.add_row([cell_number, history.epoch[-1]+1,\n",
        "                 f\"{round(elman.evaluate(x=train_x, y=train_y, verbose=0)[1]*100, 2)}%\",\n",
        "                 f\"{round(elman.evaluate(x=valid_x, y=valid_y, verbose=0)[1]*100, 2)}%\",\n",
        "                 f\"{round(elman.evaluate(x=test_x, y=test_y, verbose=0)[1]*100, 2)}%\"\n",
        "                 ])\n",
        "print(table)"
      ],
      "metadata": {
        "colab": {
          "base_uri": "https://localhost:8080/"
        },
        "id": "ieWk0mTsRxxI",
        "outputId": "9a3203a8-578b-470a-c3ea-de81a87b7028"
      },
      "execution_count": 11,
      "outputs": [
        {
          "output_type": "stream",
          "name": "stdout",
          "text": [
            "+-------+--------+----------------+---------------------+---------------+\n",
            "| #Cell | #Epoch | Train Accuracy | Validation Accuracy | Test Accuracy |\n",
            "+-------+--------+----------------+---------------------+---------------+\n",
            "|   8   |  141   |     86.73%     |        80.43%       |     89.25%    |\n",
            "|   32  |  193   |     97.84%     |        97.83%       |     95.7%     |\n",
            "|   64  |   98   |     95.68%     |        89.13%       |     90.32%    |\n",
            "|  128  |   45   |     93.83%     |        93.48%       |     90.32%    |\n",
            "|  512  |   29   |     89.81%     |        82.61%       |     88.17%    |\n",
            "|  2048 |   46   |     99.38%     |        95.65%       |     96.77%    |\n",
            "+-------+--------+----------------+---------------------+---------------+\n"
          ]
        }
      ]
    },
    {
      "cell_type": "markdown",
      "source": [
        "# Jordan"
      ],
      "metadata": {
        "id": "DEN92VXcVWrF"
      }
    },
    {
      "cell_type": "code",
      "source": [
        "class JordanCell(keras.layers.Layer):\n",
        "  # Refrences: https://github.com/keras-team/keras/blob/v2.9.0/keras/layers/rnn/simple_rnn.py#L242-L492\n",
        "\n",
        "  def __init__(self, units):\n",
        "      super().__init__()\n",
        "      self.units = units\n",
        "      self.state_size = 2\n",
        "\n",
        "  def build(self, input_shape):\n",
        "      self.kernel = self.add_weight(shape=(input_shape[-1], self.units), initializer=\"glorot_uniform\", name=\"kernel\")\n",
        "      self.recurrent_kernel = self.add_weight(shape=(2, self.units), initializer=\"orthogonal\", name=\"recurrent_kernel\")\n",
        "      self.bias = self.add_weight(shape=(self.units), initializer=\"zeros\", name=\"bias\")\n",
        "      \n",
        "      self.output_kernel = self.add_weight(shape=(self.units, 2), name=\"output_kernel\")\n",
        "      self.output_bias = self.add_weight(shape=(2,), initializer=\"zeros\", name=\"output_bias\")\n",
        "\n",
        "      self.built = True\n",
        "\n",
        "  def call(self, inputs, states):\n",
        "      previous_output = states[0]\n",
        "      current_hidden = K.dot(inputs, self.kernel) + K.dot(previous_output, self.recurrent_kernel)\n",
        "      current_hidden = K.bias_add(current_hidden, self.bias)\n",
        "      current_hidden = K.sigmoid(current_hidden)\n",
        "\n",
        "      current_output = K.dot(current_hidden, self.output_kernel)\n",
        "      current_output = K.bias_add(current_output, self.output_bias)\n",
        "      current_output = K.softmax(current_output)\n",
        "\n",
        "      return current_output, [current_output]"
      ],
      "metadata": {
        "id": "erlnNmspVY5_"
      },
      "execution_count": 12,
      "outputs": []
    },
    {
      "cell_type": "code",
      "source": [
        "class JordanNetwork(keras.Model):\n",
        "  def __init__(self, cell_number):\n",
        "    super().__init__()\n",
        "    self.model = Sequential([\n",
        "                             Input((15,6,)),\n",
        "                             RNN(JordanCell(cell_number)),\n",
        "                            ])\n",
        "  def call(self, inputs):\n",
        "    return self.model.call(inputs)"
      ],
      "metadata": {
        "id": "EYP8m-C7WDkG"
      },
      "execution_count": 13,
      "outputs": []
    },
    {
      "cell_type": "code",
      "source": [
        "table = prettytable.PrettyTable()\n",
        "table.field_names = [\"#Cell\", \"#Epoch\", \"Train Accuracy\", \"Validation Accuracy\", \"Test Accuracy\"]\n",
        "\n",
        "for cell_number in [8, 32, 64, 128, 512, 2048]:\n",
        "  jordan = JordanNetwork(cell_number)\n",
        "\n",
        "  es_callback = EarlyStopping(monitor=\"val_loss\", patience=10, restore_best_weights=True)\n",
        "\n",
        "  jordan.compile(optimizer=keras.optimizers.Adam(learning_rate=0.001), loss=\"sparse_categorical_crossentropy\", metrics=[\"accuracy\"])\n",
        "\n",
        "  history = jordan.fit(x=train_x, y=train_y, epochs=250, batch_size=16, validation_data=(valid_x, valid_y), callbacks=[es_callback], verbose=0)\n",
        "\n",
        "  table.add_row([cell_number, history.epoch[-1]+1,\n",
        "                 f\"{round(jordan.evaluate(x=train_x, y=train_y, verbose=0)[1]*100, 2)}%\",\n",
        "                 f\"{round(jordan.evaluate(x=valid_x, y=valid_y, verbose=0)[1]*100, 2)}%\",\n",
        "                 f\"{round(jordan.evaluate(x=test_x, y=test_y, verbose=0)[1]*100, 2)}%\"\n",
        "                 ])\n",
        "print(table)"
      ],
      "metadata": {
        "colab": {
          "base_uri": "https://localhost:8080/"
        },
        "id": "kpEUiy5rs22v",
        "outputId": "047d17d9-7e95-43cb-d5a4-00200dc942cb"
      },
      "execution_count": 14,
      "outputs": [
        {
          "output_type": "stream",
          "name": "stdout",
          "text": [
            "+-------+--------+----------------+---------------------+---------------+\n",
            "| #Cell | #Epoch | Train Accuracy | Validation Accuracy | Test Accuracy |\n",
            "+-------+--------+----------------+---------------------+---------------+\n",
            "|   8   |   33   |     75.0%      |        76.09%       |     81.72%    |\n",
            "|   32  |  157   |     95.37%     |        91.3%        |     94.62%    |\n",
            "|   64  |   74   |     91.05%     |        73.91%       |     91.4%     |\n",
            "|  128  |  118   |     97.22%     |        86.96%       |     89.25%    |\n",
            "|  512  |   27   |     84.88%     |        65.22%       |     86.02%    |\n",
            "|  2048 |   16   |     79.94%     |        76.09%       |     81.72%    |\n",
            "+-------+--------+----------------+---------------------+---------------+\n"
          ]
        }
      ]
    },
    {
      "cell_type": "code",
      "source": [
        ""
      ],
      "metadata": {
        "id": "2Sd2GuasvCxv"
      },
      "execution_count": null,
      "outputs": []
    }
  ],
  "metadata": {
    "colab": {
      "collapsed_sections": [],
      "name": "NN-HW5.ipynb",
      "toc_visible": true,
      "provenance": [],
      "authorship_tag": "ABX9TyMq/3TZadfKq7QjCj2QSyfM",
      "include_colab_link": true
    },
    "kernelspec": {
      "display_name": "Python 3",
      "name": "python3"
    },
    "language_info": {
      "name": "python"
    }
  },
  "nbformat": 4,
  "nbformat_minor": 0
}