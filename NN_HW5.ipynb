{
  "cells": [
    {
      "cell_type": "markdown",
      "metadata": {
        "id": "view-in-github",
        "colab_type": "text"
      },
      "source": [
        "<a href=\"https://colab.research.google.com/github/AUT-Student/NN-HW5/blob/main/NN_HW5.ipynb\" target=\"_parent\"><img src=\"https://colab.research.google.com/assets/colab-badge.svg\" alt=\"Open In Colab\"/></a>"
      ]
    },
    {
      "cell_type": "markdown",
      "source": [
        "<center><b>In the name of God</b></center>\n",
        "\n",
        "<b>Course</b>: Neural Network\n",
        "<br>\n",
        "<b>Description:</b> HomeWork 5\n",
        "<br>\n",
        "<b>Developer</b>: Alireza Mazochi (400131075)"
      ],
      "metadata": {
        "id": "qw3yZTTgbPCB"
      }
    },
    {
      "cell_type": "markdown",
      "metadata": {
        "id": "PXi3EMtBmo2y"
      },
      "source": [
        "# Libraries"
      ]
    },
    {
      "cell_type": "code",
      "execution_count": null,
      "metadata": {
        "id": "Gc0siDpwmJXX"
      },
      "outputs": [],
      "source": [
        "import numpy as np\n",
        "import matplotlib.pyplot as plt\n",
        "import pandas as pd\n",
        "import prettytable\n",
        "from sklearn.utils import shuffle\n",
        "from sklearn.metrics import confusion_matrix\n",
        "\n",
        "import tensorflow as tf\n",
        "import tensorflow.keras as keras\n",
        "from keras.layers import Dense, Input, RNN, Average\n",
        "import keras.backend as K\n",
        "from keras.models import Sequential\n",
        "from keras.callbacks import EarlyStopping"
      ]
    },
    {
      "cell_type": "markdown",
      "metadata": {
        "id": "Ru6GOwOPm0de"
      },
      "source": [
        "# Dataset"
      ]
    },
    {
      "cell_type": "code",
      "execution_count": null,
      "metadata": {
        "colab": {
          "base_uri": "https://localhost:8080/"
        },
        "id": "9fZrU7N-cRwv",
        "outputId": "90d826a1-5bf5-4f16-ed31-06e2112b6a36"
      },
      "outputs": [
        {
          "name": "stdout",
          "output_type": "stream",
          "text": [
            "Downloading...\n",
            "From: https://archive.ics.uci.edu/ml/machine-learning-databases/robotfailure-mld/lp1.data\n",
            "To: /content/lp1.data\n",
            "100% 27.3k/27.3k [00:00<00:00, 171kB/s]\n",
            "Downloading...\n",
            "From: https://archive.ics.uci.edu/ml/machine-learning-databases/robotfailure-mld/lp2.data\n",
            "To: /content/lp2.data\n",
            "100% 14.6k/14.6k [00:00<00:00, 91.6kB/s]\n",
            "Downloading...\n",
            "From: https://archive.ics.uci.edu/ml/machine-learning-databases/robotfailure-mld/lp3.data\n",
            "To: /content/lp3.data\n",
            "100% 14.5k/14.5k [00:00<00:00, 90.9kB/s]\n",
            "Downloading...\n",
            "From: https://archive.ics.uci.edu/ml/machine-learning-databases/robotfailure-mld/lp4.data\n",
            "To: /content/lp4.data\n",
            "100% 33.6k/33.6k [00:00<00:00, 206kB/s]\n",
            "Downloading...\n",
            "From: https://archive.ics.uci.edu/ml/machine-learning-databases/robotfailure-mld/lp5.data\n",
            "To: /content/lp5.data\n",
            "100% 49.2k/49.2k [00:00<00:00, 152kB/s]\n"
          ]
        }
      ],
      "source": [
        "!gdown https://archive.ics.uci.edu/ml/machine-learning-databases/robotfailure-mld/lp1.data\n",
        "!gdown https://archive.ics.uci.edu/ml/machine-learning-databases/robotfailure-mld/lp2.data\n",
        "!gdown https://archive.ics.uci.edu/ml/machine-learning-databases/robotfailure-mld/lp3.data\n",
        "!gdown https://archive.ics.uci.edu/ml/machine-learning-databases/robotfailure-mld/lp4.data\n",
        "!gdown https://archive.ics.uci.edu/ml/machine-learning-databases/robotfailure-mld/lp5.data"
      ]
    },
    {
      "cell_type": "code",
      "execution_count": null,
      "metadata": {
        "id": "zk3z9sDjk1DB"
      },
      "outputs": [],
      "source": [
        "normal_label_datasets = [\"normal\",\"normal\",\"ok\",\"normal\",\"normal\"]\n",
        "\n",
        "dataset_x = []\n",
        "dataset_y = []\n",
        "for i in range(5):\n",
        "  normal_label = normal_label_datasets[i]\n",
        "  dataset_i = pd.read_csv(f\"/content/lp{i+1}.data\", header=None)\n",
        "  \n",
        "  new_label = None\n",
        "  new_data = None\n",
        "\n",
        "  for j, row in dataset_i.iterrows():\n",
        "    if j%16==0:\n",
        "      new_data = []\n",
        "      \n",
        "      if row[0] == normal_label:\n",
        "         new_label = 0\n",
        "      else:\n",
        "         new_label = 1\n",
        "\n",
        "    else:\n",
        "      new_data.append([float(item) for item in row[0].split()])\n",
        "\n",
        "      if j%16==15:\n",
        "        dataset_x.append(new_data)\n",
        "        dataset_y.append(new_label)"
      ]
    },
    {
      "cell_type": "code",
      "execution_count": null,
      "metadata": {
        "id": "t-rxihHJ1bRd"
      },
      "outputs": [],
      "source": [
        "dataset_x, dataset_y = shuffle(dataset_x, dataset_y, random_state=0)"
      ]
    },
    {
      "cell_type": "code",
      "execution_count": null,
      "metadata": {
        "id": "PzmPI7WuNFOl"
      },
      "outputs": [],
      "source": [
        "dataset_len = len(dataset_x)"
      ]
    },
    {
      "cell_type": "code",
      "execution_count": null,
      "metadata": {
        "id": "_kEyj76QNRJL"
      },
      "outputs": [],
      "source": [
        "train_x = dataset_x[:int(0.7*dataset_len)]\n",
        "train_y = dataset_y[:int(0.7*dataset_len)]\n",
        "\n",
        "valid_x = dataset_x[int(0.7*dataset_len):int(0.8*dataset_len)]\n",
        "valid_y = dataset_y[int(0.7*dataset_len):int(0.8*dataset_len)]\n",
        "\n",
        "test_x = dataset_x[int(0.8*dataset_len):]\n",
        "test_y = dataset_y[int(0.8*dataset_len):]"
      ]
    },
    {
      "cell_type": "code",
      "execution_count": null,
      "metadata": {
        "colab": {
          "base_uri": "https://localhost:8080/"
        },
        "id": "NAhjOIWH9O8B",
        "outputId": "e6fbf279-325d-4bd6-ceff-293892c6c4fe"
      },
      "outputs": [
        {
          "data": {
            "text/plain": [
              "71.60493827160494"
            ]
          },
          "execution_count": 7,
          "metadata": {},
          "output_type": "execute_result"
        }
      ],
      "source": [
        "sum(train_y) * 100 / len(train_y)"
      ]
    },
    {
      "cell_type": "code",
      "execution_count": null,
      "metadata": {
        "colab": {
          "base_uri": "https://localhost:8080/"
        },
        "id": "zZmucDcURl4G",
        "outputId": "54980c25-2a55-4311-f9e2-07c003eec894"
      },
      "outputs": [
        {
          "data": {
            "text/plain": [
              "77.41935483870968"
            ]
          },
          "execution_count": 8,
          "metadata": {},
          "output_type": "execute_result"
        }
      ],
      "source": [
        "sum(test_y) * 100 / len(test_y)"
      ]
    },
    {
      "cell_type": "markdown",
      "metadata": {
        "id": "pRNzdtauKJVZ"
      },
      "source": [
        "# Network Model"
      ]
    },
    {
      "cell_type": "markdown",
      "metadata": {
        "id": "GBqq6rPr9eQK"
      },
      "source": [
        "## Elman"
      ]
    },
    {
      "cell_type": "code",
      "execution_count": null,
      "metadata": {
        "id": "hy9gB9Pi4yZE"
      },
      "outputs": [],
      "source": [
        "class ElmanCell(keras.layers.Layer):\n",
        "  # Refrences: https://github.com/keras-team/keras/blob/v2.9.0/keras/layers/rnn/simple_rnn.py#L242-L492\n",
        "\n",
        "  def __init__(self, units):\n",
        "      super().__init__()\n",
        "      self.units = units\n",
        "      self.state_size = units\n",
        "\n",
        "  def build(self, input_shape):\n",
        "      self.kernel = self.add_weight(shape=(input_shape[-1], self.units), initializer=\"glorot_uniform\", name=\"kernel\")\n",
        "      self.recurrent_kernel = self.add_weight(shape=(self.units, self.units), initializer=\"orthogonal\", name=\"recurrent_kernel\")\n",
        "      self.bias = self.add_weight(shape=(self.units), initializer=\"zeros\", name=\"bias\")\n",
        "      self.built = True\n",
        "\n",
        "  def call(self, inputs, states):\n",
        "      previous_hidden = states[0]\n",
        "      current_hidden = K.dot(inputs, self.kernel) + K.dot(previous_hidden, self.recurrent_kernel)\n",
        "      current_hidden = K.bias_add(current_hidden, self.bias)\n",
        "      current_hidden = K.sigmoid(current_hidden)\n",
        "      return current_hidden, [current_hidden]"
      ]
    },
    {
      "cell_type": "code",
      "execution_count": null,
      "metadata": {
        "id": "mT5C85LeONuV"
      },
      "outputs": [],
      "source": [
        "class ElmanNetwork(keras.Model):\n",
        "  def __init__(self, cell_number):\n",
        "    super().__init__()\n",
        "    self.model = Sequential([\n",
        "                             Input((15,6,)),\n",
        "                             RNN(ElmanCell(cell_number)),\n",
        "                             Dense(2, activation=\"softmax\")\n",
        "                            ])\n",
        "  def call(self, inputs):\n",
        "    return self.model.call(inputs)"
      ]
    },
    {
      "cell_type": "markdown",
      "metadata": {
        "id": "DEN92VXcVWrF"
      },
      "source": [
        "## Jordan"
      ]
    },
    {
      "cell_type": "code",
      "execution_count": null,
      "metadata": {
        "id": "erlnNmspVY5_"
      },
      "outputs": [],
      "source": [
        "class JordanCell(keras.layers.Layer):\n",
        "  # Refrences: https://github.com/keras-team/keras/blob/v2.9.0/keras/layers/rnn/simple_rnn.py#L242-L492\n",
        "\n",
        "  def __init__(self, units):\n",
        "      super().__init__()\n",
        "      self.units = units\n",
        "      self.state_size = 2\n",
        "\n",
        "  def build(self, input_shape):\n",
        "      self.kernel = self.add_weight(shape=(input_shape[-1], self.units), initializer=\"glorot_uniform\", name=\"kernel\")\n",
        "      self.recurrent_kernel = self.add_weight(shape=(2, self.units), initializer=\"orthogonal\", name=\"recurrent_kernel\")\n",
        "      self.bias = self.add_weight(shape=(self.units), initializer=\"zeros\", name=\"bias\")\n",
        "      \n",
        "      self.output_kernel = self.add_weight(shape=(self.units, 2), name=\"output_kernel\")\n",
        "      self.output_bias = self.add_weight(shape=(2,), initializer=\"zeros\", name=\"output_bias\")\n",
        "\n",
        "      self.built = True\n",
        "\n",
        "  def call(self, inputs, states):\n",
        "      previous_output = states[0]\n",
        "      current_hidden = K.dot(inputs, self.kernel) + K.dot(previous_output, self.recurrent_kernel)\n",
        "      current_hidden = K.bias_add(current_hidden, self.bias)\n",
        "      current_hidden = K.sigmoid(current_hidden)\n",
        "\n",
        "      current_output = K.dot(current_hidden, self.output_kernel)\n",
        "      current_output = K.bias_add(current_output, self.output_bias)\n",
        "      current_output = K.softmax(current_output)\n",
        "\n",
        "      return current_output, [current_output]"
      ]
    },
    {
      "cell_type": "code",
      "execution_count": null,
      "metadata": {
        "id": "EYP8m-C7WDkG"
      },
      "outputs": [],
      "source": [
        "class JordanNetwork(keras.Model):\n",
        "  def __init__(self, cell_number):\n",
        "    super().__init__()\n",
        "    self.model = Sequential([\n",
        "                             Input((15,6,)),\n",
        "                             RNN(JordanCell(cell_number)),\n",
        "                            ])\n",
        "  def call(self, inputs):\n",
        "    return self.model.call(inputs)"
      ]
    },
    {
      "cell_type": "markdown",
      "metadata": {
        "id": "zfQTPi15KO4j"
      },
      "source": [
        "# Ensemble Model"
      ]
    },
    {
      "cell_type": "code",
      "execution_count": 79,
      "metadata": {
        "id": "G7fZcV6wKVS2"
      },
      "outputs": [],
      "source": [
        "class EnsembleNetwork(keras.Model):\n",
        "  def __init__(self, sub_models):\n",
        "    super().__init__()\n",
        "    \n",
        "    self.sub_models = sub_models\n",
        "    input = Input((15,6,))\n",
        "    sub_output = [sub_model(input) for sub_model in sub_models]\n",
        "    average = Average()\n",
        "    output = average(sub_output)\n",
        "    self.model = keras.Model(input, output)\n",
        "\n",
        "  def number_sub_models(self):\n",
        "    return len(self.sub_models)\n",
        "    \n",
        "  def sub_model(self, index):\n",
        "    return self.sub_models[index]\n",
        "\n",
        "  def call(self, inputs):\n",
        "    return self.model.call(inputs)"
      ]
    },
    {
      "cell_type": "markdown",
      "metadata": {
        "id": "2G5PzBU7JgC1"
      },
      "source": [
        "# Single Network Results"
      ]
    },
    {
      "cell_type": "markdown",
      "metadata": {
        "id": "bXhT31y2JnfH"
      },
      "source": [
        "## Elman"
      ]
    },
    {
      "cell_type": "code",
      "execution_count": null,
      "metadata": {
        "colab": {
          "base_uri": "https://localhost:8080/"
        },
        "id": "ieWk0mTsRxxI",
        "outputId": "9a3203a8-578b-470a-c3ea-de81a87b7028"
      },
      "outputs": [
        {
          "name": "stdout",
          "output_type": "stream",
          "text": [
            "+-------+--------+----------------+---------------------+---------------+\n",
            "| #Cell | #Epoch | Train Accuracy | Validation Accuracy | Test Accuracy |\n",
            "+-------+--------+----------------+---------------------+---------------+\n",
            "|   8   |  141   |     86.73%     |        80.43%       |     89.25%    |\n",
            "|   32  |  193   |     97.84%     |        97.83%       |     95.7%     |\n",
            "|   64  |   98   |     95.68%     |        89.13%       |     90.32%    |\n",
            "|  128  |   45   |     93.83%     |        93.48%       |     90.32%    |\n",
            "|  512  |   29   |     89.81%     |        82.61%       |     88.17%    |\n",
            "|  2048 |   46   |     99.38%     |        95.65%       |     96.77%    |\n",
            "+-------+--------+----------------+---------------------+---------------+\n"
          ]
        }
      ],
      "source": [
        "table = prettytable.PrettyTable()\n",
        "table.field_names = [\"#Cell\", \"#Epoch\", \"Train Accuracy\", \"Validation Accuracy\", \"Test Accuracy\"]\n",
        "\n",
        "for cell_number in [8, 32, 64, 128, 512, 2048]:\n",
        "  elman = ElmanNetwork(cell_number)\n",
        "\n",
        "  es_callback = EarlyStopping(monitor=\"val_loss\", patience=10, restore_best_weights=True)\n",
        "\n",
        "  elman.compile(optimizer=keras.optimizers.Adam(learning_rate=0.001), loss=\"sparse_categorical_crossentropy\", metrics=[\"accuracy\"])\n",
        "\n",
        "  history = elman.fit(x=train_x, y=train_y, epochs=250, batch_size=16, validation_data=(valid_x, valid_y), callbacks=[es_callback], verbose=0)\n",
        "\n",
        "  table.add_row([cell_number, history.epoch[-1]+1,\n",
        "                 f\"{round(elman.evaluate(x=train_x, y=train_y, verbose=0)[1]*100, 2)}%\",\n",
        "                 f\"{round(elman.evaluate(x=valid_x, y=valid_y, verbose=0)[1]*100, 2)}%\",\n",
        "                 f\"{round(elman.evaluate(x=test_x, y=test_y, verbose=0)[1]*100, 2)}%\"\n",
        "                 ])\n",
        "print(table)"
      ]
    },
    {
      "cell_type": "markdown",
      "metadata": {
        "id": "U5kOi4TtJppQ"
      },
      "source": [
        "## Jordan"
      ]
    },
    {
      "cell_type": "code",
      "execution_count": null,
      "metadata": {
        "colab": {
          "base_uri": "https://localhost:8080/"
        },
        "id": "kpEUiy5rs22v",
        "outputId": "047d17d9-7e95-43cb-d5a4-00200dc942cb"
      },
      "outputs": [
        {
          "name": "stdout",
          "output_type": "stream",
          "text": [
            "+-------+--------+----------------+---------------------+---------------+\n",
            "| #Cell | #Epoch | Train Accuracy | Validation Accuracy | Test Accuracy |\n",
            "+-------+--------+----------------+---------------------+---------------+\n",
            "|   8   |   33   |     75.0%      |        76.09%       |     81.72%    |\n",
            "|   32  |  157   |     95.37%     |        91.3%        |     94.62%    |\n",
            "|   64  |   74   |     91.05%     |        73.91%       |     91.4%     |\n",
            "|  128  |  118   |     97.22%     |        86.96%       |     89.25%    |\n",
            "|  512  |   27   |     84.88%     |        65.22%       |     86.02%    |\n",
            "|  2048 |   16   |     79.94%     |        76.09%       |     81.72%    |\n",
            "+-------+--------+----------------+---------------------+---------------+\n"
          ]
        }
      ],
      "source": [
        "table = prettytable.PrettyTable()\n",
        "table.field_names = [\"#Cell\", \"#Epoch\", \"Train Accuracy\", \"Validation Accuracy\", \"Test Accuracy\"]\n",
        "\n",
        "for cell_number in [8, 32, 64, 128, 512, 2048]:\n",
        "  jordan = JordanNetwork(cell_number)\n",
        "\n",
        "  es_callback = EarlyStopping(monitor=\"val_loss\", patience=10, restore_best_weights=True)\n",
        "\n",
        "  jordan.compile(optimizer=keras.optimizers.Adam(learning_rate=0.001), loss=\"sparse_categorical_crossentropy\", metrics=[\"accuracy\"])\n",
        "\n",
        "  history = jordan.fit(x=train_x, y=train_y, epochs=250, batch_size=16, validation_data=(valid_x, valid_y), callbacks=[es_callback], verbose=0)\n",
        "\n",
        "  table.add_row([cell_number, history.epoch[-1]+1,\n",
        "                 f\"{round(jordan.evaluate(x=train_x, y=train_y, verbose=0)[1]*100, 2)}%\",\n",
        "                 f\"{round(jordan.evaluate(x=valid_x, y=valid_y, verbose=0)[1]*100, 2)}%\",\n",
        "                 f\"{round(jordan.evaluate(x=test_x, y=test_y, verbose=0)[1]*100, 2)}%\"\n",
        "                 ])\n",
        "print(table)"
      ]
    },
    {
      "cell_type": "markdown",
      "metadata": {
        "id": "zQBUs2lRIoMp"
      },
      "source": [
        "# Ensemble Network Results"
      ]
    },
    {
      "cell_type": "markdown",
      "metadata": {
        "id": "LvlzfGZaJ2Uc"
      },
      "source": [
        "## Single Dataset"
      ]
    },
    {
      "cell_type": "code",
      "source": [
        "def collect_results_single_dataset(ensemble_configs):\n",
        "  table = prettytable.PrettyTable()\n",
        "  table.field_names = [\"Config\", \"Train Accuracy\", \"Validation Accuracy\", \"Test Accuracy\"]\n",
        "\n",
        "  for ensemble_name, ensemble_model in ensemble_configs:\n",
        "    number_sub_models = ensemble_model.number_sub_models()\n",
        "\n",
        "    for i in range(number_sub_models):\n",
        "      es_callback = EarlyStopping(monitor=\"val_loss\", patience=10, restore_best_weights=True)\n",
        "      ensemble_model.sub_model(i).compile(optimizer=keras.optimizers.Adam(learning_rate=0.001), loss=\"sparse_categorical_crossentropy\", metrics=[\"accuracy\"])\n",
        "      history = ensemble_model.sub_model(i).fit(x=train_x, y=train_y,\n",
        "                                                epochs=250, batch_size=16,\n",
        "                                                validation_data=(valid_x, valid_y),\n",
        "                                                callbacks=[es_callback], verbose=0)\n",
        "    \n",
        "    es_callback = EarlyStopping(monitor=\"val_loss\", patience=10, restore_best_weights=True)\n",
        "    ensemble_model.compile(optimizer=keras.optimizers.Adam(learning_rate=0.001),\n",
        "                          loss=\"sparse_categorical_crossentropy\", metrics=[\"accuracy\"])\n",
        "    \n",
        "    table.add_row([ensemble_name,\n",
        "                  f\"{round(ensemble_model.evaluate(x=train_x, y=train_y, verbose=0)[1]*100, 2)}%\",\n",
        "                  f\"{round(ensemble_model.evaluate(x=valid_x, y=valid_y, verbose=0)[1]*100, 2)}%\",\n",
        "                  f\"{round(ensemble_model.evaluate(x=test_x, y=test_y, verbose=0)[1]*100, 2)}%\"\n",
        "                  ])\n",
        "  print(table)"
      ],
      "metadata": {
        "id": "pxNMdYFiEq-s"
      },
      "execution_count": 88,
      "outputs": []
    },
    {
      "cell_type": "markdown",
      "source": [
        "### Only Elman"
      ],
      "metadata": {
        "id": "Ot3ArOQW6M0N"
      }
    },
    {
      "cell_type": "code",
      "execution_count": 89,
      "metadata": {
        "id": "TzNH2J8rJrOu"
      },
      "outputs": [],
      "source": [
        "ensemble_configs = [\n",
        "                    (\"5 * Elman(8)\", EnsembleNetwork([ElmanNetwork(8), ElmanNetwork(8), ElmanNetwork(8), ElmanNetwork(8), ElmanNetwork(8)])),\n",
        "                    (\"5 * Elman(32)\", EnsembleNetwork([ElmanNetwork(32), ElmanNetwork(32), ElmanNetwork(32), ElmanNetwork(32), ElmanNetwork(32)])),\n",
        "                    (\"5 * Elman(256)\", EnsembleNetwork([ElmanNetwork(256), ElmanNetwork(256), ElmanNetwork(256), ElmanNetwork(256), ElmanNetwork(256)])),\n",
        "                    (\"5 * Elman(2048)\", EnsembleNetwork([ElmanNetwork(2048), ElmanNetwork(2048), ElmanNetwork(2048), ElmanNetwork(2048), ElmanNetwork(2048)])),\n",
        "                    (\"Elman(32, 64, 128, 512, 2048)\", EnsembleNetwork([ElmanNetwork(32), ElmanNetwork(64), ElmanNetwork(128), ElmanNetwork(512), ElmanNetwork(2048)])),\n",
        "                    (\"Elman(32), Elman(2048)\", EnsembleNetwork([ElmanNetwork(32), ElmanNetwork(2048)]))\n",
        "]"
      ]
    },
    {
      "cell_type": "code",
      "source": [
        "collect_results_single_dataset(ensemble_configs)"
      ],
      "metadata": {
        "colab": {
          "base_uri": "https://localhost:8080/"
        },
        "id": "chkbX7FmFtPQ",
        "outputId": "19c2a285-156a-40be-807a-73f0c7a8a929"
      },
      "execution_count": 90,
      "outputs": [
        {
          "output_type": "stream",
          "name": "stdout",
          "text": [
            "+-------------------------------+----------------+---------------------+---------------+\n",
            "|             Config            | Train Accuracy | Validation Accuracy | Test Accuracy |\n",
            "+-------------------------------+----------------+---------------------+---------------+\n",
            "|          5 * Elman(8)         |     88.58%     |        71.74%       |     84.95%    |\n",
            "|         5 * Elman(32)         |     98.77%     |        97.83%       |     96.77%    |\n",
            "|         5 * Elman(256)        |     98.77%     |        97.83%       |     95.7%     |\n",
            "|        5 * Elman(2048)        |     99.69%     |        100.0%       |     97.85%    |\n",
            "| Elman(32, 64, 128, 512, 2048) |     98.46%     |        97.83%       |     94.62%    |\n",
            "|     Elman(32), Elman(2048)    |     100.0%     |        100.0%       |     100.0%    |\n",
            "+-------------------------------+----------------+---------------------+---------------+\n"
          ]
        }
      ]
    },
    {
      "cell_type": "markdown",
      "source": [
        "### Only Jordan"
      ],
      "metadata": {
        "id": "SSNrTDb6FcFG"
      }
    },
    {
      "cell_type": "code",
      "source": [
        "ensemble_configs = [\n",
        "                    (\"5 * Jordan(8)\", EnsembleNetwork([JordanNetwork(8), JordanNetwork(8), JordanNetwork(8), JordanNetwork(8), JordanNetwork(8)])),\n",
        "                    (\"5 * Jordan(32)\", EnsembleNetwork([JordanNetwork(32), JordanNetwork(32), JordanNetwork(32), JordanNetwork(32), JordanNetwork(32)])),\n",
        "                    (\"5 * Jordan(128)\", EnsembleNetwork([JordanNetwork(128), JordanNetwork(128), JordanNetwork(128), JordanNetwork(128), JordanNetwork(128)])),\n",
        "                    (\"5 * Jordan(256)\", EnsembleNetwork([JordanNetwork(256), JordanNetwork(256), JordanNetwork(256), JordanNetwork(256), JordanNetwork(256)])),\n",
        "                    (\"Jordan(8, 32, 128, 256, 512)\", EnsembleNetwork([JordanNetwork(8), JordanNetwork(32), JordanNetwork(128), JordanNetwork(256), JordanNetwork(512)])),\n",
        "                    (\"Jordan(32), Jordan(64)\", EnsembleNetwork([JordanNetwork(32), JordanNetwork(64)]))\n",
        "]"
      ],
      "metadata": {
        "id": "gm_287DTHwQ5"
      },
      "execution_count": 91,
      "outputs": []
    },
    {
      "cell_type": "code",
      "source": [
        "collect_results_single_dataset(ensemble_configs)"
      ],
      "metadata": {
        "colab": {
          "base_uri": "https://localhost:8080/"
        },
        "id": "lCm5cta3Jir-",
        "outputId": "febbed40-4d11-4b43-972d-85b37f6a4461"
      },
      "execution_count": 92,
      "outputs": [
        {
          "output_type": "stream",
          "name": "stdout",
          "text": [
            "+------------------------------+----------------+---------------------+---------------+\n",
            "|            Config            | Train Accuracy | Validation Accuracy | Test Accuracy |\n",
            "+------------------------------+----------------+---------------------+---------------+\n",
            "|        5 * Jordan(8)         |     84.57%     |        71.74%       |     87.1%     |\n",
            "|        5 * Jordan(32)        |     91.05%     |        76.09%       |     92.47%    |\n",
            "|       5 * Jordan(128)        |     96.6%      |        91.3%        |     96.77%    |\n",
            "|       5 * Jordan(256)        |     93.83%     |        84.78%       |     88.17%    |\n",
            "| Jordan(8, 32, 128, 256, 512) |     97.22%     |        84.78%       |     94.62%    |\n",
            "|    Jordan(32), Jordan(64)    |     91.67%     |        80.43%       |     91.4%     |\n",
            "+------------------------------+----------------+---------------------+---------------+\n"
          ]
        }
      ]
    },
    {
      "cell_type": "markdown",
      "source": [
        "### Elman & Jordan"
      ],
      "metadata": {
        "id": "_RPTfYiAOX2n"
      }
    },
    {
      "cell_type": "code",
      "source": [
        "ensemble_configs = [\n",
        "                    (\"Elman(32, 2048), 3 * Jordan(128)\", EnsembleNetwork([ElmanNetwork(32), ElmanNetwork(2048), JordanNetwork(128), JordanNetwork(128), JordanNetwork(128)])),\n",
        "                    (\"3 * Elman(32), 2 * Jordan(32)\", EnsembleNetwork([ElmanNetwork(32), ElmanNetwork(32), ElmanNetwork(32), JordanNetwork(32), JordanNetwork(32)])),\n",
        "                    (\"Elman(2048), Jordan(32)\", EnsembleNetwork([ElmanNetwork(2048), JordanNetwork(32)])),\n",
        "                    (\"Elman(32, 2048), Jordan(32)\", EnsembleNetwork([ElmanNetwork(32), ElmanNetwork(2048), JordanNetwork(32)])),\n",
        "                    (\"Jordan(32, 64), Elman(128, 512, 2048)\", EnsembleNetwork([JordanNetwork(32), JordanNetwork(64), ElmanNetwork(128), ElmanNetwork(512), ElmanNetwork(2048)])),\n",
        "]"
      ],
      "metadata": {
        "id": "IminV1AZObTt"
      },
      "execution_count": 93,
      "outputs": []
    },
    {
      "cell_type": "code",
      "source": [
        "collect_results_single_dataset(ensemble_configs)"
      ],
      "metadata": {
        "colab": {
          "base_uri": "https://localhost:8080/"
        },
        "id": "DpViYGPwR9Ez",
        "outputId": "b1561def-f629-4a0c-c3cf-459e3c78b971"
      },
      "execution_count": 94,
      "outputs": [
        {
          "output_type": "stream",
          "name": "stdout",
          "text": [
            "+---------------------------------------+----------------+---------------------+---------------+\n",
            "|                 Config                | Train Accuracy | Validation Accuracy | Test Accuracy |\n",
            "+---------------------------------------+----------------+---------------------+---------------+\n",
            "|    Elman(32, 2048), 3 * Jordan(128)   |     95.99%     |        89.13%       |     90.32%    |\n",
            "|     3 * Elman(32), 2 * Jordan(32)     |     100.0%     |        100.0%       |     98.92%    |\n",
            "|        Elman(2048), Jordan(32)        |     98.15%     |        100.0%       |     93.55%    |\n",
            "|      Elman(32, 2048), Jordan(32)      |     97.84%     |        97.83%       |     94.62%    |\n",
            "| Jordan(32, 64), Elman(128, 512, 2048) |     95.68%     |        95.65%       |     92.47%    |\n",
            "+---------------------------------------+----------------+---------------------+---------------+\n"
          ]
        }
      ]
    },
    {
      "cell_type": "markdown",
      "source": [
        "## Multiple Dataset"
      ],
      "metadata": {
        "id": "h-llcAyQFYBQ"
      }
    },
    {
      "cell_type": "code",
      "source": [
        "def collect_results_multiple_dataset(ensemble_configs):\n",
        "  table = prettytable.PrettyTable()\n",
        "  table.field_names = [\"Config\", \"Train Accuracy\", \"Validation Accuracy\", \"Test Accuracy\"]\n",
        "\n",
        "  for ensemble_name, ensemble_model in ensemble_configs:\n",
        "    number_sub_models = ensemble_model.number_sub_models()\n",
        "\n",
        "    for i in range(number_sub_models):\n",
        "      es_callback = EarlyStopping(monitor=\"val_loss\", patience=10, restore_best_weights=True)\n",
        "      ensemble_model.sub_model(i).compile(optimizer=keras.optimizers.Adam(learning_rate=0.001), loss=\"sparse_categorical_crossentropy\", metrics=[\"accuracy\"])\n",
        "      \n",
        "      len_train = len(train_y)\n",
        "      sub_train_x = train_x[int(len_train*i/number_sub_models):int(len_train*(i+1)/number_sub_models)]\n",
        "      sub_train_y = train_y[int(len_train*i/number_sub_models):int(len_train*(i+1)/number_sub_models)]\n",
        "      \n",
        "      history = ensemble_model.sub_model(i).fit(x=sub_train_x, y=sub_train_y,\n",
        "                                                epochs=250, batch_size=16,\n",
        "                                                validation_data=(valid_x, valid_y),\n",
        "                                                callbacks=[es_callback], verbose=0)\n",
        "    \n",
        "    ensemble_model.compile(optimizer=keras.optimizers.Adam(learning_rate=0.001),\n",
        "                          loss=\"sparse_categorical_crossentropy\", metrics=[\"accuracy\"])\n",
        "    \n",
        "    table.add_row([ensemble_name,\n",
        "                  f\"{round(ensemble_model.evaluate(x=train_x, y=train_y, verbose=0)[1]*100, 2)}%\",\n",
        "                  f\"{round(ensemble_model.evaluate(x=valid_x, y=valid_y, verbose=0)[1]*100, 2)}%\",\n",
        "                  f\"{round(ensemble_model.evaluate(x=test_x, y=test_y, verbose=0)[1]*100, 2)}%\"\n",
        "                  ])\n",
        "  print(table)"
      ],
      "metadata": {
        "id": "qfp1o0rTOjUn"
      },
      "execution_count": 102,
      "outputs": []
    },
    {
      "cell_type": "markdown",
      "source": [
        "### Previous Best Settings"
      ],
      "metadata": {
        "id": "hq0SfkDhZA9e"
      }
    },
    {
      "cell_type": "code",
      "source": [
        "ensemble_configs = [\n",
        "                    (\"3 * Elman(32), 2 * Jordan(32)\", EnsembleNetwork([ElmanNetwork(32), ElmanNetwork(32), ElmanNetwork(32), JordanNetwork(32), JordanNetwork(32)])),\n",
        "                    (\"Elman(2048), Jordan(32)\", EnsembleNetwork([ElmanNetwork(2048), JordanNetwork(32)])),\n",
        "                    (\"5 * Jordan(128)\", EnsembleNetwork([JordanNetwork(128), JordanNetwork(128), JordanNetwork(128), JordanNetwork(128), JordanNetwork(128)])),\n",
        "                    (\"Elman(32), Elman(2048)\", EnsembleNetwork([ElmanNetwork(32), ElmanNetwork(2048)]))\n",
        "]"
      ],
      "metadata": {
        "id": "aBTKKKcTVTi6"
      },
      "execution_count": 103,
      "outputs": []
    },
    {
      "cell_type": "code",
      "source": [
        "collect_results_multiple_dataset(ensemble_configs)"
      ],
      "metadata": {
        "colab": {
          "base_uri": "https://localhost:8080/"
        },
        "id": "HkHxO7zaVdGS",
        "outputId": "7bc5458c-671b-4e0d-d6b5-49d8a2a197dd"
      },
      "execution_count": null,
      "outputs": [
        {
          "metadata": {
            "tags": null
          },
          "name": "stdout",
          "output_type": "stream",
          "text": [
            "+-------------------------------+----------------+---------------------+---------------+\n",
            "|             Config            | Train Accuracy | Validation Accuracy | Test Accuracy |\n",
            "+-------------------------------+----------------+---------------------+---------------+\n",
            "| 3 * Elman(32), 2 * Jordan(32) |     81.17%     |        67.39%       |     88.17%    |\n",
            "|    Elman(2048), Jordan(32)    |     89.51%     |        82.61%       |     90.32%    |\n",
            "|        5 * Jordan(128)        |     79.63%     |        67.39%       |     74.19%    |\n",
            "|     Elman(32), Elman(2048)    |     84.26%     |        67.39%       |     87.1%     |\n",
            "+-------------------------------+----------------+---------------------+---------------+\n"
          ]
        }
      ]
    },
    {
      "cell_type": "markdown",
      "source": [
        "### Incresing Subnetworks"
      ],
      "metadata": {
        "id": "uQzlQ-87ZToo"
      }
    },
    {
      "cell_type": "code",
      "source": [
        "ensemble_configs = [\n",
        "                    (\"2 * Elman(32)\", EnsembleNetwork([ElmanNetwork(32), ElmanNetwork(32)])),\n",
        "                    (\"4 * Elman(32)\", EnsembleNetwork([ElmanNetwork(32), ElmanNetwork(32), ElmanNetwork(32), ElmanNetwork(32)])),\n",
        "                    (\"8 * Elman(32)\", EnsembleNetwork([ElmanNetwork(32), ElmanNetwork(32), ElmanNetwork(32), ElmanNetwork(32),\n",
        "                                                       ElmanNetwork(32), ElmanNetwork(32), ElmanNetwork(32), ElmanNetwork(32)])),\n",
        "                    (\"16 * Elman(32)\", EnsembleNetwork([ElmanNetwork(32), ElmanNetwork(32), ElmanNetwork(32), ElmanNetwork(32),\n",
        "                                                        ElmanNetwork(32), ElmanNetwork(32), ElmanNetwork(32), ElmanNetwork(32),\n",
        "                                                        ElmanNetwork(32), ElmanNetwork(32), ElmanNetwork(32), ElmanNetwork(32),\n",
        "                                                        ElmanNetwork(32), ElmanNetwork(32), ElmanNetwork(32), ElmanNetwork(32)]))\n",
        "]"
      ],
      "metadata": {
        "id": "4UXVSXoEZF5a"
      },
      "execution_count": 108,
      "outputs": []
    },
    {
      "cell_type": "code",
      "source": [
        "collect_results_multiple_dataset(ensemble_configs)"
      ],
      "metadata": {
        "colab": {
          "base_uri": "https://localhost:8080/"
        },
        "id": "ywj9we0UVjKi",
        "outputId": "6762ca9e-bbac-4d9f-b60d-da33a892a8c3"
      },
      "execution_count": 109,
      "outputs": [
        {
          "output_type": "stream",
          "name": "stdout",
          "text": [
            "+----------------+----------------+---------------------+---------------+\n",
            "|     Config     | Train Accuracy | Validation Accuracy | Test Accuracy |\n",
            "+----------------+----------------+---------------------+---------------+\n",
            "| 2 * Elman(32)  |     86.42%     |        78.26%       |     88.17%    |\n",
            "| 4 * Elman(32)  |     80.86%     |        67.39%       |     79.57%    |\n",
            "| 8 * Elman(32)  |     78.7%      |        67.39%       |     86.02%    |\n",
            "| 16 * Elman(32) |     79.32%     |        71.74%       |     80.65%    |\n",
            "+----------------+----------------+---------------------+---------------+\n"
          ]
        }
      ]
    }
  ],
  "metadata": {
    "accelerator": "GPU",
    "colab": {
      "collapsed_sections": [],
      "name": "NN-HW5.ipynb",
      "toc_visible": true,
      "provenance": [],
      "authorship_tag": "ABX9TyNppvBuDRD544M40L1BY2mL",
      "include_colab_link": true
    },
    "kernelspec": {
      "display_name": "Python 3",
      "name": "python3"
    },
    "language_info": {
      "name": "python"
    }
  },
  "nbformat": 4,
  "nbformat_minor": 0
}