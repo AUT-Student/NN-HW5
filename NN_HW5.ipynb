{
  "nbformat": 4,
  "nbformat_minor": 0,
  "metadata": {
    "colab": {
      "name": "NN-HW5.ipynb",
      "provenance": [],
      "collapsed_sections": [],
      "toc_visible": true,
      "authorship_tag": "ABX9TyPqUW/rqc0fKcPRgnrCt23m",
      "include_colab_link": true
    },
    "kernelspec": {
      "name": "python3",
      "display_name": "Python 3"
    },
    "language_info": {
      "name": "python"
    }
  },
  "cells": [
    {
      "cell_type": "markdown",
      "metadata": {
        "id": "view-in-github",
        "colab_type": "text"
      },
      "source": [
        "<a href=\"https://colab.research.google.com/github/AUT-Student/NN-HW5/blob/main/NN_HW5.ipynb\" target=\"_parent\"><img src=\"https://colab.research.google.com/assets/colab-badge.svg\" alt=\"Open In Colab\"/></a>"
      ]
    },
    {
      "cell_type": "markdown",
      "source": [
        "# Libraries"
      ],
      "metadata": {
        "id": "PXi3EMtBmo2y"
      }
    },
    {
      "cell_type": "code",
      "execution_count": 1,
      "metadata": {
        "id": "Gc0siDpwmJXX"
      },
      "outputs": [],
      "source": [
        "import numpy as np\n",
        "import matplotlib.pyplot as plt\n",
        "import pandas as pd\n",
        "from sklearn.utils import shuffle\n",
        "\n",
        "import tensorflow as tf\n",
        "import tensorflow.keras as keras\n",
        "from keras.layers import Dense, Input, Concatenate\n",
        "import tensorflow.keras.backend as K\n",
        "from keras.models import Sequential "
      ]
    },
    {
      "cell_type": "markdown",
      "source": [
        "# Dataset"
      ],
      "metadata": {
        "id": "Ru6GOwOPm0de"
      }
    },
    {
      "cell_type": "code",
      "source": [
        "!gdown https://archive.ics.uci.edu/ml/machine-learning-databases/robotfailure-mld/lp1.data\n",
        "!gdown https://archive.ics.uci.edu/ml/machine-learning-databases/robotfailure-mld/lp2.data\n",
        "!gdown https://archive.ics.uci.edu/ml/machine-learning-databases/robotfailure-mld/lp3.data\n",
        "!gdown https://archive.ics.uci.edu/ml/machine-learning-databases/robotfailure-mld/lp4.data\n",
        "!gdown https://archive.ics.uci.edu/ml/machine-learning-databases/robotfailure-mld/lp5.data"
      ],
      "metadata": {
        "colab": {
          "base_uri": "https://localhost:8080/"
        },
        "id": "9fZrU7N-cRwv",
        "outputId": "7faf9ee0-252f-43cb-fdf2-94c8b4d36bac"
      },
      "execution_count": 2,
      "outputs": [
        {
          "output_type": "stream",
          "name": "stdout",
          "text": [
            "Downloading...\n",
            "From: https://archive.ics.uci.edu/ml/machine-learning-databases/robotfailure-mld/lp1.data\n",
            "To: /content/lp1.data\n",
            "100% 27.3k/27.3k [00:00<00:00, 464kB/s]\n",
            "Downloading...\n",
            "From: https://archive.ics.uci.edu/ml/machine-learning-databases/robotfailure-mld/lp2.data\n",
            "To: /content/lp2.data\n",
            "100% 14.6k/14.6k [00:00<00:00, 254kB/s]\n",
            "Downloading...\n",
            "From: https://archive.ics.uci.edu/ml/machine-learning-databases/robotfailure-mld/lp3.data\n",
            "To: /content/lp3.data\n",
            "100% 14.5k/14.5k [00:00<00:00, 253kB/s]\n",
            "Downloading...\n",
            "From: https://archive.ics.uci.edu/ml/machine-learning-databases/robotfailure-mld/lp4.data\n",
            "To: /content/lp4.data\n",
            "100% 33.6k/33.6k [00:00<00:00, 560kB/s]\n",
            "Downloading...\n",
            "From: https://archive.ics.uci.edu/ml/machine-learning-databases/robotfailure-mld/lp5.data\n",
            "To: /content/lp5.data\n",
            "100% 49.2k/49.2k [00:00<00:00, 392kB/s]\n"
          ]
        }
      ]
    },
    {
      "cell_type": "code",
      "source": [
        "normal_label_datasets = [\"normal\",\"normal\",\"ok\",\"normal\",\"normal\"]\n",
        "\n",
        "dataset_x = []\n",
        "dataset_y = []\n",
        "for i in range(5):\n",
        "  normal_label = normal_label_datasets[i]\n",
        "  dataset_i = pd.read_csv(f\"/content/lp{i+1}.data\", header=None)\n",
        "  \n",
        "  new_label = None\n",
        "  new_data = None\n",
        "\n",
        "  for j, row in dataset_i.iterrows():\n",
        "    if j%16==0:\n",
        "      new_data = []\n",
        "      \n",
        "      if row[0] == normal_label:\n",
        "         new_label = 0\n",
        "      else:\n",
        "         new_label = 1\n",
        "\n",
        "    else:\n",
        "      new_data.append([float(item) for item in row[0].split()])\n",
        "\n",
        "      if j%16==15:\n",
        "        dataset_x.append(new_data)\n",
        "        dataset_y.append(new_label)"
      ],
      "metadata": {
        "id": "zk3z9sDjk1DB"
      },
      "execution_count": 9,
      "outputs": []
    },
    {
      "cell_type": "code",
      "source": [
        "dataset_x, dataset_y = shuffle(dataset_x, dataset_y, random_state=0)"
      ],
      "metadata": {
        "id": "t-rxihHJ1bRd"
      },
      "execution_count": 10,
      "outputs": []
    },
    {
      "cell_type": "markdown",
      "source": [
        "# Elman Network"
      ],
      "metadata": {
        "id": "yrcso2Sr3sNe"
      }
    },
    {
      "cell_type": "code",
      "source": [
        "class ElmanOld(keras.Model):\n",
        "  def __init__(self):\n",
        "    super().__init__(self)\n",
        "\n",
        "    # inputs = Input(6)    \n",
        "    # hidden = Dense(3)\n",
        "    # output = Dense(2, activation=\"softmax\")\n",
        "    \n",
        "    self.model = Sequential([\n",
        "                             Input(8, name=\"Input\"),\n",
        "                             Dense(3, name=\"Hidden\"),\n",
        "                             Dense(2, activation=\"softmax\", name=\"Output\")\n",
        "    ])\n",
        "    \n",
        "    self.x = K.constant([[0., 0.]])\n",
        "\n",
        "    # x = output\n",
        "\n",
        "    # self.model = keras.Model(inputs, output(inputs))\n",
        "\n",
        "  def sub_call(self, input):\n",
        "    print(\"sub call\")\n",
        "    print(f\"input = {input}\")\n",
        "    print(f\"self.x = {self.x}\")\n",
        "    # input = K.concatenate([tf.expand_dims(input, axis=0), self.x])\n",
        "    input = tf.expand_dims(input, axis=0)\n",
        "    concated = K.concatenate([input, self.x])\n",
        "    output = self.model.call(concated)\n",
        "    \n",
        "    self.x = output\n",
        "\n",
        "    return output\n",
        "\n",
        "  def call(self, inputs):\n",
        "\n",
        "    print(f\"inputs = {inputs}\")\n",
        "\n",
        "    inputs = inputs[0]\n",
        "\n",
        "    output = K.constant([[0., 0.]])\n",
        "    for input in inputs:\n",
        "      print(f\"input = {input}\")\n",
        "      output = self.sub_call(input)\n",
        "      print(f\"output = {output}\")\n",
        "\n",
        "    return output\n",
        "\n",
        "    # new_inputs_array = []\n",
        "    # for input in inputs:\n",
        "    #   new_inputs_array.append(K.concatenate([input, self.x]))\n",
        "    \n",
        "    # inputs = K.stack(new_inputs_array)"
      ],
      "metadata": {
        "id": "HFVBgUXQ2Cxr"
      },
      "execution_count": 43,
      "outputs": []
    },
    {
      "cell_type": "code",
      "source": [
        "class Elman(keras.Model):\n",
        "  def __init__(self):\n",
        "    super().__init__(self)\n",
        "\n",
        "    self.model = Sequential([\n",
        "                             Input(8, name=\"Input\"),\n",
        "                             Dense(3, name=\"Hidden\"),\n",
        "                             Dense(2, activation=\"softmax\", name=\"Output\")\n",
        "    ])\n",
        "\n",
        "  def sub_call(self, input, prev_input):\n",
        "    if len(prev_input)==1:\n",
        "      concated = K.concatenate([input, K.constant([0., 0.])])\n",
        "      concated = tf.expand_dims(concated, axis=0)\n",
        "    else:\n",
        "      prev_output = self.sub_call(prev_input[-1], prev_input[:-1])\n",
        "\n",
        "      input = tf.expand_dims(input, axis=0)\n",
        "      concated = K.concatenate([input, prev_output])\n",
        "    \n",
        "    output = self.model.call(concated)  \n",
        "    return output\n",
        "\n",
        "  def call(self, inputs):\n",
        "    inputs = inputs[0]\n",
        "\n",
        "    input = inputs[-1]\n",
        "    prev_input = inputs[:-1]\n",
        "\n",
        "    return self.sub_call(input, prev_input)"
      ],
      "metadata": {
        "id": "DZoskMd2Ho-T"
      },
      "execution_count": 67,
      "outputs": []
    },
    {
      "cell_type": "code",
      "source": [
        "elman = Elman()"
      ],
      "metadata": {
        "id": "4Kiayjo05iJ-"
      },
      "execution_count": 68,
      "outputs": []
    },
    {
      "cell_type": "code",
      "source": [
        "elman.compile(optimizer=\"adam\", loss=\"sparse_categorical_crossentropy\", metrics=[\"accuracy\"])"
      ],
      "metadata": {
        "id": "1U4_Y3QOO_LW"
      },
      "execution_count": 75,
      "outputs": []
    },
    {
      "cell_type": "code",
      "source": [
        "elman.fit(x=dataset_x, y=dataset_y, epochs=20, batch_size=1)"
      ],
      "metadata": {
        "colab": {
          "base_uri": "https://localhost:8080/"
        },
        "id": "moqezQ15PVHp",
        "outputId": "bfd93d8e-243c-4905-f179-ddf318ec9eb6"
      },
      "execution_count": 76,
      "outputs": [
        {
          "output_type": "stream",
          "name": "stdout",
          "text": [
            "Epoch 1/20\n",
            "inputs = Tensor(\"IteratorGetNext:0\", shape=(1, 15, 6), dtype=float32)\n",
            "sub call\n",
            "sub call\n",
            "sub call\n",
            "sub call\n",
            "sub call\n",
            "sub call\n",
            "sub call\n",
            "sub call\n",
            "sub call\n",
            "sub call\n",
            "sub call\n",
            "sub call\n",
            "sub call\n",
            "sub call\n",
            "inputs = Tensor(\"IteratorGetNext:0\", shape=(1, 15, 6), dtype=float32)\n",
            "sub call\n",
            "sub call\n",
            "sub call\n",
            "sub call\n",
            "sub call\n",
            "sub call\n",
            "sub call\n",
            "sub call\n",
            "sub call\n",
            "sub call\n",
            "sub call\n",
            "sub call\n",
            "sub call\n",
            "sub call\n",
            "463/463 [==============================] - 2s 2ms/step - loss: 0.5364 - accuracy: 0.7235\n",
            "Epoch 2/20\n",
            "463/463 [==============================] - 1s 2ms/step - loss: 0.4840 - accuracy: 0.7041\n",
            "Epoch 3/20\n",
            "463/463 [==============================] - 1s 2ms/step - loss: 0.5198 - accuracy: 0.6847\n",
            "Epoch 4/20\n",
            "463/463 [==============================] - 1s 2ms/step - loss: 0.4877 - accuracy: 0.7063\n",
            "Epoch 5/20\n",
            "463/463 [==============================] - 1s 2ms/step - loss: 0.4871 - accuracy: 0.7127\n",
            "Epoch 6/20\n",
            "463/463 [==============================] - 1s 2ms/step - loss: 0.5501 - accuracy: 0.7235\n",
            "Epoch 7/20\n",
            "463/463 [==============================] - 1s 2ms/step - loss: 0.4896 - accuracy: 0.7171\n",
            "Epoch 8/20\n",
            "463/463 [==============================] - 1s 2ms/step - loss: 0.4899 - accuracy: 0.7192\n",
            "Epoch 9/20\n",
            "463/463 [==============================] - 1s 2ms/step - loss: 0.7076 - accuracy: 0.6955\n",
            "Epoch 10/20\n",
            "463/463 [==============================] - 1s 2ms/step - loss: 0.4984 - accuracy: 0.7063\n",
            "Epoch 11/20\n",
            "463/463 [==============================] - 1s 2ms/step - loss: 0.4847 - accuracy: 0.7171\n",
            "Epoch 12/20\n",
            "463/463 [==============================] - 1s 2ms/step - loss: 0.5098 - accuracy: 0.7106\n",
            "Epoch 13/20\n",
            "463/463 [==============================] - 1s 2ms/step - loss: 0.5354 - accuracy: 0.7019\n",
            "Epoch 14/20\n",
            "463/463 [==============================] - 1s 2ms/step - loss: 0.4915 - accuracy: 0.7279\n",
            "Epoch 15/20\n",
            "463/463 [==============================] - 1s 2ms/step - loss: 0.5133 - accuracy: 0.7063\n",
            "Epoch 16/20\n",
            "463/463 [==============================] - 1s 2ms/step - loss: 0.4942 - accuracy: 0.7127\n",
            "Epoch 17/20\n",
            "463/463 [==============================] - 1s 2ms/step - loss: 0.4839 - accuracy: 0.7063\n",
            "Epoch 18/20\n",
            "463/463 [==============================] - 1s 2ms/step - loss: 0.5917 - accuracy: 0.6955\n",
            "Epoch 19/20\n",
            "463/463 [==============================] - 1s 2ms/step - loss: 0.5397 - accuracy: 0.7019\n",
            "Epoch 20/20\n",
            "463/463 [==============================] - 1s 2ms/step - loss: 0.5116 - accuracy: 0.6890\n"
          ]
        },
        {
          "output_type": "execute_result",
          "data": {
            "text/plain": [
              "<keras.callbacks.History at 0x7f5fdb530710>"
            ]
          },
          "metadata": {},
          "execution_count": 76
        }
      ]
    },
    {
      "cell_type": "code",
      "source": [
        "elman.summary()"
      ],
      "metadata": {
        "colab": {
          "base_uri": "https://localhost:8080/"
        },
        "id": "4QMDyMF-Kr65",
        "outputId": "fa83d54e-9256-4a42-d139-a0b6636ef880"
      },
      "execution_count": 72,
      "outputs": [
        {
          "output_type": "stream",
          "name": "stdout",
          "text": [
            "Model: \"elman_14\"\n",
            "_________________________________________________________________\n",
            " Layer (type)                Output Shape              Param #   \n",
            "=================================================================\n",
            " sequential_14 (Sequential)  (None, 2)                 35        \n",
            "                                                                 \n",
            "=================================================================\n",
            "Total params: 35\n",
            "Trainable params: 35\n",
            "Non-trainable params: 0\n",
            "_________________________________________________________________\n"
          ]
        }
      ]
    },
    {
      "cell_type": "code",
      "source": [
        "keras.utils.plot_model(elman.model, show_layer_activations=True, show_shapes=True, show_layer_names=True)"
      ],
      "metadata": {
        "colab": {
          "base_uri": "https://localhost:8080/",
          "height": 312
        },
        "id": "lxf5P_JGLuzf",
        "outputId": "647ff243-9896-4d91-a433-c208d9c48ce8"
      },
      "execution_count": 73,
      "outputs": [
        {
          "output_type": "execute_result",
          "data": {
            "text/plain": [
              "<IPython.core.display.Image object>"
            ],
            "image/png": "[encoded data removed]"
          },
          "metadata": {},
          "execution_count": 73
        }
      ]
    },
    {
      "cell_type": "code",
      "source": [
        ""
      ],
      "metadata": {
        "id": "NAhjOIWH9O8B"
      },
      "execution_count": null,
      "outputs": []
    }
  ]
}