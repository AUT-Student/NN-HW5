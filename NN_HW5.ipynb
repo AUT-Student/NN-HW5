{
  "cells": [
    {
      "cell_type": "markdown",
      "metadata": {
        "id": "view-in-github",
        "colab_type": "text"
      },
      "source": [
        "<a href=\"https://colab.research.google.com/github/AUT-Student/NN-HW5/blob/main/NN_HW5.ipynb\" target=\"_parent\"><img src=\"https://colab.research.google.com/assets/colab-badge.svg\" alt=\"Open In Colab\"/></a>"
      ]
    },
    {
      "cell_type": "markdown",
      "metadata": {
        "id": "PXi3EMtBmo2y"
      },
      "source": [
        "# Libraries"
      ]
    },
    {
      "cell_type": "code",
      "execution_count": 1,
      "metadata": {
        "id": "Gc0siDpwmJXX"
      },
      "outputs": [],
      "source": [
        "import numpy as np\n",
        "import matplotlib.pyplot as plt\n",
        "import pandas as pd\n",
        "from sklearn.utils import shuffle\n",
        "from sklearn.metrics import confusion_matrix\n",
        "\n",
        "import tensorflow as tf\n",
        "import tensorflow.keras as keras\n",
        "from keras.layers import Dense, Input, RNN\n",
        "import keras.backend as K\n",
        "from keras.models import Sequential\n",
        "from keras.callbacks import EarlyStopping"
      ]
    },
    {
      "cell_type": "markdown",
      "metadata": {
        "id": "Ru6GOwOPm0de"
      },
      "source": [
        "# Dataset"
      ]
    },
    {
      "cell_type": "code",
      "execution_count": 2,
      "metadata": {
        "colab": {
          "base_uri": "https://localhost:8080/"
        },
        "id": "9fZrU7N-cRwv",
        "outputId": "0a38708e-4c08-4038-c760-5a414569e4fb"
      },
      "outputs": [
        {
          "output_type": "stream",
          "name": "stdout",
          "text": [
            "Downloading...\n",
            "From: https://archive.ics.uci.edu/ml/machine-learning-databases/robotfailure-mld/lp1.data\n",
            "To: /content/lp1.data\n",
            "100% 27.3k/27.3k [00:00<00:00, 488kB/s]\n",
            "Downloading...\n",
            "From: https://archive.ics.uci.edu/ml/machine-learning-databases/robotfailure-mld/lp2.data\n",
            "To: /content/lp2.data\n",
            "100% 14.6k/14.6k [00:00<00:00, 257kB/s]\n",
            "Downloading...\n",
            "From: https://archive.ics.uci.edu/ml/machine-learning-databases/robotfailure-mld/lp3.data\n",
            "To: /content/lp3.data\n",
            "100% 14.5k/14.5k [00:00<00:00, 267kB/s]\n",
            "Downloading...\n",
            "From: https://archive.ics.uci.edu/ml/machine-learning-databases/robotfailure-mld/lp4.data\n",
            "To: /content/lp4.data\n",
            "100% 33.6k/33.6k [00:00<00:00, 570kB/s]\n",
            "Downloading...\n",
            "From: https://archive.ics.uci.edu/ml/machine-learning-databases/robotfailure-mld/lp5.data\n",
            "To: /content/lp5.data\n",
            "100% 49.2k/49.2k [00:00<00:00, 394kB/s]\n"
          ]
        }
      ],
      "source": [
        "!gdown https://archive.ics.uci.edu/ml/machine-learning-databases/robotfailure-mld/lp1.data\n",
        "!gdown https://archive.ics.uci.edu/ml/machine-learning-databases/robotfailure-mld/lp2.data\n",
        "!gdown https://archive.ics.uci.edu/ml/machine-learning-databases/robotfailure-mld/lp3.data\n",
        "!gdown https://archive.ics.uci.edu/ml/machine-learning-databases/robotfailure-mld/lp4.data\n",
        "!gdown https://archive.ics.uci.edu/ml/machine-learning-databases/robotfailure-mld/lp5.data"
      ]
    },
    {
      "cell_type": "code",
      "execution_count": 3,
      "metadata": {
        "id": "zk3z9sDjk1DB"
      },
      "outputs": [],
      "source": [
        "normal_label_datasets = [\"normal\",\"normal\",\"ok\",\"normal\",\"normal\"]\n",
        "\n",
        "dataset_x = []\n",
        "dataset_y = []\n",
        "for i in range(5):\n",
        "  normal_label = normal_label_datasets[i]\n",
        "  dataset_i = pd.read_csv(f\"/content/lp{i+1}.data\", header=None)\n",
        "  \n",
        "  new_label = None\n",
        "  new_data = None\n",
        "\n",
        "  for j, row in dataset_i.iterrows():\n",
        "    if j%16==0:\n",
        "      new_data = []\n",
        "      \n",
        "      if row[0] == normal_label:\n",
        "         new_label = 0\n",
        "      else:\n",
        "         new_label = 1\n",
        "\n",
        "    else:\n",
        "      new_data.append([float(item) for item in row[0].split()])\n",
        "\n",
        "      if j%16==15:\n",
        "        dataset_x.append(new_data)\n",
        "        dataset_y.append(new_label)"
      ]
    },
    {
      "cell_type": "code",
      "execution_count": 4,
      "metadata": {
        "id": "t-rxihHJ1bRd"
      },
      "outputs": [],
      "source": [
        "dataset_x, dataset_y = shuffle(dataset_x, dataset_y, random_state=0)"
      ]
    },
    {
      "cell_type": "code",
      "source": [
        "dataset_len = len(dataset_x)"
      ],
      "metadata": {
        "id": "PzmPI7WuNFOl"
      },
      "execution_count": 5,
      "outputs": []
    },
    {
      "cell_type": "code",
      "source": [
        "train_x = dataset_x[:int(0.7*dataset_len)]\n",
        "train_y = dataset_y[:int(0.7*dataset_len)]\n",
        "\n",
        "valid_x = dataset_x[int(0.7*dataset_len):int(0.8*dataset_len)]\n",
        "valid_y = dataset_y[int(0.7*dataset_len):int(0.8*dataset_len)]\n",
        "\n",
        "test_x = dataset_x[int(0.8*dataset_len):]\n",
        "test_y = dataset_y[int(0.8*dataset_len):]"
      ],
      "metadata": {
        "id": "_kEyj76QNRJL"
      },
      "execution_count": 6,
      "outputs": []
    },
    {
      "cell_type": "code",
      "execution_count": 7,
      "metadata": {
        "id": "NAhjOIWH9O8B",
        "colab": {
          "base_uri": "https://localhost:8080/"
        },
        "outputId": "96d0ca2f-73c2-4853-da11-dfbc40f65e05"
      },
      "outputs": [
        {
          "output_type": "execute_result",
          "data": {
            "text/plain": [
              "71.60493827160494"
            ]
          },
          "metadata": {},
          "execution_count": 7
        }
      ],
      "source": [
        "sum(train_y) * 100 / len(train_y)"
      ]
    },
    {
      "cell_type": "code",
      "source": [
        "sum(test_y) * 100 / len(test_y)"
      ],
      "metadata": {
        "colab": {
          "base_uri": "https://localhost:8080/"
        },
        "id": "zZmucDcURl4G",
        "outputId": "9031757f-833d-421c-8bcf-eefa4186876d"
      },
      "execution_count": 8,
      "outputs": [
        {
          "output_type": "execute_result",
          "data": {
            "text/plain": [
              "77.41935483870968"
            ]
          },
          "metadata": {},
          "execution_count": 8
        }
      ]
    },
    {
      "cell_type": "markdown",
      "source": [
        "# Elman"
      ],
      "metadata": {
        "id": "GBqq6rPr9eQK"
      }
    },
    {
      "cell_type": "code",
      "source": [
        "class ElmanCell(keras.layers.Layer):\n",
        "  # Refrences: https://github.com/keras-team/keras/blob/v2.9.0/keras/layers/rnn/simple_rnn.py#L242-L492\n",
        "\n",
        "  def __init__(self, units):\n",
        "      super().__init__()\n",
        "      self.units = units\n",
        "      self.state_size = units\n",
        "\n",
        "  def build(self, input_shape):\n",
        "      self.kernel = self.add_weight(shape=(input_shape[-1], self.units), initializer=\"glorot_uniform\", name=\"kernel\")\n",
        "      self.recurrent_kernel = self.add_weight(shape=(self.units, self.units), initializer=\"orthogonal\", name=\"recurrent_kernel\")\n",
        "      self.bias = self.add_weight(shape=(self.units), initializer=\"zeros\", name=\"bias\")\n",
        "      self.built = True\n",
        "\n",
        "  def call(self, inputs, states):\n",
        "      previous_hidden = states[0]\n",
        "      current_hidden = K.dot(inputs, self.kernel) + K.dot(previous_hidden, self.recurrent_kernel)\n",
        "      current_hidden = K.bias_add(current_hidden, self.bias)\n",
        "      current_hidden = K.sigmoid(current_hidden)\n",
        "      return current_hidden, [current_hidden]"
      ],
      "metadata": {
        "id": "hy9gB9Pi4yZE"
      },
      "execution_count": 9,
      "outputs": []
    },
    {
      "cell_type": "code",
      "source": [
        "class ElmanNetwork(keras.Model):\n",
        "  def __init__(self, cell_number):\n",
        "    super().__init__()\n",
        "    self.model = Sequential([\n",
        "                             Input((15,6,)),\n",
        "                             RNN(ElmanCell(cell_number)),\n",
        "                             Dense(2, activation=\"softmax\")\n",
        "                            ])\n",
        "  def call(self, inputs):\n",
        "    return self.model.call(inputs)"
      ],
      "metadata": {
        "id": "mT5C85LeONuV"
      },
      "execution_count": 10,
      "outputs": []
    },
    {
      "cell_type": "code",
      "source": [
        "elman = ElmanNetwork(64)"
      ],
      "metadata": {
        "id": "6Ua5-KUtTW77"
      },
      "execution_count": 27,
      "outputs": []
    },
    {
      "cell_type": "code",
      "source": [
        "es_callback = EarlyStopping(monitor=\"val_loss\", patience=10, restore_best_weights=True)"
      ],
      "metadata": {
        "id": "3x97gKzsQUuT"
      },
      "execution_count": null,
      "outputs": []
    },
    {
      "cell_type": "code",
      "source": [
        "elman.compile(optimizer=keras.optimizers.Adam(learning_rate=0.001), loss=\"sparse_categorical_crossentropy\", metrics=[\"accuracy\"])"
      ],
      "metadata": {
        "id": "4jCYgg2a7op6"
      },
      "execution_count": 28,
      "outputs": []
    },
    {
      "cell_type": "code",
      "source": [
        "elman.fit(x=train_x, y=train_y, epochs=100, batch_size=16, validation_data=(valid_x, valid_y))"
      ],
      "metadata": {
        "colab": {
          "base_uri": "https://localhost:8080/"
        },
        "id": "IW6cvny27_5X",
        "outputId": "3cab59f7-3ad1-444f-8330-08868e6f1915"
      },
      "execution_count": 29,
      "outputs": [
        {
          "output_type": "stream",
          "name": "stdout",
          "text": [
            "Epoch 1/100\n",
            "21/21 [==============================] - 3s 24ms/step - loss: 0.5801 - accuracy: 0.6574 - val_loss: 0.5586 - val_accuracy: 0.6304\n",
            "Epoch 2/100\n",
            "21/21 [==============================] - 0s 9ms/step - loss: 0.4517 - accuracy: 0.7346 - val_loss: 0.5308 - val_accuracy: 0.5435\n",
            "Epoch 3/100\n",
            "21/21 [==============================] - 0s 9ms/step - loss: 0.4174 - accuracy: 0.7778 - val_loss: 0.5127 - val_accuracy: 0.5652\n",
            "Epoch 4/100\n",
            "21/21 [==============================] - 0s 9ms/step - loss: 0.3940 - accuracy: 0.8086 - val_loss: 0.4926 - val_accuracy: 0.6522\n",
            "Epoch 5/100\n",
            "21/21 [==============================] - 0s 7ms/step - loss: 0.3751 - accuracy: 0.8117 - val_loss: 0.4884 - val_accuracy: 0.6957\n",
            "Epoch 6/100\n",
            "21/21 [==============================] - 0s 8ms/step - loss: 0.3576 - accuracy: 0.8272 - val_loss: 0.4740 - val_accuracy: 0.6957\n",
            "Epoch 7/100\n",
            "21/21 [==============================] - 0s 8ms/step - loss: 0.3467 - accuracy: 0.8364 - val_loss: 0.4655 - val_accuracy: 0.7174\n",
            "Epoch 8/100\n",
            "21/21 [==============================] - 0s 8ms/step - loss: 0.3368 - accuracy: 0.8302 - val_loss: 0.4617 - val_accuracy: 0.7174\n",
            "Epoch 9/100\n",
            "21/21 [==============================] - 0s 9ms/step - loss: 0.3281 - accuracy: 0.8302 - val_loss: 0.4519 - val_accuracy: 0.6739\n",
            "Epoch 10/100\n",
            "21/21 [==============================] - 0s 10ms/step - loss: 0.3196 - accuracy: 0.8333 - val_loss: 0.4527 - val_accuracy: 0.7391\n",
            "Epoch 11/100\n",
            "21/21 [==============================] - 0s 8ms/step - loss: 0.3143 - accuracy: 0.8395 - val_loss: 0.4498 - val_accuracy: 0.6957\n",
            "Epoch 12/100\n",
            "21/21 [==============================] - 0s 8ms/step - loss: 0.3057 - accuracy: 0.8549 - val_loss: 0.4423 - val_accuracy: 0.7609\n",
            "Epoch 13/100\n",
            "21/21 [==============================] - 0s 8ms/step - loss: 0.2991 - accuracy: 0.8704 - val_loss: 0.4336 - val_accuracy: 0.7609\n",
            "Epoch 14/100\n",
            "21/21 [==============================] - 0s 8ms/step - loss: 0.2936 - accuracy: 0.8642 - val_loss: 0.4224 - val_accuracy: 0.7609\n",
            "Epoch 15/100\n",
            "21/21 [==============================] - 0s 7ms/step - loss: 0.2874 - accuracy: 0.8549 - val_loss: 0.4184 - val_accuracy: 0.7609\n",
            "Epoch 16/100\n",
            "21/21 [==============================] - 0s 7ms/step - loss: 0.2791 - accuracy: 0.8765 - val_loss: 0.4139 - val_accuracy: 0.7609\n",
            "Epoch 17/100\n",
            "21/21 [==============================] - 0s 7ms/step - loss: 0.2817 - accuracy: 0.8858 - val_loss: 0.4086 - val_accuracy: 0.7609\n",
            "Epoch 18/100\n",
            "21/21 [==============================] - 0s 7ms/step - loss: 0.2717 - accuracy: 0.8827 - val_loss: 0.4152 - val_accuracy: 0.7391\n",
            "Epoch 19/100\n",
            "21/21 [==============================] - 0s 8ms/step - loss: 0.2657 - accuracy: 0.8920 - val_loss: 0.4145 - val_accuracy: 0.7826\n",
            "Epoch 20/100\n",
            "21/21 [==============================] - 0s 8ms/step - loss: 0.2598 - accuracy: 0.8889 - val_loss: 0.4033 - val_accuracy: 0.7609\n",
            "Epoch 21/100\n",
            "21/21 [==============================] - 0s 7ms/step - loss: 0.2553 - accuracy: 0.8858 - val_loss: 0.3974 - val_accuracy: 0.7609\n",
            "Epoch 22/100\n",
            "21/21 [==============================] - 0s 7ms/step - loss: 0.2522 - accuracy: 0.8981 - val_loss: 0.3949 - val_accuracy: 0.7391\n",
            "Epoch 23/100\n",
            "21/21 [==============================] - 0s 7ms/step - loss: 0.2469 - accuracy: 0.8858 - val_loss: 0.3956 - val_accuracy: 0.7609\n",
            "Epoch 24/100\n",
            "21/21 [==============================] - 0s 7ms/step - loss: 0.2433 - accuracy: 0.8951 - val_loss: 0.3901 - val_accuracy: 0.7826\n",
            "Epoch 25/100\n",
            "21/21 [==============================] - 0s 8ms/step - loss: 0.2407 - accuracy: 0.8858 - val_loss: 0.3848 - val_accuracy: 0.7609\n",
            "Epoch 26/100\n",
            "21/21 [==============================] - 0s 8ms/step - loss: 0.2363 - accuracy: 0.8951 - val_loss: 0.3908 - val_accuracy: 0.7826\n",
            "Epoch 27/100\n",
            "21/21 [==============================] - 0s 9ms/step - loss: 0.2330 - accuracy: 0.9105 - val_loss: 0.3825 - val_accuracy: 0.7826\n",
            "Epoch 28/100\n",
            "21/21 [==============================] - 0s 9ms/step - loss: 0.2302 - accuracy: 0.9043 - val_loss: 0.3805 - val_accuracy: 0.8043\n",
            "Epoch 29/100\n",
            "21/21 [==============================] - 0s 8ms/step - loss: 0.2292 - accuracy: 0.9043 - val_loss: 0.3816 - val_accuracy: 0.7826\n",
            "Epoch 30/100\n",
            "21/21 [==============================] - 0s 7ms/step - loss: 0.2234 - accuracy: 0.8981 - val_loss: 0.3758 - val_accuracy: 0.7609\n",
            "Epoch 31/100\n",
            "21/21 [==============================] - 0s 8ms/step - loss: 0.2239 - accuracy: 0.9012 - val_loss: 0.3722 - val_accuracy: 0.8043\n",
            "Epoch 32/100\n",
            "21/21 [==============================] - 0s 7ms/step - loss: 0.2154 - accuracy: 0.9043 - val_loss: 0.3736 - val_accuracy: 0.7826\n",
            "Epoch 33/100\n",
            "21/21 [==============================] - 0s 8ms/step - loss: 0.2156 - accuracy: 0.9105 - val_loss: 0.3639 - val_accuracy: 0.7826\n",
            "Epoch 34/100\n",
            "21/21 [==============================] - 0s 7ms/step - loss: 0.2092 - accuracy: 0.9167 - val_loss: 0.3637 - val_accuracy: 0.7826\n",
            "Epoch 35/100\n",
            "21/21 [==============================] - 0s 6ms/step - loss: 0.2068 - accuracy: 0.9198 - val_loss: 0.3449 - val_accuracy: 0.7826\n",
            "Epoch 36/100\n",
            "21/21 [==============================] - 0s 8ms/step - loss: 0.2054 - accuracy: 0.9136 - val_loss: 0.3190 - val_accuracy: 0.8043\n",
            "Epoch 37/100\n",
            "21/21 [==============================] - 0s 6ms/step - loss: 0.2016 - accuracy: 0.9105 - val_loss: 0.3436 - val_accuracy: 0.7826\n",
            "Epoch 38/100\n",
            "21/21 [==============================] - 0s 7ms/step - loss: 0.1961 - accuracy: 0.9198 - val_loss: 0.2955 - val_accuracy: 0.8696\n",
            "Epoch 39/100\n",
            "21/21 [==============================] - 0s 7ms/step - loss: 0.1934 - accuracy: 0.9198 - val_loss: 0.3215 - val_accuracy: 0.7826\n",
            "Epoch 40/100\n",
            "21/21 [==============================] - 0s 9ms/step - loss: 0.1931 - accuracy: 0.9136 - val_loss: 0.2942 - val_accuracy: 0.8261\n",
            "Epoch 41/100\n",
            "21/21 [==============================] - 0s 8ms/step - loss: 0.1883 - accuracy: 0.9198 - val_loss: 0.2903 - val_accuracy: 0.8696\n",
            "Epoch 42/100\n",
            "21/21 [==============================] - 0s 8ms/step - loss: 0.1886 - accuracy: 0.9167 - val_loss: 0.2836 - val_accuracy: 0.8261\n",
            "Epoch 43/100\n",
            "21/21 [==============================] - 0s 8ms/step - loss: 0.1845 - accuracy: 0.9290 - val_loss: 0.2619 - val_accuracy: 0.8696\n",
            "Epoch 44/100\n",
            "21/21 [==============================] - 0s 8ms/step - loss: 0.1795 - accuracy: 0.9198 - val_loss: 0.2650 - val_accuracy: 0.8478\n",
            "Epoch 45/100\n",
            "21/21 [==============================] - 0s 8ms/step - loss: 0.1801 - accuracy: 0.9259 - val_loss: 0.2683 - val_accuracy: 0.8696\n",
            "Epoch 46/100\n",
            "21/21 [==============================] - 0s 8ms/step - loss: 0.1769 - accuracy: 0.9290 - val_loss: 0.2591 - val_accuracy: 0.8478\n",
            "Epoch 47/100\n",
            "21/21 [==============================] - 0s 8ms/step - loss: 0.1758 - accuracy: 0.9321 - val_loss: 0.2642 - val_accuracy: 0.8696\n",
            "Epoch 48/100\n",
            "21/21 [==============================] - 0s 9ms/step - loss: 0.1743 - accuracy: 0.9228 - val_loss: 0.2640 - val_accuracy: 0.8478\n",
            "Epoch 49/100\n",
            "21/21 [==============================] - 0s 9ms/step - loss: 0.1721 - accuracy: 0.9228 - val_loss: 0.2410 - val_accuracy: 0.8696\n",
            "Epoch 50/100\n",
            "21/21 [==============================] - 0s 10ms/step - loss: 0.1660 - accuracy: 0.9290 - val_loss: 0.2394 - val_accuracy: 0.8696\n",
            "Epoch 51/100\n",
            "21/21 [==============================] - 0s 9ms/step - loss: 0.1664 - accuracy: 0.9383 - val_loss: 0.2480 - val_accuracy: 0.8696\n",
            "Epoch 52/100\n",
            "21/21 [==============================] - 0s 10ms/step - loss: 0.1634 - accuracy: 0.9383 - val_loss: 0.2368 - val_accuracy: 0.8913\n",
            "Epoch 53/100\n",
            "21/21 [==============================] - 0s 10ms/step - loss: 0.1648 - accuracy: 0.9321 - val_loss: 0.2255 - val_accuracy: 0.8696\n",
            "Epoch 54/100\n",
            "21/21 [==============================] - 0s 10ms/step - loss: 0.1595 - accuracy: 0.9383 - val_loss: 0.2213 - val_accuracy: 0.8913\n",
            "Epoch 55/100\n",
            "21/21 [==============================] - 0s 10ms/step - loss: 0.1598 - accuracy: 0.9259 - val_loss: 0.2067 - val_accuracy: 0.9130\n",
            "Epoch 56/100\n",
            "21/21 [==============================] - 0s 9ms/step - loss: 0.1630 - accuracy: 0.9414 - val_loss: 0.2370 - val_accuracy: 0.8913\n",
            "Epoch 57/100\n",
            "21/21 [==============================] - 0s 9ms/step - loss: 0.1584 - accuracy: 0.9290 - val_loss: 0.2146 - val_accuracy: 0.8913\n",
            "Epoch 58/100\n",
            "21/21 [==============================] - 0s 9ms/step - loss: 0.1497 - accuracy: 0.9352 - val_loss: 0.1907 - val_accuracy: 0.9130\n",
            "Epoch 59/100\n",
            "21/21 [==============================] - 0s 11ms/step - loss: 0.1450 - accuracy: 0.9568 - val_loss: 0.2013 - val_accuracy: 0.8913\n",
            "Epoch 60/100\n",
            "21/21 [==============================] - 0s 11ms/step - loss: 0.1456 - accuracy: 0.9506 - val_loss: 0.1882 - val_accuracy: 0.9130\n",
            "Epoch 61/100\n",
            "21/21 [==============================] - 0s 10ms/step - loss: 0.1395 - accuracy: 0.9475 - val_loss: 0.2052 - val_accuracy: 0.8913\n",
            "Epoch 62/100\n",
            "21/21 [==============================] - 0s 11ms/step - loss: 0.1628 - accuracy: 0.9321 - val_loss: 0.2759 - val_accuracy: 0.8478\n",
            "Epoch 63/100\n",
            "21/21 [==============================] - 0s 11ms/step - loss: 0.1586 - accuracy: 0.9290 - val_loss: 0.2569 - val_accuracy: 0.8478\n",
            "Epoch 64/100\n",
            "21/21 [==============================] - 0s 12ms/step - loss: 0.1523 - accuracy: 0.9321 - val_loss: 0.2227 - val_accuracy: 0.8696\n",
            "Epoch 65/100\n",
            "21/21 [==============================] - 0s 10ms/step - loss: 0.1476 - accuracy: 0.9444 - val_loss: 0.1925 - val_accuracy: 0.8913\n",
            "Epoch 66/100\n",
            "21/21 [==============================] - 0s 11ms/step - loss: 0.1375 - accuracy: 0.9475 - val_loss: 0.1810 - val_accuracy: 0.9130\n",
            "Epoch 67/100\n",
            "21/21 [==============================] - 0s 11ms/step - loss: 0.1308 - accuracy: 0.9660 - val_loss: 0.1924 - val_accuracy: 0.8913\n",
            "Epoch 68/100\n",
            "21/21 [==============================] - 0s 10ms/step - loss: 0.1590 - accuracy: 0.9506 - val_loss: 0.1751 - val_accuracy: 0.9130\n",
            "Epoch 69/100\n",
            "21/21 [==============================] - 0s 10ms/step - loss: 0.1296 - accuracy: 0.9568 - val_loss: 0.1849 - val_accuracy: 0.9130\n",
            "Epoch 70/100\n",
            "21/21 [==============================] - 0s 9ms/step - loss: 0.1306 - accuracy: 0.9568 - val_loss: 0.1875 - val_accuracy: 0.9130\n",
            "Epoch 71/100\n",
            "21/21 [==============================] - 0s 9ms/step - loss: 0.1973 - accuracy: 0.9383 - val_loss: 0.5205 - val_accuracy: 0.7826\n",
            "Epoch 72/100\n",
            "21/21 [==============================] - 0s 9ms/step - loss: 0.2054 - accuracy: 0.9259 - val_loss: 0.4813 - val_accuracy: 0.7826\n",
            "Epoch 73/100\n",
            "21/21 [==============================] - 0s 9ms/step - loss: 0.1860 - accuracy: 0.9259 - val_loss: 0.4498 - val_accuracy: 0.8043\n",
            "Epoch 74/100\n",
            "21/21 [==============================] - 0s 9ms/step - loss: 0.1701 - accuracy: 0.9321 - val_loss: 0.2394 - val_accuracy: 0.8478\n",
            "Epoch 75/100\n",
            "21/21 [==============================] - 0s 9ms/step - loss: 0.1579 - accuracy: 0.9198 - val_loss: 0.2061 - val_accuracy: 0.8696\n",
            "Epoch 76/100\n",
            "21/21 [==============================] - 0s 8ms/step - loss: 0.1336 - accuracy: 0.9506 - val_loss: 0.1763 - val_accuracy: 0.9130\n",
            "Epoch 77/100\n",
            "21/21 [==============================] - 0s 8ms/step - loss: 0.1263 - accuracy: 0.9599 - val_loss: 0.1777 - val_accuracy: 0.9130\n",
            "Epoch 78/100\n",
            "21/21 [==============================] - 0s 7ms/step - loss: 0.1240 - accuracy: 0.9660 - val_loss: 0.1757 - val_accuracy: 0.9130\n",
            "Epoch 79/100\n",
            "21/21 [==============================] - 0s 7ms/step - loss: 0.1228 - accuracy: 0.9568 - val_loss: 0.1689 - val_accuracy: 0.9130\n",
            "Epoch 80/100\n",
            "21/21 [==============================] - 0s 7ms/step - loss: 0.1253 - accuracy: 0.9506 - val_loss: 0.1714 - val_accuracy: 0.9130\n",
            "Epoch 81/100\n",
            "21/21 [==============================] - 0s 8ms/step - loss: 0.1239 - accuracy: 0.9537 - val_loss: 0.1762 - val_accuracy: 0.9130\n",
            "Epoch 82/100\n",
            "21/21 [==============================] - 0s 7ms/step - loss: 0.1203 - accuracy: 0.9599 - val_loss: 0.1600 - val_accuracy: 0.9130\n",
            "Epoch 83/100\n",
            "21/21 [==============================] - 0s 7ms/step - loss: 0.1199 - accuracy: 0.9660 - val_loss: 0.1722 - val_accuracy: 0.9130\n",
            "Epoch 84/100\n",
            "21/21 [==============================] - 0s 8ms/step - loss: 0.1206 - accuracy: 0.9414 - val_loss: 0.1541 - val_accuracy: 0.9130\n",
            "Epoch 85/100\n",
            "21/21 [==============================] - 0s 8ms/step - loss: 0.1172 - accuracy: 0.9630 - val_loss: 0.1726 - val_accuracy: 0.9130\n",
            "Epoch 86/100\n",
            "21/21 [==============================] - 0s 7ms/step - loss: 0.1150 - accuracy: 0.9537 - val_loss: 0.1677 - val_accuracy: 0.9130\n",
            "Epoch 87/100\n",
            "21/21 [==============================] - 0s 8ms/step - loss: 0.1136 - accuracy: 0.9660 - val_loss: 0.1682 - val_accuracy: 0.9130\n",
            "Epoch 88/100\n",
            "21/21 [==============================] - 0s 8ms/step - loss: 0.1138 - accuracy: 0.9537 - val_loss: 0.1719 - val_accuracy: 0.9130\n",
            "Epoch 89/100\n",
            "21/21 [==============================] - 0s 8ms/step - loss: 0.1148 - accuracy: 0.9630 - val_loss: 0.1708 - val_accuracy: 0.9130\n",
            "Epoch 90/100\n",
            "21/21 [==============================] - 0s 9ms/step - loss: 0.1123 - accuracy: 0.9537 - val_loss: 0.1654 - val_accuracy: 0.9130\n",
            "Epoch 91/100\n",
            "21/21 [==============================] - 0s 9ms/step - loss: 0.1120 - accuracy: 0.9630 - val_loss: 0.1691 - val_accuracy: 0.9130\n",
            "Epoch 92/100\n",
            "21/21 [==============================] - 0s 9ms/step - loss: 0.1095 - accuracy: 0.9630 - val_loss: 0.1625 - val_accuracy: 0.9130\n",
            "Epoch 93/100\n",
            "21/21 [==============================] - 0s 9ms/step - loss: 0.1101 - accuracy: 0.9599 - val_loss: 0.1742 - val_accuracy: 0.9130\n",
            "Epoch 94/100\n",
            "21/21 [==============================] - 0s 9ms/step - loss: 0.1222 - accuracy: 0.9537 - val_loss: 0.1594 - val_accuracy: 0.9130\n",
            "Epoch 95/100\n",
            "21/21 [==============================] - 0s 9ms/step - loss: 0.1117 - accuracy: 0.9568 - val_loss: 0.1852 - val_accuracy: 0.8913\n",
            "Epoch 96/100\n",
            "21/21 [==============================] - 0s 9ms/step - loss: 0.1313 - accuracy: 0.9475 - val_loss: 0.2023 - val_accuracy: 0.8913\n",
            "Epoch 97/100\n",
            "21/21 [==============================] - 0s 8ms/step - loss: 0.1211 - accuracy: 0.9568 - val_loss: 0.1715 - val_accuracy: 0.9130\n",
            "Epoch 98/100\n",
            "21/21 [==============================] - 0s 8ms/step - loss: 0.1092 - accuracy: 0.9660 - val_loss: 0.1661 - val_accuracy: 0.9130\n",
            "Epoch 99/100\n",
            "21/21 [==============================] - 0s 9ms/step - loss: 0.1057 - accuracy: 0.9722 - val_loss: 0.1642 - val_accuracy: 0.9130\n",
            "Epoch 100/100\n",
            "21/21 [==============================] - 0s 8ms/step - loss: 0.1035 - accuracy: 0.9660 - val_loss: 0.1615 - val_accuracy: 0.9130\n"
          ]
        },
        {
          "output_type": "execute_result",
          "data": {
            "text/plain": [
              "<keras.callbacks.History at 0x7f042db984d0>"
            ]
          },
          "metadata": {},
          "execution_count": 29
        }
      ]
    },
    {
      "cell_type": "code",
      "source": [
        "elman.evaluate(x=train_x, y=train_y)\n",
        "elman.evaluate(x=valid_x, y=valid_y)\n",
        "elman.evaluate(x=test_x, y=test_y)"
      ],
      "metadata": {
        "colab": {
          "base_uri": "https://localhost:8080/"
        },
        "id": "m_zVmk_xOKJI",
        "outputId": "63b459b6-9569-4b95-c535-b498cfab5520"
      },
      "execution_count": 30,
      "outputs": [
        {
          "output_type": "stream",
          "name": "stdout",
          "text": [
            "11/11 [==============================] - 0s 3ms/step - loss: 0.1002 - accuracy: 0.9660\n",
            "2/2 [==============================] - 0s 8ms/step - loss: 0.1615 - accuracy: 0.9130\n",
            "3/3 [==============================] - 0s 6ms/step - loss: 0.3403 - accuracy: 0.9355\n"
          ]
        },
        {
          "output_type": "execute_result",
          "data": {
            "text/plain": [
              "[0.34029626846313477, 0.9354838728904724]"
            ]
          },
          "metadata": {},
          "execution_count": 30
        }
      ]
    },
    {
      "cell_type": "markdown",
      "source": [
        "# Jordan"
      ],
      "metadata": {
        "id": "DEN92VXcVWrF"
      }
    },
    {
      "cell_type": "code",
      "source": [
        "class JordanCell(keras.layers.Layer):\n",
        "  # Refrences: https://github.com/keras-team/keras/blob/v2.9.0/keras/layers/rnn/simple_rnn.py#L242-L492\n",
        "\n",
        "  def __init__(self, units):\n",
        "      super().__init__()\n",
        "      self.units = units\n",
        "      self.state_size = 2\n",
        "\n",
        "  def build(self, input_shape):\n",
        "      self.kernel = self.add_weight(shape=(input_shape[-1], self.units), initializer=\"glorot_uniform\", name=\"kernel\")\n",
        "      self.recurrent_kernel = self.add_weight(shape=(2, self.units), initializer=\"orthogonal\", name=\"recurrent_kernel\")\n",
        "      self.bias = self.add_weight(shape=(self.units), initializer=\"zeros\", name=\"bias\")\n",
        "      \n",
        "      self.output_kernel = self.add_weight(shape=(self.units, 2), name=\"output_kernel\")\n",
        "      self.output_bias = self.add_weight(shape=(2,), initializer=\"zeros\", name=\"output_bias\")\n",
        "\n",
        "      self.built = True\n",
        "\n",
        "  def call(self, inputs, states):\n",
        "      previous_output = states[0]\n",
        "      current_hidden = K.dot(inputs, self.kernel) + K.dot(previous_output, self.recurrent_kernel)\n",
        "      current_hidden = K.bias_add(current_hidden, self.bias)\n",
        "      current_hidden = K.sigmoid(current_hidden)\n",
        "\n",
        "      current_output = K.dot(current_hidden, self.output_kernel)\n",
        "      current_output = K.bias_add(current_output, self.output_bias)\n",
        "      current_output = K.softmax(current_output)\n",
        "\n",
        "      return current_output, [current_output]"
      ],
      "metadata": {
        "id": "erlnNmspVY5_"
      },
      "execution_count": 34,
      "outputs": []
    },
    {
      "cell_type": "code",
      "source": [
        "class JordanNetwork(keras.Model):\n",
        "  def __init__(self, cell_number):\n",
        "    super().__init__()\n",
        "    self.model = Sequential([\n",
        "                             Input((15,6,)),\n",
        "                             RNN(JordanCell(cell_number)),\n",
        "                             Dense(2, activation=\"softmax\")\n",
        "                            ])\n",
        "  def call(self, inputs):\n",
        "    return self.model.call(inputs)"
      ],
      "metadata": {
        "id": "EYP8m-C7WDkG"
      },
      "execution_count": 35,
      "outputs": []
    },
    {
      "cell_type": "code",
      "source": [
        "jordan = JordanNetwork(64)"
      ],
      "metadata": {
        "id": "Wxdx8niEWrx1"
      },
      "execution_count": 36,
      "outputs": []
    },
    {
      "cell_type": "code",
      "source": [
        "jordan.compile(optimizer=keras.optimizers.Adam(learning_rate=0.001), loss=\"sparse_categorical_crossentropy\", metrics=[\"accuracy\"])"
      ],
      "metadata": {
        "id": "U4XKFGHdXNQJ"
      },
      "execution_count": 38,
      "outputs": []
    },
    {
      "cell_type": "code",
      "source": [
        "jordan.fit(x=train_x, y=train_y, epochs=100, batch_size=16, validation_data=(valid_x, valid_y))"
      ],
      "metadata": {
        "colab": {
          "base_uri": "https://localhost:8080/"
        },
        "id": "YdkSOzumXTn8",
        "outputId": "2e9a1c78-8663-438c-d939-e2d6b1296aaa"
      },
      "execution_count": 39,
      "outputs": [
        {
          "output_type": "stream",
          "name": "stdout",
          "text": [
            "Epoch 1/100\n",
            "21/21 [==============================] - 3s 34ms/step - loss: 0.8110 - accuracy: 0.3364 - val_loss: 0.7384 - val_accuracy: 0.4130\n",
            "Epoch 2/100\n",
            "21/21 [==============================] - 0s 9ms/step - loss: 0.6933 - accuracy: 0.5957 - val_loss: 0.6851 - val_accuracy: 0.6522\n",
            "Epoch 3/100\n",
            "21/21 [==============================] - 0s 12ms/step - loss: 0.6569 - accuracy: 0.7315 - val_loss: 0.6635 - val_accuracy: 0.7174\n",
            "Epoch 4/100\n",
            "21/21 [==============================] - 0s 9ms/step - loss: 0.6362 - accuracy: 0.7191 - val_loss: 0.6525 - val_accuracy: 0.5870\n",
            "Epoch 5/100\n",
            "21/21 [==============================] - 0s 10ms/step - loss: 0.6232 - accuracy: 0.7315 - val_loss: 0.6428 - val_accuracy: 0.6304\n",
            "Epoch 6/100\n",
            "21/21 [==============================] - 0s 10ms/step - loss: 0.6117 - accuracy: 0.7346 - val_loss: 0.6334 - val_accuracy: 0.7174\n",
            "Epoch 7/100\n",
            "21/21 [==============================] - 0s 10ms/step - loss: 0.6001 - accuracy: 0.7685 - val_loss: 0.6239 - val_accuracy: 0.7391\n",
            "Epoch 8/100\n",
            "21/21 [==============================] - 0s 9ms/step - loss: 0.5874 - accuracy: 0.7685 - val_loss: 0.6157 - val_accuracy: 0.7391\n",
            "Epoch 9/100\n",
            "21/21 [==============================] - 0s 9ms/step - loss: 0.5745 - accuracy: 0.7840 - val_loss: 0.6080 - val_accuracy: 0.7174\n",
            "Epoch 10/100\n",
            "21/21 [==============================] - 0s 9ms/step - loss: 0.5613 - accuracy: 0.7963 - val_loss: 0.6016 - val_accuracy: 0.7174\n",
            "Epoch 11/100\n",
            "21/21 [==============================] - 0s 10ms/step - loss: 0.5475 - accuracy: 0.8148 - val_loss: 0.5961 - val_accuracy: 0.6957\n",
            "Epoch 12/100\n",
            "21/21 [==============================] - 0s 9ms/step - loss: 0.5366 - accuracy: 0.8148 - val_loss: 0.5902 - val_accuracy: 0.6957\n",
            "Epoch 13/100\n",
            "21/21 [==============================] - 0s 8ms/step - loss: 0.5259 - accuracy: 0.8210 - val_loss: 0.5854 - val_accuracy: 0.6957\n",
            "Epoch 14/100\n",
            "21/21 [==============================] - 0s 9ms/step - loss: 0.5149 - accuracy: 0.8210 - val_loss: 0.5792 - val_accuracy: 0.6957\n",
            "Epoch 15/100\n",
            "21/21 [==============================] - 0s 8ms/step - loss: 0.5057 - accuracy: 0.8148 - val_loss: 0.5767 - val_accuracy: 0.6739\n",
            "Epoch 16/100\n",
            "21/21 [==============================] - 0s 9ms/step - loss: 0.4972 - accuracy: 0.8117 - val_loss: 0.5746 - val_accuracy: 0.6739\n",
            "Epoch 17/100\n",
            "21/21 [==============================] - 0s 8ms/step - loss: 0.4883 - accuracy: 0.8179 - val_loss: 0.5716 - val_accuracy: 0.6739\n",
            "Epoch 18/100\n",
            "21/21 [==============================] - 0s 9ms/step - loss: 0.4801 - accuracy: 0.8272 - val_loss: 0.5679 - val_accuracy: 0.6739\n",
            "Epoch 19/100\n",
            "21/21 [==============================] - 0s 8ms/step - loss: 0.4716 - accuracy: 0.8241 - val_loss: 0.5650 - val_accuracy: 0.6739\n",
            "Epoch 20/100\n",
            "21/21 [==============================] - 0s 8ms/step - loss: 0.4650 - accuracy: 0.8241 - val_loss: 0.5642 - val_accuracy: 0.6739\n",
            "Epoch 21/100\n",
            "21/21 [==============================] - 0s 8ms/step - loss: 0.4555 - accuracy: 0.8395 - val_loss: 0.5631 - val_accuracy: 0.6739\n",
            "Epoch 22/100\n",
            "21/21 [==============================] - 0s 10ms/step - loss: 0.4495 - accuracy: 0.8148 - val_loss: 0.5612 - val_accuracy: 0.6739\n",
            "Epoch 23/100\n",
            "21/21 [==============================] - 0s 9ms/step - loss: 0.4434 - accuracy: 0.8488 - val_loss: 0.5582 - val_accuracy: 0.6739\n",
            "Epoch 24/100\n",
            "21/21 [==============================] - 0s 8ms/step - loss: 0.4358 - accuracy: 0.8241 - val_loss: 0.5552 - val_accuracy: 0.6957\n",
            "Epoch 25/100\n",
            "21/21 [==============================] - 0s 8ms/step - loss: 0.4298 - accuracy: 0.8241 - val_loss: 0.5480 - val_accuracy: 0.6739\n",
            "Epoch 26/100\n",
            "21/21 [==============================] - 0s 8ms/step - loss: 0.4226 - accuracy: 0.8395 - val_loss: 0.5489 - val_accuracy: 0.6739\n",
            "Epoch 27/100\n",
            "21/21 [==============================] - 0s 8ms/step - loss: 0.4168 - accuracy: 0.8333 - val_loss: 0.5499 - val_accuracy: 0.6739\n",
            "Epoch 28/100\n",
            "21/21 [==============================] - 0s 9ms/step - loss: 0.4118 - accuracy: 0.8488 - val_loss: 0.5492 - val_accuracy: 0.6739\n",
            "Epoch 29/100\n",
            "21/21 [==============================] - 0s 9ms/step - loss: 0.4089 - accuracy: 0.8302 - val_loss: 0.5409 - val_accuracy: 0.6739\n",
            "Epoch 30/100\n",
            "21/21 [==============================] - 0s 7ms/step - loss: 0.3992 - accuracy: 0.8642 - val_loss: 0.5438 - val_accuracy: 0.6739\n",
            "Epoch 31/100\n",
            "21/21 [==============================] - 0s 8ms/step - loss: 0.3954 - accuracy: 0.8426 - val_loss: 0.5427 - val_accuracy: 0.6739\n",
            "Epoch 32/100\n",
            "21/21 [==============================] - 0s 7ms/step - loss: 0.3883 - accuracy: 0.8488 - val_loss: 0.5287 - val_accuracy: 0.6739\n",
            "Epoch 33/100\n",
            "21/21 [==============================] - 0s 8ms/step - loss: 0.3838 - accuracy: 0.8765 - val_loss: 0.5288 - val_accuracy: 0.7174\n",
            "Epoch 34/100\n",
            "21/21 [==============================] - 0s 9ms/step - loss: 0.3758 - accuracy: 0.8580 - val_loss: 0.5215 - val_accuracy: 0.6957\n",
            "Epoch 35/100\n",
            "21/21 [==============================] - 0s 7ms/step - loss: 0.3684 - accuracy: 0.8611 - val_loss: 0.5200 - val_accuracy: 0.7391\n",
            "Epoch 36/100\n",
            "21/21 [==============================] - 0s 8ms/step - loss: 0.3633 - accuracy: 0.8642 - val_loss: 0.5211 - val_accuracy: 0.7391\n",
            "Epoch 37/100\n",
            "21/21 [==============================] - 0s 9ms/step - loss: 0.3587 - accuracy: 0.8735 - val_loss: 0.5073 - val_accuracy: 0.7609\n",
            "Epoch 38/100\n",
            "21/21 [==============================] - 0s 7ms/step - loss: 0.3533 - accuracy: 0.8704 - val_loss: 0.5116 - val_accuracy: 0.7391\n",
            "Epoch 39/100\n",
            "21/21 [==============================] - 0s 8ms/step - loss: 0.3490 - accuracy: 0.8827 - val_loss: 0.5168 - val_accuracy: 0.7391\n",
            "Epoch 40/100\n",
            "21/21 [==============================] - 0s 7ms/step - loss: 0.3458 - accuracy: 0.8735 - val_loss: 0.5097 - val_accuracy: 0.7391\n",
            "Epoch 41/100\n",
            "21/21 [==============================] - 0s 8ms/step - loss: 0.3384 - accuracy: 0.8796 - val_loss: 0.5158 - val_accuracy: 0.7391\n",
            "Epoch 42/100\n",
            "21/21 [==============================] - 0s 8ms/step - loss: 0.3332 - accuracy: 0.8765 - val_loss: 0.5099 - val_accuracy: 0.6957\n",
            "Epoch 43/100\n",
            "21/21 [==============================] - 0s 9ms/step - loss: 0.3279 - accuracy: 0.8951 - val_loss: 0.5054 - val_accuracy: 0.7609\n",
            "Epoch 44/100\n",
            "21/21 [==============================] - 0s 8ms/step - loss: 0.3234 - accuracy: 0.8920 - val_loss: 0.5040 - val_accuracy: 0.7609\n",
            "Epoch 45/100\n",
            "21/21 [==============================] - 0s 8ms/step - loss: 0.3201 - accuracy: 0.8920 - val_loss: 0.4940 - val_accuracy: 0.7826\n",
            "Epoch 46/100\n",
            "21/21 [==============================] - 0s 8ms/step - loss: 0.3195 - accuracy: 0.8981 - val_loss: 0.5090 - val_accuracy: 0.7609\n",
            "Epoch 47/100\n",
            "21/21 [==============================] - 0s 8ms/step - loss: 0.3136 - accuracy: 0.8858 - val_loss: 0.5000 - val_accuracy: 0.7609\n",
            "Epoch 48/100\n",
            "21/21 [==============================] - 0s 9ms/step - loss: 0.3093 - accuracy: 0.9043 - val_loss: 0.5112 - val_accuracy: 0.7174\n",
            "Epoch 49/100\n",
            "21/21 [==============================] - 0s 8ms/step - loss: 0.3032 - accuracy: 0.9043 - val_loss: 0.4923 - val_accuracy: 0.7826\n",
            "Epoch 50/100\n",
            "21/21 [==============================] - 0s 7ms/step - loss: 0.2995 - accuracy: 0.8981 - val_loss: 0.4915 - val_accuracy: 0.7826\n",
            "Epoch 51/100\n",
            "21/21 [==============================] - 0s 8ms/step - loss: 0.2951 - accuracy: 0.8981 - val_loss: 0.4893 - val_accuracy: 0.7609\n",
            "Epoch 52/100\n",
            "21/21 [==============================] - 0s 8ms/step - loss: 0.2920 - accuracy: 0.9043 - val_loss: 0.4853 - val_accuracy: 0.7609\n",
            "Epoch 53/100\n",
            "21/21 [==============================] - 0s 8ms/step - loss: 0.2875 - accuracy: 0.9012 - val_loss: 0.4828 - val_accuracy: 0.7609\n",
            "Epoch 54/100\n",
            "21/21 [==============================] - 0s 9ms/step - loss: 0.2831 - accuracy: 0.9074 - val_loss: 0.4926 - val_accuracy: 0.7826\n",
            "Epoch 55/100\n",
            "21/21 [==============================] - 0s 7ms/step - loss: 0.2850 - accuracy: 0.8981 - val_loss: 0.4651 - val_accuracy: 0.7391\n",
            "Epoch 56/100\n",
            "21/21 [==============================] - 0s 10ms/step - loss: 0.2773 - accuracy: 0.9136 - val_loss: 0.4784 - val_accuracy: 0.7826\n",
            "Epoch 57/100\n",
            "21/21 [==============================] - 0s 9ms/step - loss: 0.2767 - accuracy: 0.8981 - val_loss: 0.4802 - val_accuracy: 0.7609\n",
            "Epoch 58/100\n",
            "21/21 [==============================] - 0s 9ms/step - loss: 0.2724 - accuracy: 0.9012 - val_loss: 0.4766 - val_accuracy: 0.7609\n",
            "Epoch 59/100\n",
            "21/21 [==============================] - 0s 9ms/step - loss: 0.2717 - accuracy: 0.9043 - val_loss: 0.4698 - val_accuracy: 0.7609\n",
            "Epoch 60/100\n",
            "21/21 [==============================] - 0s 8ms/step - loss: 0.2722 - accuracy: 0.9074 - val_loss: 0.4582 - val_accuracy: 0.7391\n",
            "Epoch 61/100\n",
            "21/21 [==============================] - 0s 8ms/step - loss: 0.2632 - accuracy: 0.8889 - val_loss: 0.4784 - val_accuracy: 0.7609\n",
            "Epoch 62/100\n",
            "21/21 [==============================] - 0s 8ms/step - loss: 0.2690 - accuracy: 0.8951 - val_loss: 0.4784 - val_accuracy: 0.7391\n",
            "Epoch 63/100\n",
            "21/21 [==============================] - 0s 11ms/step - loss: 0.2589 - accuracy: 0.9012 - val_loss: 0.4627 - val_accuracy: 0.7609\n",
            "Epoch 64/100\n",
            "21/21 [==============================] - 0s 9ms/step - loss: 0.2536 - accuracy: 0.9074 - val_loss: 0.4475 - val_accuracy: 0.7609\n",
            "Epoch 65/100\n",
            "21/21 [==============================] - 0s 9ms/step - loss: 0.2511 - accuracy: 0.9105 - val_loss: 0.4323 - val_accuracy: 0.7609\n",
            "Epoch 66/100\n",
            "21/21 [==============================] - 0s 9ms/step - loss: 0.2483 - accuracy: 0.9074 - val_loss: 0.4434 - val_accuracy: 0.7391\n",
            "Epoch 67/100\n",
            "21/21 [==============================] - 0s 10ms/step - loss: 0.2442 - accuracy: 0.9198 - val_loss: 0.4483 - val_accuracy: 0.7609\n",
            "Epoch 68/100\n",
            "21/21 [==============================] - 0s 8ms/step - loss: 0.2442 - accuracy: 0.9074 - val_loss: 0.4432 - val_accuracy: 0.7391\n",
            "Epoch 69/100\n",
            "21/21 [==============================] - 0s 9ms/step - loss: 0.2379 - accuracy: 0.9105 - val_loss: 0.4404 - val_accuracy: 0.7609\n",
            "Epoch 70/100\n",
            "21/21 [==============================] - 0s 8ms/step - loss: 0.2360 - accuracy: 0.9074 - val_loss: 0.4414 - val_accuracy: 0.7609\n",
            "Epoch 71/100\n",
            "21/21 [==============================] - 0s 8ms/step - loss: 0.2352 - accuracy: 0.9105 - val_loss: 0.4412 - val_accuracy: 0.7391\n",
            "Epoch 72/100\n",
            "21/21 [==============================] - 0s 9ms/step - loss: 0.2293 - accuracy: 0.9167 - val_loss: 0.4291 - val_accuracy: 0.7826\n",
            "Epoch 73/100\n",
            "21/21 [==============================] - 0s 9ms/step - loss: 0.2308 - accuracy: 0.9167 - val_loss: 0.4148 - val_accuracy: 0.7391\n",
            "Epoch 74/100\n",
            "21/21 [==============================] - 0s 9ms/step - loss: 0.2241 - accuracy: 0.9136 - val_loss: 0.4218 - val_accuracy: 0.7609\n",
            "Epoch 75/100\n",
            "21/21 [==============================] - 0s 9ms/step - loss: 0.2218 - accuracy: 0.9198 - val_loss: 0.4207 - val_accuracy: 0.7609\n",
            "Epoch 76/100\n",
            "21/21 [==============================] - 0s 9ms/step - loss: 0.2214 - accuracy: 0.9198 - val_loss: 0.3969 - val_accuracy: 0.7609\n",
            "Epoch 77/100\n",
            "21/21 [==============================] - 0s 9ms/step - loss: 0.2141 - accuracy: 0.9259 - val_loss: 0.4173 - val_accuracy: 0.7391\n",
            "Epoch 78/100\n",
            "21/21 [==============================] - 0s 9ms/step - loss: 0.2147 - accuracy: 0.9259 - val_loss: 0.4074 - val_accuracy: 0.7609\n",
            "Epoch 79/100\n",
            "21/21 [==============================] - 0s 9ms/step - loss: 0.2105 - accuracy: 0.9383 - val_loss: 0.4090 - val_accuracy: 0.7826\n",
            "Epoch 80/100\n",
            "21/21 [==============================] - 0s 9ms/step - loss: 0.2083 - accuracy: 0.9259 - val_loss: 0.4024 - val_accuracy: 0.7609\n",
            "Epoch 81/100\n",
            "21/21 [==============================] - 0s 9ms/step - loss: 0.2029 - accuracy: 0.9352 - val_loss: 0.3827 - val_accuracy: 0.7391\n",
            "Epoch 82/100\n",
            "21/21 [==============================] - 0s 9ms/step - loss: 0.2031 - accuracy: 0.9352 - val_loss: 0.3990 - val_accuracy: 0.7609\n",
            "Epoch 83/100\n",
            "21/21 [==============================] - 0s 10ms/step - loss: 0.2087 - accuracy: 0.9290 - val_loss: 0.3601 - val_accuracy: 0.8261\n",
            "Epoch 84/100\n",
            "21/21 [==============================] - 0s 9ms/step - loss: 0.2061 - accuracy: 0.9259 - val_loss: 0.3792 - val_accuracy: 0.8478\n",
            "Epoch 85/100\n",
            "21/21 [==============================] - 0s 9ms/step - loss: 0.1957 - accuracy: 0.9352 - val_loss: 0.3478 - val_accuracy: 0.7826\n",
            "Epoch 86/100\n",
            "21/21 [==============================] - 0s 10ms/step - loss: 0.1899 - accuracy: 0.9537 - val_loss: 0.3597 - val_accuracy: 0.8478\n",
            "Epoch 87/100\n",
            "21/21 [==============================] - 0s 9ms/step - loss: 0.1922 - accuracy: 0.9506 - val_loss: 0.3548 - val_accuracy: 0.8043\n",
            "Epoch 88/100\n",
            "21/21 [==============================] - 0s 7ms/step - loss: 0.1920 - accuracy: 0.9414 - val_loss: 0.3576 - val_accuracy: 0.8478\n",
            "Epoch 89/100\n",
            "21/21 [==============================] - 0s 8ms/step - loss: 0.1802 - accuracy: 0.9414 - val_loss: 0.3363 - val_accuracy: 0.8261\n",
            "Epoch 90/100\n",
            "21/21 [==============================] - 0s 8ms/step - loss: 0.1798 - accuracy: 0.9475 - val_loss: 0.3343 - val_accuracy: 0.8478\n",
            "Epoch 91/100\n",
            "21/21 [==============================] - 0s 7ms/step - loss: 0.1794 - accuracy: 0.9352 - val_loss: 0.3218 - val_accuracy: 0.8478\n",
            "Epoch 92/100\n",
            "21/21 [==============================] - 0s 8ms/step - loss: 0.1736 - accuracy: 0.9444 - val_loss: 0.3165 - val_accuracy: 0.8478\n",
            "Epoch 93/100\n",
            "21/21 [==============================] - 0s 8ms/step - loss: 0.1729 - accuracy: 0.9444 - val_loss: 0.3260 - val_accuracy: 0.8478\n",
            "Epoch 94/100\n",
            "21/21 [==============================] - 0s 7ms/step - loss: 0.1655 - accuracy: 0.9630 - val_loss: 0.2904 - val_accuracy: 0.8478\n",
            "Epoch 95/100\n",
            "21/21 [==============================] - 0s 9ms/step - loss: 0.1628 - accuracy: 0.9475 - val_loss: 0.3019 - val_accuracy: 0.8261\n",
            "Epoch 96/100\n",
            "21/21 [==============================] - 0s 10ms/step - loss: 0.1585 - accuracy: 0.9599 - val_loss: 0.2958 - val_accuracy: 0.8478\n",
            "Epoch 97/100\n",
            "21/21 [==============================] - 0s 9ms/step - loss: 0.1573 - accuracy: 0.9599 - val_loss: 0.2924 - val_accuracy: 0.8261\n",
            "Epoch 98/100\n",
            "21/21 [==============================] - 0s 9ms/step - loss: 0.1514 - accuracy: 0.9630 - val_loss: 0.2790 - val_accuracy: 0.8478\n",
            "Epoch 99/100\n",
            "21/21 [==============================] - 0s 8ms/step - loss: 0.1518 - accuracy: 0.9568 - val_loss: 0.3093 - val_accuracy: 0.8913\n",
            "Epoch 100/100\n",
            "21/21 [==============================] - 0s 9ms/step - loss: 0.1610 - accuracy: 0.9506 - val_loss: 0.3042 - val_accuracy: 0.8478\n"
          ]
        },
        {
          "output_type": "execute_result",
          "data": {
            "text/plain": [
              "<keras.callbacks.History at 0x7f042d7f19d0>"
            ]
          },
          "metadata": {},
          "execution_count": 39
        }
      ]
    },
    {
      "cell_type": "code",
      "source": [
        ""
      ],
      "metadata": {
        "id": "HBKFducIPhWI"
      },
      "execution_count": 20,
      "outputs": []
    },
    {
      "cell_type": "code",
      "source": [
        "test_predict = [np.argmax(item) for item in jordan.predict(test_x, batch_size=1)]"
      ],
      "metadata": {
        "id": "bGWBowhmRo1A"
      },
      "execution_count": 26,
      "outputs": []
    },
    {
      "cell_type": "code",
      "source": [
        "confusion_matrix(test_y, test_predict)"
      ],
      "metadata": {
        "colab": {
          "base_uri": "https://localhost:8080/"
        },
        "id": "27k8842TehGn",
        "outputId": "519d8fd2-925c-4d3f-bc09-99d431955183"
      },
      "execution_count": 27,
      "outputs": [
        {
          "output_type": "execute_result",
          "data": {
            "text/plain": [
              "array([[ 4, 17],\n",
              "       [ 9, 63]])"
            ]
          },
          "metadata": {},
          "execution_count": 27
        }
      ]
    }
  ],
  "metadata": {
    "colab": {
      "collapsed_sections": [],
      "name": "NN-HW5.ipynb",
      "toc_visible": true,
      "provenance": [],
      "authorship_tag": "ABX9TyNYZqoTaTfhfURN7btyP18J",
      "include_colab_link": true
    },
    "kernelspec": {
      "display_name": "Python 3",
      "name": "python3"
    },
    "language_info": {
      "name": "python"
    }
  },
  "nbformat": 4,
  "nbformat_minor": 0
}